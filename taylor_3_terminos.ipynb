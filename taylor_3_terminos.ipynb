{
 "cells": [
  {
   "cell_type": "markdown",
   "id": "41db43d6",
   "metadata": {
    "slideshow": {
     "slide_type": "slide"
    }
   },
   "source": [
    "<table align=\"left\">\n",
    "  <td>\n",
    "    <a href=\"https://colab.research.google.com/github/marco-canas/methods/blob/main/taylor_3_terminos.ipynb\" target=\"_parent\"><img src=\"https://colab.research.google.com/assets/colab-badge.svg\" alt=\"Open In Colab\"/></a>\n",
    "  </td>\n",
    "  <td>\n",
    "    <a target=\"_blank\" href=\"https://kaggle.com/kernels/welcome?src=https://github.com/marco-canas/methods/blob/main/taylor_3_terminos.ipynb\"><img src=\"https://kaggle.com/static/images/open-in-kaggle.svg\" /></a>\n",
    "  </td>\n",
    "</table>"
   ]
  },
  {
   "cell_type": "markdown",
   "id": "315baa32",
   "metadata": {
    "slideshow": {
     "slide_type": "slide"
    }
   },
   "source": [
    "# Método de Taylor en tres términos"
   ]
  },
  {
   "cell_type": "markdown",
   "id": "c39f1684",
   "metadata": {
    "slideshow": {
     "slide_type": "slide"
    }
   },
   "source": [
    "$$ y_{n+1} = y_{n} + y_{n}'h + y_{n}''\\frac{h^{2}}{2}, \\ \\ \\ \\  y_{0} = y(x_{0}) $$"
   ]
  },
  {
   "cell_type": "markdown",
   "id": "4e826459",
   "metadata": {
    "slideshow": {
     "slide_type": "slide"
    }
   },
   "source": [
    "## Deducción de la fórmula recursiva anterior"
   ]
  },
  {
   "cell_type": "markdown",
   "id": "a4daf73e",
   "metadata": {
    "slideshow": {
     "slide_type": "slide"
    }
   },
   "source": [
    "Ver página 669 de Cálculo de larson. "
   ]
  },
  {
   "cell_type": "markdown",
   "id": "bbd10591",
   "metadata": {
    "slideshow": {
     "slide_type": "slide"
    }
   },
   "source": [
    "## Objetivos "
   ]
  },
  {
   "cell_type": "markdown",
   "id": "17a58bd5",
   "metadata": {
    "slideshow": {
     "slide_type": "slide"
    }
   },
   "source": [
    "* Encontrar aproximaciones polinomiales de las funciones elementales y compararlas con las funciones elementales.\n",
    "* Encontrar aproximaciones mediante polinomios de Taylor y Maclaurin a funciones elementales."
   ]
  },
  {
   "cell_type": "markdown",
   "id": "47028548",
   "metadata": {
    "slideshow": {
     "slide_type": "slide"
    }
   },
   "source": [
    "## Aproximaciones polinomiales a funciones elementales"
   ]
  },
  {
   "cell_type": "markdown",
   "id": "8cf41f7d",
   "metadata": {
    "slideshow": {
     "slide_type": "slide"
    }
   },
   "source": [
    "El objetivo de esta sección es mostrar cómo pueden usarse las funciones polinomiales como aproximaciones a otras funciones elementales.   "
   ]
  },
  {
   "cell_type": "markdown",
   "id": "ee366c8b",
   "metadata": {
    "slideshow": {
     "slide_type": "slide"
    }
   },
   "source": [
    "Para encontrar una función polinomial que aproxime otra función se comienza por elegir un número $c$ en el dominio de $f$ en el que $P$ y $f$ tengan el mismo valor.   "
   ]
  },
  {
   "cell_type": "markdown",
   "id": "cfd016b6",
   "metadata": {
    "slideshow": {
     "slide_type": "slide"
    }
   },
   "source": [
    "Es decir\n",
    "\n",
    "$$ P(c) = F(c), \\ \\ \\ \\ \\text{Las gráficas de $P$ y $F$ pasan por $(c,f(c))$}  $$"
   ]
  },
  {
   "cell_type": "markdown",
   "id": "6fb27722",
   "metadata": {
    "slideshow": {
     "slide_type": "slide"
    }
   },
   "source": [
    "Se dice que la aproximación polinomial se expande alrededor de $c$ o está centrada en $c$.  "
   ]
  },
  {
   "cell_type": "markdown",
   "id": "241e4a11",
   "metadata": {
    "slideshow": {
     "slide_type": "slide"
    }
   },
   "source": [
    "Geométricamente, el requisito de que $P(c) = f(c)$ significa que la gráfica de $P$ debe pasar por el punto $(c, f(c))$. "
   ]
  },
  {
   "cell_type": "markdown",
   "id": "b6b24cb4",
   "metadata": {
    "slideshow": {
     "slide_type": "slide"
    }
   },
   "source": [
    "Por supuesto, hay muchos polinomios cuyas gráficas pasan por el punto $(c, f (c))$. "
   ]
  },
  {
   "cell_type": "markdown",
   "id": "405b77a4",
   "metadata": {
    "slideshow": {
     "slide_type": "slide"
    }
   },
   "source": [
    "## [Video de apoyo](https://www.youtube.com/watch?v=5YF3vbLtEws)"
   ]
  },
  {
   "cell_type": "markdown",
   "id": "835d749d",
   "metadata": {
    "slideshow": {
     "slide_type": "slide"
    }
   },
   "source": [
    "La tarea es encontrar un polinomio cuya gráfica se parezca a la gráfica de $f$ en la cercanía de este punto.   "
   ]
  },
  {
   "cell_type": "markdown",
   "id": "31da640d",
   "metadata": {
    "slideshow": {
     "slide_type": "slide"
    }
   },
   "source": [
    "Una manera de hacer esto es imponer el requisito adicional de que la pendiente de la función polinomial sea la misma que la pendiente de la gráfica de $f$ en el punto $(c, f (c))$.  \n",
    "\n",
    "$$ P'(c) = f'(c), \\ \\ \\ \\ \\text{Las gráficas de $f$ y $p$ tienen la misma pendiente en $(c,f(c))$} $$ "
   ]
  },
  {
   "cell_type": "markdown",
   "id": "14c76855",
   "metadata": {
    "slideshow": {
     "slide_type": "slide"
    }
   },
   "source": [
    "Con estos dos requisitos se puede obtener una aproximación lineal simple a $f$, como se muestra en la figura 9.10.\n"
   ]
  },
  {
   "cell_type": "markdown",
   "id": "bcf41f71",
   "metadata": {
    "slideshow": {
     "slide_type": "slide"
    }
   },
   "source": [
    "<img src = 'https://github.com/marco-canas/methods/blob/main/figura_9_10.png?raw=true'>"
   ]
  },
  {
   "cell_type": "markdown",
   "id": "8d900679",
   "metadata": {
    "slideshow": {
     "slide_type": "slide"
    }
   },
   "source": [
    "## EJEMPLO 1 Aproximación a mediante un polinomio de primer grado"
   ]
  },
  {
   "cell_type": "markdown",
   "id": "65017904",
   "metadata": {
    "slideshow": {
     "slide_type": "slide"
    }
   },
   "source": [
    "Dada la función $f(x) = e^{x}$, encontrar una función polinomial de primer grado  \n",
    "\n",
    "$$ P_{1}(x) = a_{0} + a_{1}x $$\n",
    "\n",
    "cuyo valor y pendiente en $x = 0$ coinciden en el valor y la pendiente de $f$. "
   ]
  },
  {
   "cell_type": "markdown",
   "id": "42328d54",
   "metadata": {
    "slideshow": {
     "slide_type": "slide"
    }
   },
   "source": [
    "### Solución: "
   ]
  },
  {
   "cell_type": "markdown",
   "id": "2a8d6244",
   "metadata": {
    "slideshow": {
     "slide_type": "slide"
    }
   },
   "source": [
    "Como $f(x) = e^{x}$ y $f'(x) = e^{x}$, el valor y la pendiente de $f$ en $x = 0$ están dados por \n",
    "\n",
    "$$ f(0) = e^{0} = 1 $$\n",
    "\n",
    "y\n",
    "\n",
    "$$ f'(0) = e^{0} = 1. $$\n"
   ]
  },
  {
   "cell_type": "markdown",
   "id": "4b64e003",
   "metadata": {
    "slideshow": {
     "slide_type": "slide"
    }
   },
   "source": [
    "Como $P_{1}(x) = a_{0} + a_{1}x$, se puede usar la condición $P_{1}(0) = f(0)$, para concluir que $a_{0} = 1$. "
   ]
  },
  {
   "cell_type": "markdown",
   "id": "bbd95a77",
   "metadata": {
    "slideshow": {
     "slide_type": "slide"
    }
   },
   "source": [
    "Es más, como $P_{1}'(x) = a_{1}$, se puede usar la condición $P_{1}'(0) = f'(0)$ para concluir que $a_{1} = 1$. "
   ]
  },
  {
   "cell_type": "markdown",
   "id": "0060101e",
   "metadata": {
    "slideshow": {
     "slide_type": "slide"
    }
   },
   "source": [
    "Por consiguiente, \n",
    "\n",
    "$$ P_{1}(x) = 1 + x = f(0) + f'(0)x $$\n"
   ]
  },
  {
   "cell_type": "markdown",
   "id": "692f465c",
   "metadata": {
    "slideshow": {
     "slide_type": "slide"
    }
   },
   "source": [
    "La figura 9.11 muestra las gráficas de $P_{1}(x) = 1 + x$ y $f(x) = x$.  "
   ]
  },
  {
   "cell_type": "markdown",
   "id": "8f3c67ec",
   "metadata": {
    "slideshow": {
     "slide_type": "slide"
    }
   },
   "source": [
    "## Nota:  \n",
    "\n",
    "En el ejemplo 1 no es la primera vez que se usa una función lineal para aproximar otra función. El mismo procedimiento se usó como base para el método de Newton. "
   ]
  },
  {
   "cell_type": "markdown",
   "id": "91f23eec",
   "metadata": {
    "slideshow": {
     "slide_type": "slide"
    }
   },
   "source": [
    "En la figura 9.12 se puede ver que, en los puntos cercanos a $(0, 1)$, la gráfica de \n",
    "\n",
    "$$ P_{1}(x) = 1 + x \\ \\ \\ \\ \\text{aproximación de primer grado}. $$\n",
    "\n",
    "está razonablemente cerca a la gráfica de $f(x) = e^{x}$. "
   ]
  },
  {
   "cell_type": "markdown",
   "id": "b547dbce",
   "metadata": {
    "slideshow": {
     "slide_type": "slide"
    }
   },
   "source": [
    "Sin embargo, al alejarse de $(0,1)$, las gráficas se apartan y la precisión de a aproximación disminuye. "
   ]
  },
  {
   "cell_type": "markdown",
   "id": "961634f1",
   "metadata": {
    "slideshow": {
     "slide_type": "slide"
    }
   },
   "source": [
    "Para mejorar la aproximación se puede imponer otro requisito todavía: que los valores de las segundas derivadas de $P$ y $f$ sean iguales en $x = 0$. "
   ]
  },
  {
   "cell_type": "markdown",
   "id": "cb4992f7",
   "metadata": {
    "slideshow": {
     "slide_type": "slide"
    }
   },
   "source": [
    "El polinomio de menor grado, $P_{2}$, que satisface los tres requisitos, \n",
    "\n",
    "$$ P_{2}(0) = f(0), \\ \\ \\ \\ P_{2}'(0) = f'(0), \\ \\ \\ \\ \\text{y} \\ \\ \\ \\ P_{2}''(0) = f''(0), $$\n",
    "\n",
    "puede mostrarse que es:\n",
    "\n",
    "$$ P_{2}(x) = 1 + x + \\frac{1}{2}x^{2} \\ \\ \\ \\ \\text{Aproximación de segundo grado} $$\n"
   ]
  },
  {
   "cell_type": "markdown",
   "id": "1af56174",
   "metadata": {
    "slideshow": {
     "slide_type": "slide"
    }
   },
   "source": [
    "<img src = 'https://github.com/marco-canas/methods/blob/main/figura_9_12.png?raw=true'> "
   ]
  },
  {
   "cell_type": "markdown",
   "id": "a25a4e33",
   "metadata": {
    "slideshow": {
     "slide_type": "slide"
    }
   },
   "source": [
    "Es más, en la figura 9.12 se puede ver que $P_{2}$ es una mejor aproximación que $P_{1}$. Si se continúa con este patrón, requiriendo que los valores de $P_{n}(x)$ y de sus primeras $n$ derivadas coincidan con las de $f(x) = e^{x}$ en $x = 0$ se obtiene lo siguiente:\n",
    "\n",
    "\n",
    "$$ P_{n}(x) = 1 + x + \\frac{1}{2}x^{2} + \\frac{1}{3!}x^{3} + \\cdots + \\frac{1}{n!}x^{n} \\approx e^{x} $$\n"
   ]
  },
  {
   "cell_type": "markdown",
   "id": "b6b8372a",
   "metadata": {
    "slideshow": {
     "slide_type": "slide"
    }
   },
   "source": [
    "Continua en la página 670. "
   ]
  },
  {
   "cell_type": "code",
   "execution_count": null,
   "id": "b4ebac31",
   "metadata": {
    "slideshow": {
     "slide_type": "slide"
    }
   },
   "outputs": [],
   "source": []
  },
  {
   "cell_type": "code",
   "execution_count": null,
   "id": "bdb64c7c",
   "metadata": {
    "slideshow": {
     "slide_type": "slide"
    }
   },
   "outputs": [],
   "source": []
  },
  {
   "cell_type": "code",
   "execution_count": null,
   "id": "fab19d4b",
   "metadata": {
    "slideshow": {
     "slide_type": "slide"
    }
   },
   "outputs": [],
   "source": []
  },
  {
   "cell_type": "markdown",
   "id": "8ebe3b91",
   "metadata": {
    "slideshow": {
     "slide_type": "slide"
    }
   },
   "source": [
    "## Ejemplo  de aplicación de la fórmula de Taylor de los tres términos\n",
    "\n",
    "Usar la fórmula de Taylor de tres términos para obtener una aproximación al valor de $y(1.5)$ de la solución de $y'= 2xy$ ; $y(1) = 1$ utilizando $h = 0.1$."
   ]
  },
  {
   "cell_type": "markdown",
   "id": "da171c98",
   "metadata": {
    "slideshow": {
     "slide_type": "slide"
    }
   },
   "source": [
    "## Solución:"
   ]
  },
  {
   "cell_type": "code",
   "execution_count": 1,
   "id": "7f2ace15",
   "metadata": {
    "slideshow": {
     "slide_type": "slide"
    }
   },
   "outputs": [],
   "source": [
    "import numpy as np\n",
    "from sympy import * \n",
    "import pandas as pd "
   ]
  },
  {
   "cell_type": "markdown",
   "id": "18f61cc6",
   "metadata": {
    "slideshow": {
     "slide_type": "slide"
    }
   },
   "source": [
    "Empecemos determinando la solución exacta del PVI dado"
   ]
  },
  {
   "cell_type": "code",
   "execution_count": 2,
   "id": "92169be6",
   "metadata": {
    "slideshow": {
     "slide_type": "slide"
    }
   },
   "outputs": [],
   "source": [
    "x,y,yp,F = symbols('x,y,yp,F') # y' = 2xy = F(x,y) \n",
    "y = Function('y')(x)\n"
   ]
  },
  {
   "cell_type": "code",
   "execution_count": 3,
   "id": "2a9101bb",
   "metadata": {
    "slideshow": {
     "slide_type": "slide"
    }
   },
   "outputs": [],
   "source": [
    "eq = Eq(diff(y,x)-2*x*y,0)"
   ]
  },
  {
   "cell_type": "code",
   "execution_count": 4,
   "id": "7390b33a",
   "metadata": {
    "slideshow": {
     "slide_type": "slide"
    }
   },
   "outputs": [
    {
     "data": {
      "text/latex": [
       "$\\displaystyle y{\\left(x \\right)} = C_{1} e^{x^{2}}$"
      ],
      "text/plain": [
       "Eq(y(x), C1*exp(x**2))"
      ]
     },
     "execution_count": 4,
     "metadata": {},
     "output_type": "execute_result"
    }
   ],
   "source": [
    "sol_gen = dsolve(eq,y)\n",
    "sol_gen "
   ]
  },
  {
   "cell_type": "code",
   "execution_count": 5,
   "id": "41fb4ee2",
   "metadata": {
    "slideshow": {
     "slide_type": "slide"
    }
   },
   "outputs": [
    {
     "data": {
      "text/latex": [
       "$\\displaystyle 1 = e C_{1}$"
      ],
      "text/plain": [
       "Eq(1, E*C1)"
      ]
     },
     "execution_count": 5,
     "metadata": {},
     "output_type": "execute_result"
    }
   ],
   "source": [
    "eq_c = Eq( 1, sol_gen.rhs.subs({x:1}) ) \n",
    "eq_c "
   ]
  },
  {
   "cell_type": "code",
   "execution_count": 6,
   "id": "a289833a",
   "metadata": {
    "slideshow": {
     "slide_type": "slide"
    }
   },
   "outputs": [],
   "source": [
    "C1 = symbols('C1')"
   ]
  },
  {
   "cell_type": "code",
   "execution_count": 7,
   "id": "2c06e0be",
   "metadata": {
    "slideshow": {
     "slide_type": "slide"
    }
   },
   "outputs": [
    {
     "data": {
      "text/latex": [
       "$\\displaystyle e^{-1}$"
      ],
      "text/plain": [
       "exp(-1)"
      ]
     },
     "execution_count": 7,
     "metadata": {},
     "output_type": "execute_result"
    }
   ],
   "source": [
    "C1 = solve(eq_c,C1)\n",
    "C1 = C1[0] \n",
    "C1 "
   ]
  },
  {
   "cell_type": "code",
   "execution_count": 8,
   "id": "c8d6479c",
   "metadata": {
    "slideshow": {
     "slide_type": "slide"
    }
   },
   "outputs": [
    {
     "data": {
      "text/latex": [
       "$\\displaystyle e^{x^{2} - 1}$"
      ],
      "text/plain": [
       "exp(x**2 - 1)"
      ]
     },
     "execution_count": 8,
     "metadata": {},
     "output_type": "execute_result"
    }
   ],
   "source": [
    "sol_pvi = exp(x**2 - 1)\n",
    "sol_pvi "
   ]
  },
  {
   "cell_type": "code",
   "execution_count": null,
   "id": "8bef702d",
   "metadata": {
    "slideshow": {
     "slide_type": "skip"
    }
   },
   "outputs": [],
   "source": []
  },
  {
   "cell_type": "markdown",
   "id": "569b2dcc",
   "metadata": {
    "slideshow": {
     "slide_type": "slide"
    }
   },
   "source": [
    "## Solución numérica con la utilización de la función `integrate()`"
   ]
  },
  {
   "cell_type": "code",
   "execution_count": 9,
   "id": "3a0441d5",
   "metadata": {
    "slideshow": {
     "slide_type": "slide"
    }
   },
   "outputs": [],
   "source": [
    "import numpy as np \n",
    "from sympy import * \n",
    "import pandas as pd \n",
    "x,y,yp,F = symbols('x,y,yp,F') \n",
    "y = Function('y')(x)\n",
    "yp = Function('yp')\n",
    "#F = input('Entre la función F(x,y): ')"
   ]
  },
  {
   "cell_type": "code",
   "execution_count": 10,
   "id": "97e7ff6a",
   "metadata": {
    "slideshow": {
     "slide_type": "slide"
    }
   },
   "outputs": [],
   "source": [
    "def integrate():   # y' = F(x,y) \n",
    "    \"\"\"\n",
    "    \n",
    "     \"\"\"\n",
    "   \n",
    "    X = []\n",
    "    Y = []\n",
    "    Y_exact = []\n",
    "    x0 = 1\n",
    "    y0 = 1\n",
    "    X.append(x0)\n",
    "    Y.append(y0)\n",
    "    Y_exact.append(np.exp(x0**2 - 1))  # y' = 2xy\n",
    "    h = 0.1\n",
    "    x = x0\n",
    "    y = y0\n",
    "    xStop = 1.5\n",
    "    while x < xStop:\n",
    "        h = min(h, xStop - x)\n",
    "        yp = lambda x,y: 2*x*y                   # F(x,y) \n",
    "        ypp = lambda x, y, yp: 2*x*yp(x,y) + 2*y \n",
    "        y = y + yp(x,y)*h + ypp(x,y,yp)*h**2/2\n",
    "        x = x + h \n",
    "        X.append(x)\n",
    "        Y.append(y)\n",
    "        y_exac = np.exp(x**2-1)\n",
    "        Y_exact.append(y_exac) \n",
    "    Error = np.abs(np.array(Y) - Y_exact)    \n",
    "    return np.array(X),np.array(Y), np.array(Y_exact), Error  "
   ]
  },
  {
   "cell_type": "code",
   "execution_count": 11,
   "id": "efabd3c9",
   "metadata": {
    "slideshow": {
     "slide_type": "slide"
    }
   },
   "outputs": [],
   "source": [
    "X, Y, Y_exact, Error = integrate() "
   ]
  },
  {
   "cell_type": "code",
   "execution_count": 12,
   "id": "7c4ff8d3",
   "metadata": {
    "slideshow": {
     "slide_type": "slide"
    }
   },
   "outputs": [],
   "source": [
    "Error = (Error/Y_exact)*100"
   ]
  },
  {
   "cell_type": "code",
   "execution_count": 13,
   "id": "e970c314",
   "metadata": {
    "slideshow": {
     "slide_type": "slide"
    }
   },
   "outputs": [
    {
     "data": {
      "text/html": [
       "<div>\n",
       "<style scoped>\n",
       "    .dataframe tbody tr th:only-of-type {\n",
       "        vertical-align: middle;\n",
       "    }\n",
       "\n",
       "    .dataframe tbody tr th {\n",
       "        vertical-align: top;\n",
       "    }\n",
       "\n",
       "    .dataframe thead th {\n",
       "        text-align: right;\n",
       "    }\n",
       "</style>\n",
       "<table border=\"1\" class=\"dataframe\">\n",
       "  <thead>\n",
       "    <tr style=\"text-align: right;\">\n",
       "      <th></th>\n",
       "      <th>X</th>\n",
       "      <th>Solución aproximada Y</th>\n",
       "      <th>Solución exacta Y</th>\n",
       "      <th>error</th>\n",
       "    </tr>\n",
       "  </thead>\n",
       "  <tbody>\n",
       "    <tr>\n",
       "      <th>0</th>\n",
       "      <td>1.0</td>\n",
       "      <td>1.000000</td>\n",
       "      <td>1.000000</td>\n",
       "      <td>0.000000</td>\n",
       "    </tr>\n",
       "    <tr>\n",
       "      <th>1</th>\n",
       "      <td>1.1</td>\n",
       "      <td>1.230000</td>\n",
       "      <td>1.233678</td>\n",
       "      <td>0.298138</td>\n",
       "    </tr>\n",
       "    <tr>\n",
       "      <th>2</th>\n",
       "      <td>1.2</td>\n",
       "      <td>1.542666</td>\n",
       "      <td>1.552707</td>\n",
       "      <td>0.646691</td>\n",
       "    </tr>\n",
       "    <tr>\n",
       "      <th>3</th>\n",
       "      <td>1.3</td>\n",
       "      <td>1.972761</td>\n",
       "      <td>1.993716</td>\n",
       "      <td>1.051015</td>\n",
       "    </tr>\n",
       "    <tr>\n",
       "      <th>4</th>\n",
       "      <td>1.4</td>\n",
       "      <td>2.572086</td>\n",
       "      <td>2.611696</td>\n",
       "      <td>1.516651</td>\n",
       "    </tr>\n",
       "    <tr>\n",
       "      <th>5</th>\n",
       "      <td>1.5</td>\n",
       "      <td>3.418817</td>\n",
       "      <td>3.490343</td>\n",
       "      <td>2.049255</td>\n",
       "    </tr>\n",
       "  </tbody>\n",
       "</table>\n",
       "</div>"
      ],
      "text/plain": [
       "     X  Solución aproximada Y  Solución exacta Y     error\n",
       "0  1.0               1.000000           1.000000  0.000000\n",
       "1  1.1               1.230000           1.233678  0.298138\n",
       "2  1.2               1.542666           1.552707  0.646691\n",
       "3  1.3               1.972761           1.993716  1.051015\n",
       "4  1.4               2.572086           2.611696  1.516651\n",
       "5  1.5               3.418817           3.490343  2.049255"
      ]
     },
     "execution_count": 13,
     "metadata": {},
     "output_type": "execute_result"
    }
   ],
   "source": [
    "df = pd.DataFrame({'X':X, 'Solución aproximada Y':Y, 'Solución exacta Y':Y_exact, 'error':Error})\n",
    "df "
   ]
  },
  {
   "cell_type": "code",
   "execution_count": 14,
   "id": "54eaf28b",
   "metadata": {
    "slideshow": {
     "slide_type": "slide"
    }
   },
   "outputs": [
    {
     "data": {
      "image/png": "[encoded data removed]",
      "text/plain": [
       "<Figure size 432x288 with 1 Axes>"
      ]
     },
     "metadata": {
      "needs_background": "light"
     },
     "output_type": "display_data"
    }
   ],
   "source": [
    "import matplotlib.pyplot as plt\n",
    "\n",
    "fig = plt.figure()\n",
    "\n",
    "ax = fig.add_subplot()\n",
    "\n",
    "ax.plot(X,Y)\n",
    "\n",
    "ax.plot(X,Y_exact)\n",
    "ax.grid()\n",
    "\n",
    "plt.savefig('comparacion.jpg')\n",
    "\n",
    "plt.show()"
   ]
  },
  {
   "cell_type": "markdown",
   "id": "22d19dff",
   "metadata": {
    "slideshow": {
     "slide_type": "slide"
    }
   },
   "source": [
    "## Referentes:\n",
    "\n",
    "* Larson. "
   ]
  },
  {
   "cell_type": "code",
   "execution_count": null,
   "id": "5b389cf8",
   "metadata": {
    "slideshow": {
     "slide_type": "skip"
    }
   },
   "outputs": [],
   "source": []
  }
 ],
 "metadata": {
  "celltoolbar": "Slideshow",
  "kernelspec": {
   "display_name": "Python 3",
   "language": "python",
   "name": "python3"
  },
  "language_info": {
   "codemirror_mode": {
    "name": "ipython",
    "version": 3
   },
   "file_extension": ".py",
   "mimetype": "text/x-python",
   "name": "python",
   "nbconvert_exporter": "python",
   "pygments_lexer": "ipython3",
   "version": "3.8.8"
  },
  "latex_envs": {
   "LaTeX_envs_menu_present": true,
   "autoclose": false,
   "autocomplete": false,
   "bibliofile": "biblio.bib",
   "cite_by": "apalike",
   "current_citInitial": 1,
   "eqLabelWithNumbers": true,
   "eqNumInitial": 1,
   "hotkeys": {
    "equation": "Ctrl-E",
    "itemize": "Ctrl-I"
   },
   "labels_anchors": false,
   "latex_user_defs": false,
   "report_style_numbering": false,
   "user_envs_cfg": false
  },
  "rise": {
   "enable_chalkboard": true,
   "theme": "sky",
   "transition": "zoom"
  }
 },
 "nbformat": 4,
 "nbformat_minor": 5
}
