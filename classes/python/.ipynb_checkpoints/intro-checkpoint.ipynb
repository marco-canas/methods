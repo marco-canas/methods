{
 "cells": [
  {
   "cell_type": "markdown",
   "id": "ef36bd04",
   "metadata": {},
   "source": [
    "# [Una introducción informal a Python](https://docs.python.org/3/tutorial/introduction.html)"
   ]
  },
  {
   "cell_type": "markdown",
   "id": "714320ea",
   "metadata": {},
   "source": [
    "En los siguientes ejemplos, la entrada y la salida se distinguen por la presencia o ausencia de mensajes (>>> y ...): para repetir el ejemplo, debe escribir todo después del mensaje, cuando aparece el mensaje; las líneas que no comienzan con un mensaje se generan del intérprete. "
   ]
  },
  {
   "cell_type": "markdown",
   "id": "4895d654",
   "metadata": {},
   "source": [
    "Tenga en cuenta que un mensaje secundario en una línea por sí mismo en un ejemplo significa que debe escribir una línea en blanco; esto se utiliza para finalizar un comando multilínda.\n",
    "\n",
    "Puede alternar la visualización de las indicaciones y la salida haciendo clic en la esquina superior derecha de un cuadro de ejemplo. Si oculta las indicaciones y la salida para un ejemplo, puede copiar y pegar fácilmente las líneas de entrada en su intérprete.>>>\n",
    "\n",
    "Muchos de los ejemplos de este manual, incluso los que se introducen en el símbolo interactivo, incluyen comentarios. Los comentarios en Python comienzan con el carácter hash y se extienden hasta el final de la línea física. Un comentario puede aparecer al principio de una línea o siguiendo el espacio en blanco o el código, pero no dentro de un literal de cadena. Un carácter hash dentro de un literal de cadena es solo un carácter hash. Dado que los comentarios son para aclarar el código y no son interpretados por Python, pueden omitirse al escribir ejemplos.#\n",
    "\n",
    "Algunos ejemplos:"
   ]
  },
  {
   "cell_type": "code",
   "execution_count": 1,
   "id": "93ab1c84",
   "metadata": {},
   "outputs": [],
   "source": [
    "# this is the first comment\n",
    "spam = 1  # and this is the second comment\n",
    "          # ... and now a third!\n",
    "text = \"# This is not a comment because it's inside quotes.\" "
   ]
  },
  {
   "cell_type": "markdown",
   "id": "c6152466",
   "metadata": {},
   "source": [
    "## 3.1. Uso de Python como calculadora"
   ]
  },
  {
   "cell_type": "markdown",
   "id": "3b5a15db",
   "metadata": {},
   "source": [
    "Probemos algunos comandos simples de Python. Inicie el intérprete y espere el mensaje principal, . (No debería tomar mucho tiempo).>>>"
   ]
  },
  {
   "cell_type": "markdown",
   "id": "94bc1501",
   "metadata": {},
   "source": [
    "### 3.1.1. Números"
   ]
  },
  {
   "cell_type": "markdown",
   "id": "23e682f8",
   "metadata": {},
   "source": [
    "El intérprete actúa como una simple calculadora: puede escribir una expresión en ella y escribirá el valor. "
   ]
  },
  {
   "cell_type": "markdown",
   "id": "c6514c0d",
   "metadata": {},
   "source": [
    "La sintaxis de la expresión es sencilla: los operadores , , y funcionan como en la mayoría de los otros lenguajes (por ejemplo, Pascal o C); los paréntesis () se pueden utilizar para agrupar. "
   ]
  },
  {
   "cell_type": "markdown",
   "id": "4e296b94",
   "metadata": {},
   "source": [
    "Por ejemplo:`+-*/()`"
   ]
  },
  {
   "cell_type": "code",
   "execution_count": 2,
   "id": "f8e6daac",
   "metadata": {},
   "outputs": [
    {
     "data": {
      "text/plain": [
       "4"
      ]
     },
     "execution_count": 2,
     "metadata": {},
     "output_type": "execute_result"
    }
   ],
   "source": [
    "2+2"
   ]
  },
  {
   "cell_type": "code",
   "execution_count": 3,
   "id": "c9514f96",
   "metadata": {},
   "outputs": [
    {
     "data": {
      "text/plain": [
       "20"
      ]
     },
     "execution_count": 3,
     "metadata": {},
     "output_type": "execute_result"
    }
   ],
   "source": [
    "50-5*6"
   ]
  },
  {
   "cell_type": "code",
   "execution_count": 4,
   "id": "4b8a53e5",
   "metadata": {},
   "outputs": [
    {
     "data": {
      "text/plain": [
       "5.0"
      ]
     },
     "execution_count": 4,
     "metadata": {},
     "output_type": "execute_result"
    }
   ],
   "source": [
    "(50-5*6)/4"
   ]
  },
  {
   "cell_type": "code",
   "execution_count": null,
   "id": "5d1146db",
   "metadata": {},
   "outputs": [],
   "source": [
    "8/5   # division always returns a floating point number"
   ]
  },
  {
   "cell_type": "markdown",
   "id": "545ecbae",
   "metadata": {},
   "source": [
    "Los números enteros (por ejemplo, , , ) tienen tipo `int`, los que tienen una parte fraccionaria (por ejemplo, , ) tienen tipo `float`. Veremos más sobre los tipos numéricos más adelante en el tutorial.24205.01.6\n",
    "\n",
    "La división () siempre devuelve un flotador. Para hacer la división del piso y obtener un resultado entero (descartando cualquier resultado fraccionario) se puede utilizar el operador `//`; para calcular el resto puede utilizar :`%`"
   ]
  },
  {
   "cell_type": "code",
   "execution_count": 5,
   "id": "15193ec2",
   "metadata": {},
   "outputs": [
    {
     "data": {
      "text/plain": [
       "5.666666666666667"
      ]
     },
     "execution_count": 5,
     "metadata": {},
     "output_type": "execute_result"
    }
   ],
   "source": [
    "17/3    # classic division returns a float "
   ]
  },
  {
   "cell_type": "code",
   "execution_count": 7,
   "id": "b7781978",
   "metadata": {},
   "outputs": [
    {
     "data": {
      "text/plain": [
       "5"
      ]
     },
     "execution_count": 7,
     "metadata": {},
     "output_type": "execute_result"
    }
   ],
   "source": [
    "17//3   # floor division discards the fractional part"
   ]
  },
  {
   "cell_type": "code",
   "execution_count": null,
   "id": "4c19f617",
   "metadata": {},
   "outputs": [],
   "source": []
  },
  {
   "cell_type": "code",
   "execution_count": null,
   "id": "b4f1f395",
   "metadata": {},
   "outputs": [],
   "source": []
  },
  {
   "cell_type": "code",
   "execution_count": null,
   "id": "3f32e6d4",
   "metadata": {},
   "outputs": [],
   "source": []
  },
  {
   "cell_type": "code",
   "execution_count": null,
   "id": "95758076",
   "metadata": {},
   "outputs": [],
   "source": []
  },
  {
   "cell_type": "code",
   "execution_count": null,
   "id": "f4373623",
   "metadata": {},
   "outputs": [],
   "source": []
  }
 ],
 "metadata": {
  "kernelspec": {
   "display_name": "Python 3",
   "language": "python",
   "name": "python3"
  },
  "language_info": {
   "codemirror_mode": {
    "name": "ipython",
    "version": 3
   },
   "file_extension": ".py",
   "mimetype": "text/x-python",
   "name": "python",
   "nbconvert_exporter": "python",
   "pygments_lexer": "ipython3",
   "version": "3.8.8"
  },
  "latex_envs": {
   "LaTeX_envs_menu_present": true,
   "autoclose": false,
   "autocomplete": false,
   "bibliofile": "biblio.bib",
   "cite_by": "apalike",
   "current_citInitial": 1,
   "eqLabelWithNumbers": true,
   "eqNumInitial": 1,
   "hotkeys": {
    "equation": "Ctrl-E",
    "itemize": "Ctrl-I"
   },
   "labels_anchors": false,
   "latex_user_defs": false,
   "report_style_numbering": false,
   "user_envs_cfg": false
  }
 },
 "nbformat": 4,
 "nbformat_minor": 5
}
