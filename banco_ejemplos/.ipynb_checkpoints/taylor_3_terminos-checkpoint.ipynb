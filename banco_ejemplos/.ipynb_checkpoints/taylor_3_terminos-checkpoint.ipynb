{
 "cells": [
  {
   "cell_type": "markdown",
   "id": "41db43d6",
   "metadata": {
    "slideshow": {
     "slide_type": "slide"
    }
   },
   "source": [
    "<table align=\"left\">\n",
    "  <td>\n",
    "    <a href=\"https://colab.research.google.com/github/marco-canas/methods/blob/main/taylor_3_terminos.ipynb\" target=\"_parent\"><img src=\"https://colab.research.google.com/assets/colab-badge.svg\" alt=\"Open In Colab\"/></a>\n",
    "  </td>\n",
    "  <td>\n",
    "    <a target=\"_blank\" href=\"https://kaggle.com/kernels/welcome?src=https://github.com/marco-canas/methods/blob/main/taylor_3_terminos.ipynb\"><img src=\"https://kaggle.com/static/images/open-in-kaggle.svg\" /></a>\n",
    "  </td>\n",
    "</table>"
   ]
  },
  {
   "cell_type": "markdown",
   "id": "315baa32",
   "metadata": {
    "slideshow": {
     "slide_type": "slide"
    }
   },
   "source": [
    "# Método de Taylor en tres términos"
   ]
  },
  {
   "cell_type": "markdown",
   "id": "c39f1684",
   "metadata": {
    "slideshow": {
     "slide_type": "slide"
    }
   },
   "source": [
    "$$ y_{n+1} = y_{n} + y_{n}'h + y_{n}''\\frac{h^{2}}{2}, \\ \\ \\ \\  y_{0} = y(x_{0}) $$"
   ]
  },
  {
   "cell_type": "markdown",
   "id": "405b77a4",
   "metadata": {
    "slideshow": {
     "slide_type": "slide"
    }
   },
   "source": [
    "### [Primer Video de apoyo](https://www.youtube.com/watch?v=5YF3vbLtEws)"
   ]
  },
  {
   "cell_type": "markdown",
   "id": "9ba2984d",
   "metadata": {
    "slideshow": {
     "slide_type": "slide"
    }
   },
   "source": [
    "### [Segundo video de apoyo](https://www.youtube.com/watch?v=GgxqtV5sxTU)"
   ]
  },
  {
   "cell_type": "markdown",
   "id": "4e826459",
   "metadata": {
    "slideshow": {
     "slide_type": "slide"
    }
   },
   "source": [
    "## Deducción de la fórmula recursiva anterior"
   ]
  },
  {
   "cell_type": "markdown",
   "id": "a4daf73e",
   "metadata": {
    "slideshow": {
     "slide_type": "slide"
    }
   },
   "source": [
    "Ver página 669 de Cálculo de larson. "
   ]
  },
  {
   "cell_type": "markdown",
   "id": "bbd10591",
   "metadata": {
    "slideshow": {
     "slide_type": "slide"
    }
   },
   "source": [
    "## Objetivos "
   ]
  },
  {
   "cell_type": "markdown",
   "id": "17a58bd5",
   "metadata": {
    "slideshow": {
     "slide_type": "slide"
    }
   },
   "source": [
    "* Mostrar que el método de Taylor de los tres términos consiste en aproximaciones polinomiales de grado 2 a la función \n",
    "  solución de un PVI de primer orden.\n"
   ]
  },
  {
   "cell_type": "markdown",
   "id": "47028548",
   "metadata": {
    "slideshow": {
     "slide_type": "slide"
    }
   },
   "source": [
    "## Aproximaciones polinomiales a funciones solución de PVI de primer orden "
   ]
  },
  {
   "cell_type": "markdown",
   "id": "ee366c8b",
   "metadata": {
    "slideshow": {
     "slide_type": "slide"
    }
   },
   "source": [
    "Para encontrar una función polinomial que aproxime otra función se comienza por elegir un número $c$ en el dominio de $y$ en el que $P$ y $y$ tengan el mismo valor.   "
   ]
  },
  {
   "cell_type": "markdown",
   "id": "cfd016b6",
   "metadata": {
    "slideshow": {
     "slide_type": "slide"
    }
   },
   "source": [
    "Es decir\n",
    "\n",
    "$$ P(c) = y(c), \\ \\ \\ \\ \\text{Las gráficas de $P$ y $y$ pasan por $(c,y(c))$}  $$"
   ]
  },
  {
   "cell_type": "markdown",
   "id": "6fb27722",
   "metadata": {
    "slideshow": {
     "slide_type": "slide"
    }
   },
   "source": [
    "Se dice que la aproximación polinomial se expande alrededor de $c$ o está centrada en $c$.  "
   ]
  },
  {
   "cell_type": "markdown",
   "id": "241e4a11",
   "metadata": {
    "slideshow": {
     "slide_type": "slide"
    }
   },
   "source": [
    "Geométricamente, el requisito de que $P(c) = y(c)$ significa que la gráfica de $P$ debe pasar por el punto $(c, y(c))$. "
   ]
  },
  {
   "cell_type": "markdown",
   "id": "b6b24cb4",
   "metadata": {
    "slideshow": {
     "slide_type": "slide"
    }
   },
   "source": [
    "Por supuesto, hay muchos polinomios cuyas gráficas pasan por el punto $(c, y(c))$. "
   ]
  },
  {
   "cell_type": "markdown",
   "id": "835d749d",
   "metadata": {
    "slideshow": {
     "slide_type": "slide"
    }
   },
   "source": [
    "La tarea es encontrar un polinomio cuya gráfica se parezca a la gráfica de $y$ en la cercanía de este punto.   "
   ]
  },
  {
   "cell_type": "markdown",
   "id": "31da640d",
   "metadata": {
    "slideshow": {
     "slide_type": "slide"
    }
   },
   "source": [
    "Una manera de hacer esto es imponer el requisito adicional de que la pendiente de la función polinomial sea la misma que la pendiente de la gráfica de $y$ en el punto $(c, y(c))$.  \n",
    "\n",
    "$$ P'(c) = y'(c), \\ \\ \\ \\ \\text{Las gráficas de $y$ y $p$ tienen la misma pendiente en $(c,y(c))$} $$ "
   ]
  },
  {
   "cell_type": "markdown",
   "id": "14c76855",
   "metadata": {
    "slideshow": {
     "slide_type": "slide"
    }
   },
   "source": [
    "Con estos dos requisitos se puede obtener una aproximación lineal simple a $y$, como se muestra en la figura 9.10.\n"
   ]
  },
  {
   "cell_type": "markdown",
   "id": "bcf41f71",
   "metadata": {
    "slideshow": {
     "slide_type": "slide"
    }
   },
   "source": [
    "<img src = 'https://github.com/marco-canas/methods/blob/main/banco_ejemplos/figura_9_10.png?raw=true'>"
   ]
  },
  {
   "cell_type": "markdown",
   "id": "8d900679",
   "metadata": {
    "slideshow": {
     "slide_type": "slide"
    }
   },
   "source": [
    "## EJEMPLO 1 Aproximación a mediante un polinomio de primer grado"
   ]
  },
  {
   "cell_type": "markdown",
   "id": "65017904",
   "metadata": {
    "slideshow": {
     "slide_type": "slide"
    }
   },
   "source": [
    "Dada la función $y(x) = e^{x}$, encontrar una función polinomial de primer grado  \n",
    "\n",
    "$$ P_{1}(x) = a_{0} + a_{1}x $$\n",
    "\n",
    "cuyo valor y pendiente en $c = 0$ coinciden en el valor y la pendiente de $y$. "
   ]
  },
  {
   "cell_type": "markdown",
   "id": "42328d54",
   "metadata": {
    "slideshow": {
     "slide_type": "slide"
    }
   },
   "source": [
    "### Solución: "
   ]
  },
  {
   "cell_type": "markdown",
   "id": "2a8d6244",
   "metadata": {
    "slideshow": {
     "slide_type": "slide"
    }
   },
   "source": [
    "Como $y(x) = e^{x}$ y $y'(x) = e^{x}$, el valor y la pendiente de $y$ en $x = 0$ están dados por \n",
    "\n",
    "$$ y(0) = e^{0} = 1 $$\n",
    "\n",
    "y\n",
    "\n",
    "$$ y'(0) = e^{0} = 1. $$\n"
   ]
  },
  {
   "cell_type": "markdown",
   "id": "4b64e003",
   "metadata": {
    "slideshow": {
     "slide_type": "slide"
    }
   },
   "source": [
    "Como $P_{1}(x) = a_{0} + a_{1}x$, se puede usar la condición $P_{1}(0) = f(0)$, para concluir que $a_{0} = 1$. "
   ]
  },
  {
   "cell_type": "markdown",
   "id": "bbd95a77",
   "metadata": {
    "slideshow": {
     "slide_type": "slide"
    }
   },
   "source": [
    "Es más, como $P_{1}'(x) = a_{1}$, se puede usar la condición $P_{1}'(0) = f'(0)$ para concluir que $a_{1} = 1$. "
   ]
  },
  {
   "cell_type": "markdown",
   "id": "0060101e",
   "metadata": {
    "slideshow": {
     "slide_type": "slide"
    }
   },
   "source": [
    "Por consiguiente, \n",
    "\n",
    "$$ P_{1}(x) = 1 + x = f(0) + f'(0)x $$\n"
   ]
  },
  {
   "cell_type": "markdown",
   "id": "692f465c",
   "metadata": {
    "slideshow": {
     "slide_type": "slide"
    }
   },
   "source": [
    "La figura 9.11 muestra las gráficas de $P_{1}(x) = 1 + x$ y $f(x) = x$.  "
   ]
  },
  {
   "cell_type": "markdown",
   "id": "8f3c67ec",
   "metadata": {
    "slideshow": {
     "slide_type": "slide"
    }
   },
   "source": [
    "## Nota:  \n",
    "\n",
    "En el ejemplo 1 no es la primera vez que se usa una función lineal para aproximar otra función. El mismo procedimiento se usó como base para el método de Newton. "
   ]
  },
  {
   "cell_type": "markdown",
   "id": "91f23eec",
   "metadata": {
    "slideshow": {
     "slide_type": "slide"
    }
   },
   "source": [
    "En la figura 9.12 se puede ver que, en los puntos cercanos a $(0, 1)$, la gráfica de \n",
    "\n",
    "$$ P_{1}(x) = 1 + x \\ \\ \\ \\ \\text{aproximación de primer grado}. $$\n",
    "\n",
    "está razonablemente cerca a la gráfica de $f(x) = e^{x}$. "
   ]
  },
  {
   "cell_type": "markdown",
   "id": "b547dbce",
   "metadata": {
    "slideshow": {
     "slide_type": "slide"
    }
   },
   "source": [
    "**Nota importante:**\n",
    "\n",
    "Sin embargo, al alejarse de $(0,1)$, las gráficas se apartan y la precisión de a aproximación disminuye. "
   ]
  },
  {
   "cell_type": "markdown",
   "id": "961634f1",
   "metadata": {
    "slideshow": {
     "slide_type": "slide"
    }
   },
   "source": [
    "Para mejorar la aproximación se puede imponer otro requisito todavía: que los valores de las segundas derivadas de $P$ y $f$ sean iguales en $x = 0$. "
   ]
  },
  {
   "cell_type": "markdown",
   "id": "cb4992f7",
   "metadata": {
    "slideshow": {
     "slide_type": "slide"
    }
   },
   "source": [
    "El polinomio de menor grado, $P_{2}$, que satisface los tres requisitos, \n",
    "\n",
    "$$ P_{2}(0) = f(0), \\ \\ \\ \\ P_{2}'(0) = f'(0), \\ \\ \\ \\ \\text{y} \\ \\ \\ \\ P_{2}''(0) = f''(0), $$\n",
    "\n",
    "puede mostrarse que es:\n",
    "\n",
    "$$ P_{2}(x) = 1 + x + \\frac{1}{2}x^{2} \\ \\ \\ \\ \\text{Aproximación de segundo grado} $$\n"
   ]
  },
  {
   "cell_type": "markdown",
   "id": "1af56174",
   "metadata": {
    "slideshow": {
     "slide_type": "slide"
    }
   },
   "source": [
    "<img src = 'https://github.com/marco-canas/methods/blob/main/figura_9_12.png?raw=true'> "
   ]
  },
  {
   "cell_type": "markdown",
   "id": "a25a4e33",
   "metadata": {
    "slideshow": {
     "slide_type": "slide"
    }
   },
   "source": [
    "Es más, en la figura 9.12 se puede ver que $P_{2}$ es una mejor aproximación que $P_{1}$. Si se continúa con este patrón, requiriendo que los valores de $P_{n}(x)$ y de sus primeras $n$ derivadas coincidan con las de $f(x) = e^{x}$ en $x = 0$ se obtiene lo siguiente:\n",
    "\n",
    "\n",
    "$$ P_{n}(x) = 1 + x + \\frac{1}{2}x^{2} + \\frac{1}{3!}x^{3} + \\cdots + \\frac{1}{n!}x^{n} \\approx e^{x} $$\n"
   ]
  },
  {
   "cell_type": "markdown",
   "id": "b6b8372a",
   "metadata": {
    "slideshow": {
     "slide_type": "slide"
    }
   },
   "source": [
    "Continua en la página 670. "
   ]
  },
  {
   "cell_type": "markdown",
   "id": "0a9901c5",
   "metadata": {
    "slideshow": {
     "slide_type": "slide"
    }
   },
   "source": [
    "## Ejemplo 2 a $f(x) = e^{x}$ mediante un polinomio de tercer grado. "
   ]
  },
  {
   "cell_type": "markdown",
   "id": "4f0e2264",
   "metadata": {
    "slideshow": {
     "slide_type": "slide"
    }
   },
   "source": [
    "Construir una tabla que compare los valores del polinomio \n",
    "\n",
    "$$ P_{3}(x) = 1 + x + \\frac{1}{2}x^{2} + \\frac{1}{3!}x^{3} \\ \\ \\ \\ \\text{aproximación de tercer grado} $$\n",
    "\n",
    "con $f(x) = e^{x}$ para varios valores de $x$ cercanos a cero. \n"
   ]
  },
  {
   "cell_type": "markdown",
   "id": "9ed30598",
   "metadata": {
    "slideshow": {
     "slide_type": "slide"
    }
   },
   "source": [
    "### Solución: "
   ]
  },
  {
   "cell_type": "markdown",
   "id": "e6b5d3d9",
   "metadata": {
    "slideshow": {
     "slide_type": "slide"
    }
   },
   "source": [
    "## Deduzcamos la fórmula recursiva del método de Taylor de tres términos"
   ]
  },
  {
   "cell_type": "markdown",
   "id": "b4a14d13",
   "metadata": {
    "slideshow": {
     "slide_type": "slide"
    }
   },
   "source": [
    "$x_{0} = 1$  \n",
    "\n",
    "$$ y(x) \\approx P_{2}(x) = y(x_{0}) + y'(x_{0})(x-x_{0}) + \\frac{1}{2}y''(x_{0})(x - x_{0})^{2}  $$\n",
    "\n",
    "de la página 671 de Larson. Defini]ción de polinomio de Taylor de una función $y(x)$ centrado en $x_{0}$. "
   ]
  },
  {
   "cell_type": "markdown",
   "id": "a342c1ce",
   "metadata": {
    "slideshow": {
     "slide_type": "slide"
    }
   },
   "source": [
    "Si $x = x_{1}$\n",
    "\n",
    "$$ y_{1} = y(x_{1}) \\approx P_{2}(x_{1}) = y(x_{0}) + y'(x_{0})(x_{1}-x_{0}) + \\frac{1}{2}y''(x_{0})(x_{1} - x_{0})^{2}  $$\n",
    "\n",
    "$$ y_{1} = y(x_{1}) \\approx P_{2}(x_{1}) = y(x_{0}) + y'(x_{0})h + \\frac{1}{2}y''(x_{0})h^{2}  $$\n",
    "\n"
   ]
  },
  {
   "cell_type": "markdown",
   "id": "6e5d1088",
   "metadata": {
    "slideshow": {
     "slide_type": "slide"
    }
   },
   "source": [
    "Si $x = x_{2}$\n",
    "\n",
    "$$ y_{2} = y(x_{2}) \\approx P_{2}(x_{2}) = y(x_{1}) + y'(x_{1})(x_{2}-x_{1}) + \\frac{1}{2}y''(x_{1})(x_{2} - x_{1})^{2}  $$\n",
    "\n",
    "$$ y_{2} = y(x_{2}) \\approx P_{2}(x_{2}) = y(x_{1}) + y'(x_{1})h + \\frac{1}{2}y''(x_{1})h^{2}  $$\n"
   ]
  },
  {
   "cell_type": "code",
   "execution_count": null,
   "id": "fa4c63da",
   "metadata": {
    "slideshow": {
     "slide_type": "slide"
    }
   },
   "outputs": [],
   "source": []
  },
  {
   "cell_type": "markdown",
   "id": "8ebe3b91",
   "metadata": {
    "slideshow": {
     "slide_type": "slide"
    }
   },
   "source": [
    "## Ejemplo  de aplicación de la fórmula de Taylor de los tres términos\n",
    "\n",
    "Usar la fórmula de Taylor de tres términos para obtener una aproximación al valor de $y(1.5)$ de la solución de $y'= 2xy$ ; $y(1) = 1$ utilizando $h = 0.1$."
   ]
  },
  {
   "cell_type": "markdown",
   "id": "b613376f",
   "metadata": {
    "slideshow": {
     "slide_type": "slide"
    }
   },
   "source": [
    "$$ y_{n+1} = y_{n} + y_{n}'h + \\frac{1}{2}y_{n}''h^{2}, \\ \\ \\ y_{0} = y(1) = 1 $$"
   ]
  },
  {
   "cell_type": "markdown",
   "id": "5a2221fb",
   "metadata": {
    "slideshow": {
     "slide_type": "slide"
    }
   },
   "source": [
    "$$y(x) \\approx P_{2}(x) = a_{0} + a_{1}x + a_{2}x^{2} = y(x_{0}) + y'(x_{0})x + \\frac{1}{2}y''(x_{0})x^{2} $$"
   ]
  },
  {
   "cell_type": "markdown",
   "id": "da171c98",
   "metadata": {
    "slideshow": {
     "slide_type": "slide"
    }
   },
   "source": [
    "## Solución:"
   ]
  },
  {
   "cell_type": "markdown",
   "id": "bfceec44",
   "metadata": {
    "slideshow": {
     "slide_type": "slide"
    }
   },
   "source": [
    "### Construcción de función intagrate() "
   ]
  },
  {
   "cell_type": "markdown",
   "id": "66bec213",
   "metadata": {
    "slideshow": {
     "slide_type": "slide"
    }
   },
   "source": [
    "Para la determinación de la solución numérica utilizaré las variables $x_$ y $y_$, mientras que para el cálculo de la solución analítica utilizaré las variables x e y. "
   ]
  },
  {
   "cell_type": "code",
   "execution_count": 1,
   "id": "7f2bbe07",
   "metadata": {
    "slideshow": {
     "slide_type": "slide"
    }
   },
   "outputs": [],
   "source": [
    "from sympy import *   # Para la solución analítica\n",
    "import numpy as np    # librería utilizada para la determinación de las matrices solucion aproximada y error\n",
    "import pandas as pd   # librería utilizada para construir la tabla de comparación de soluciones\n",
    "\n",
    "import matplotlib.pylab as plt  # graficar la comparación en un plano de la solución exacta y la solución aproximada\n",
    "from pytexit import py2tex, for2tex, for2py "
   ]
  },
  {
   "cell_type": "code",
   "execution_count": 2,
   "id": "2a34fbef",
   "metadata": {
    "slideshow": {
     "slide_type": "slide"
    }
   },
   "outputs": [],
   "source": [
    "def conver(yp):\n",
    "    \"\"\"\n",
    "    Esta función toma la cadena de caracteres que define a $F(x,y)$ y la convierte en una expresión de sympy \n",
    "    input:\n",
    "    yp es una cadena de caracteres que define a y' = F(x,y)\n",
    "    output:\n",
    "    yp_sympy: una expresión de sympy \n",
    "    \"\"\"\n",
    "    x,y = symbols('x,y')\n",
    "    y = Function('y')(x)\n",
    "    yp_sympy = sympify(yp).subs({'y':y})    # línea importante para establecer a y como función de x en la expresión convertida\n",
    "    return yp_sympy "
   ]
  },
  {
   "cell_type": "code",
   "execution_count": null,
   "id": "57234110",
   "metadata": {},
   "outputs": [],
   "source": [
    "\n",
    "conver('(x-y)**2')"
   ]
  },
  {
   "cell_type": "code",
   "execution_count": null,
   "id": "2f204e7b",
   "metadata": {},
   "outputs": [],
   "source": [
    "from sympy import * \n",
    "x,y = symbols('x y')\n",
    "y = Function('y')(x)\n",
    "ed = Eq(diff(y,x), (x-y)**2)\n",
    "dsolve(ed,y) "
   ]
  },
  {
   "cell_type": "markdown",
   "id": "168edcd8",
   "metadata": {
    "slideshow": {
     "slide_type": "slide"
    }
   },
   "source": [
    "Observación: La función `sympify()` de sympy, en principio convierte expresiones de la variable $x$ en expresiones de sympy de la variable $x$. Para que reconozca a una variable adicional tiene que utilizar la función `subs()` de sympy. "
   ]
  },
  {
   "cell_type": "code",
   "execution_count": 3,
   "id": "8b5996a9",
   "metadata": {
    "slideshow": {
     "slide_type": "slide"
    }
   },
   "outputs": [],
   "source": [
    "def sol_exact(yp_sympy,X0,Y0):\n",
    "    \"\"\"\n",
    "    Esta función resuelve el PVI y' = F(x,y), y(x0) = y0. \n",
    "    Input:\n",
    "    yp_sympy es y' como expresión de sympy. \n",
    "    Output: \n",
    "    y:función lambda de python que defe a la solución analíca o exacta de PVI dado\n",
    "    solpvi que es una expresión de sympy que define a la solución del PVI en términos de sympy\n",
    "    \"\"\"\n",
    "    x,y = symbols('x,y')\n",
    "    y = Function('y')(x)\n",
    "    eq = Eq(diff(y), yp_sympy)\n",
    "    solgen = dsolve(eq,y)\n",
    "    solgen = solgen.subs({O(x**6):0})\n",
    "    eqc = solgen.subs({x:X0,y:Y0})\n",
    "    C1 = symbols('C1')\n",
    "    if len(solve(eqc,C1)) == 1:\n",
    "        Const = solve(eqc,C1)[0].evalf() \n",
    "    else:    # recuerde que la función solve arroja una lista o un diccionario. \n",
    "        Const = solve(eqc,C1)[1].evalf() \n",
    "    solpvi = solgen.subs({C1:Const}) \n",
    "    y = lambdify(x,solpvi.rhs)\n",
    "    return y, solpvi"
   ]
  },
  {
   "cell_type": "markdown",
   "id": "1abfabbe",
   "metadata": {
    "slideshow": {
     "slide_type": "slide"
    }
   },
   "source": [
    "### Construir una función para la solución analítica solución exacta"
   ]
  },
  {
   "cell_type": "code",
   "execution_count": 4,
   "id": "1b506330",
   "metadata": {
    "slideshow": {
     "slide_type": "slide"
    }
   },
   "outputs": [],
   "source": [
    "def integrate(yp, X0, Y0, paso, a):\n",
    "    x,y = symbols('x,y') # para cálculo simbólico\n",
    "    x_,y_ = symbols('x_,y_')  # para cálculo numérico\n",
    "    y = Function('y')\n",
    "    yp_sympy = conver(yp)\n",
    "    ypp_sympy = diff(yp_sympy,x)\n",
    "    ypp_sympy = ypp_sympy.subs({diff(y,x):yp_sympy}) \n",
    "    \n",
    "    yp_numpy = lambdify([x_,y_],yp_sympy.subs({x:x_,y(x):y_}))     # función 1 para cálculo numérico \n",
    "                                               #(Ojo: es necesario especificar que nos referimos a y(x))\n",
    "    d = 0.001    # denominador del cociente incremental \n",
    "    ypp_numpy=lambda x_,y_: ((yp_numpy(x_+d,y_)-yp_numpy(x_,y_))/d+((yp_numpy(x_,y_+d)-yp_numpy(x_,y_))/d)*yp_numpy(x_,y_)) \n",
    "    \n",
    "    # función 2 para cálculo numérico\n",
    "    def y_exac(xn):\n",
    "        return sol_exact(yp_sympy,X0,Y0)[0](xn)\n",
    "    \n",
    "    def y_approx(x0,y0):\n",
    "        b = yp_numpy(x0, y0)*paso + 0.5*ypp_numpy(x0, y0)*paso**2   # y'h+(y''h^2)/2\n",
    "        return b\n",
    "    X = []                                   # Lista de python para los puntos del dominio \n",
    "    Y_approx = []                            # Lista de Python que definen la solución aproximada \n",
    "    Y_exact = []                             # Lista de Python que define a la solución exacta \n",
    "    X.append(X0)\n",
    "    Y_approx.append(Y0)\n",
    "    Y_exact.append(Y0)                       # y' = 2xy, donde y = exp(x^2 - 1)\n",
    "    x0,y0 = X0,Y0    \n",
    "    while x0 < a:\n",
    "        paso = min(paso, a - x0)\n",
    "        y0 += y_approx(x0,y0)\n",
    "        Y_approx.append(y0)\n",
    "        x0 += paso \n",
    "        y0_exac = round( float( y_exac(x0) ), 4)  \n",
    "        Y_exact.append(y0_exac)\n",
    "        X.append(x0)\n",
    "        \n",
    "    Error = np.abs(np.array(Y_approx) - np.array(Y_exact))/np.abs(np.array(Y_exact))*100    \n",
    "    \n",
    "    table = pd.DataFrame({'X':X, 'Solución aproximada Y':Y_approx, 'Solución exacta Y':Y_exact, 'error en porcentaje':Error})\n",
    "    \n",
    "    fig = plt.figure(figsize = (12,8)) # crea la figura\n",
    "\n",
    "    ax = fig.add_subplot()             # crea los ejes \n",
    "\n",
    "    ax.plot(X,Y_approx, label = 'solución aproximada', color = 'blue' )\n",
    "\n",
    "    ax.plot(X,Y_exact, label = 'solución exacta', color = 'red')\n",
    "    ax.set(title = r\"Comparación entre la solución exacta y la solución aproximada de y' = {} \\\\ La solución analítica obtenida fue y = {}\".format(yp,sol_exact(yp_sympy,X0,Y0)[1] ), \n",
    "       xlabel = 'x', ylabel = r'$y(x)$')\n",
    "\n",
    "    ax.legend() \n",
    "\n",
    "    ax.grid()\n",
    "\n",
    "    plt.savefig('comparacion_de_soluciones.jpg')  # esta función crea el archivo .jpg en la carpeta de trabajo. \n",
    "    return table "
   ]
  },
  {
   "cell_type": "code",
   "execution_count": 5,
   "id": "567e8019",
   "metadata": {
    "scrolled": true,
    "slideshow": {
     "slide_type": "slide"
    }
   },
   "outputs": [
    {
     "data": {
      "text/html": [
       "<div>\n",
       "<style scoped>\n",
       "    .dataframe tbody tr th:only-of-type {\n",
       "        vertical-align: middle;\n",
       "    }\n",
       "\n",
       "    .dataframe tbody tr th {\n",
       "        vertical-align: top;\n",
       "    }\n",
       "\n",
       "    .dataframe thead th {\n",
       "        text-align: right;\n",
       "    }\n",
       "</style>\n",
       "<table border=\"1\" class=\"dataframe\">\n",
       "  <thead>\n",
       "    <tr style=\"text-align: right;\">\n",
       "      <th></th>\n",
       "      <th>X</th>\n",
       "      <th>Solución aproximada Y</th>\n",
       "      <th>Solución exacta Y</th>\n",
       "      <th>error en porcentaje</th>\n",
       "    </tr>\n",
       "  </thead>\n",
       "  <tbody>\n",
       "    <tr>\n",
       "      <th>0</th>\n",
       "      <td>1.0</td>\n",
       "      <td>0.500000</td>\n",
       "      <td>0.5000</td>\n",
       "      <td>0.000000</td>\n",
       "    </tr>\n",
       "    <tr>\n",
       "      <th>1</th>\n",
       "      <td>1.1</td>\n",
       "      <td>0.505000</td>\n",
       "      <td>0.5047</td>\n",
       "      <td>0.059441</td>\n",
       "    </tr>\n",
       "    <tr>\n",
       "      <th>2</th>\n",
       "      <td>1.2</td>\n",
       "      <td>0.518306</td>\n",
       "      <td>0.5179</td>\n",
       "      <td>0.078345</td>\n",
       "    </tr>\n",
       "    <tr>\n",
       "      <th>3</th>\n",
       "      <td>1.3</td>\n",
       "      <td>0.538969</td>\n",
       "      <td>0.5385</td>\n",
       "      <td>0.087166</td>\n",
       "    </tr>\n",
       "    <tr>\n",
       "      <th>4</th>\n",
       "      <td>1.4</td>\n",
       "      <td>0.566358</td>\n",
       "      <td>0.5659</td>\n",
       "      <td>0.080931</td>\n",
       "    </tr>\n",
       "    <tr>\n",
       "      <th>5</th>\n",
       "      <td>1.5</td>\n",
       "      <td>0.600037</td>\n",
       "      <td>0.5995</td>\n",
       "      <td>0.089504</td>\n",
       "    </tr>\n",
       "  </tbody>\n",
       "</table>\n",
       "</div>"
      ],
      "text/plain": [
       "     X  Solución aproximada Y  Solución exacta Y  error en porcentaje\n",
       "0  1.0               0.500000             0.5000             0.000000\n",
       "1  1.1               0.505000             0.5047             0.059441\n",
       "2  1.2               0.518306             0.5179             0.078345\n",
       "3  1.3               0.538969             0.5385             0.087166\n",
       "4  1.4               0.566358             0.5659             0.080931\n",
       "5  1.5               0.600037             0.5995             0.089504"
      ]
     },
     "execution_count": 5,
     "metadata": {},
     "output_type": "execute_result"
    },
    {
     "data": {
      "image/png": "[encoded data removed]",
      "text/plain": [
       "<Figure size 864x576 with 1 Axes>"
      ]
     },
     "metadata": {
      "needs_background": "light"
     },
     "output_type": "display_data"
    }
   ],
   "source": [
    "integrate(\"x-1+1/x-2*y/x\", X0 = 1, Y0 = 1/2, paso = 0.1, a = 1.5) # a > X0"
   ]
  },
  {
   "cell_type": "code",
   "execution_count": null,
   "id": "d573fbea",
   "metadata": {
    "scrolled": true,
    "slideshow": {
     "slide_type": "slide"
    }
   },
   "outputs": [],
   "source": [
    "for2tex('x**2')[1:-1]  "
   ]
  },
  {
   "cell_type": "code",
   "execution_count": null,
   "id": "af9e1c3a",
   "metadata": {
    "slideshow": {
     "slide_type": "slide"
    }
   },
   "outputs": [],
   "source": [
    "py2tex('2*x')[1:-1]  "
   ]
  },
  {
   "cell_type": "code",
   "execution_count": null,
   "id": "a449a4a1",
   "metadata": {
    "slideshow": {
     "slide_type": "slide"
    }
   },
   "outputs": [],
   "source": [
    "for2py('x**2')"
   ]
  },
  {
   "cell_type": "markdown",
   "id": "b5e68c81",
   "metadata": {
    "slideshow": {
     "slide_type": "slide"
    }
   },
   "source": [
    "## Banco de problemas con valor inicial PVI de primer orden para probar a la función integrate() "
   ]
  },
  {
   "cell_type": "code",
   "execution_count": null,
   "id": "678f8d86",
   "metadata": {
    "scrolled": true,
    "slideshow": {
     "slide_type": "slide"
    }
   },
   "outputs": [],
   "source": [
    "integrate('exp(x)', X0 = 0,Y0 = 1, paso = 0.1, a = 1)  # y' = F(x,y) = exp(x), y(0)=1"
   ]
  },
  {
   "cell_type": "code",
   "execution_count": null,
   "id": "cffa4ca4",
   "metadata": {
    "slideshow": {
     "slide_type": "slide"
    }
   },
   "outputs": [],
   "source": [
    "integrate('1', X0 = 0,Y0 = 1, paso = 0.1, a = 1) "
   ]
  },
  {
   "cell_type": "code",
   "execution_count": 6,
   "id": "4df63e02",
   "metadata": {
    "slideshow": {
     "slide_type": "slide"
    }
   },
   "outputs": [
    {
     "data": {
      "text/html": [
       "<div>\n",
       "<style scoped>\n",
       "    .dataframe tbody tr th:only-of-type {\n",
       "        vertical-align: middle;\n",
       "    }\n",
       "\n",
       "    .dataframe tbody tr th {\n",
       "        vertical-align: top;\n",
       "    }\n",
       "\n",
       "    .dataframe thead th {\n",
       "        text-align: right;\n",
       "    }\n",
       "</style>\n",
       "<table border=\"1\" class=\"dataframe\">\n",
       "  <thead>\n",
       "    <tr style=\"text-align: right;\">\n",
       "      <th></th>\n",
       "      <th>X</th>\n",
       "      <th>Solución aproximada Y</th>\n",
       "      <th>Solución exacta Y</th>\n",
       "      <th>error en porcentaje</th>\n",
       "    </tr>\n",
       "  </thead>\n",
       "  <tbody>\n",
       "    <tr>\n",
       "      <th>0</th>\n",
       "      <td>0.00</td>\n",
       "      <td>1.000000</td>\n",
       "      <td>1.0000</td>\n",
       "      <td>0.000000</td>\n",
       "    </tr>\n",
       "    <tr>\n",
       "      <th>1</th>\n",
       "      <td>0.01</td>\n",
       "      <td>1.010150</td>\n",
       "      <td>1.0102</td>\n",
       "      <td>0.004930</td>\n",
       "    </tr>\n",
       "    <tr>\n",
       "      <th>2</th>\n",
       "      <td>0.02</td>\n",
       "      <td>1.020612</td>\n",
       "      <td>1.0206</td>\n",
       "      <td>0.001130</td>\n",
       "    </tr>\n",
       "    <tr>\n",
       "      <th>3</th>\n",
       "      <td>0.03</td>\n",
       "      <td>1.031396</td>\n",
       "      <td>1.0314</td>\n",
       "      <td>0.000432</td>\n",
       "    </tr>\n",
       "    <tr>\n",
       "      <th>4</th>\n",
       "      <td>0.04</td>\n",
       "      <td>1.042514</td>\n",
       "      <td>1.0425</td>\n",
       "      <td>0.001356</td>\n",
       "    </tr>\n",
       "    <tr>\n",
       "      <th>5</th>\n",
       "      <td>0.05</td>\n",
       "      <td>1.053980</td>\n",
       "      <td>1.0540</td>\n",
       "      <td>0.001937</td>\n",
       "    </tr>\n",
       "    <tr>\n",
       "      <th>6</th>\n",
       "      <td>0.06</td>\n",
       "      <td>1.065805</td>\n",
       "      <td>1.0658</td>\n",
       "      <td>0.000429</td>\n",
       "    </tr>\n",
       "    <tr>\n",
       "      <th>7</th>\n",
       "      <td>0.07</td>\n",
       "      <td>1.078002</td>\n",
       "      <td>1.0780</td>\n",
       "      <td>0.000203</td>\n",
       "    </tr>\n",
       "    <tr>\n",
       "      <th>8</th>\n",
       "      <td>0.08</td>\n",
       "      <td>1.090586</td>\n",
       "      <td>1.0906</td>\n",
       "      <td>0.001290</td>\n",
       "    </tr>\n",
       "    <tr>\n",
       "      <th>9</th>\n",
       "      <td>0.09</td>\n",
       "      <td>1.103570</td>\n",
       "      <td>1.1036</td>\n",
       "      <td>0.002745</td>\n",
       "    </tr>\n",
       "    <tr>\n",
       "      <th>10</th>\n",
       "      <td>0.10</td>\n",
       "      <td>1.116968</td>\n",
       "      <td>1.1170</td>\n",
       "      <td>0.002876</td>\n",
       "    </tr>\n",
       "    <tr>\n",
       "      <th>11</th>\n",
       "      <td>0.11</td>\n",
       "      <td>1.130795</td>\n",
       "      <td>1.1308</td>\n",
       "      <td>0.000419</td>\n",
       "    </tr>\n",
       "    <tr>\n",
       "      <th>12</th>\n",
       "      <td>0.12</td>\n",
       "      <td>1.145067</td>\n",
       "      <td>1.1451</td>\n",
       "      <td>0.002871</td>\n",
       "    </tr>\n",
       "    <tr>\n",
       "      <th>13</th>\n",
       "      <td>0.13</td>\n",
       "      <td>1.159799</td>\n",
       "      <td>1.1598</td>\n",
       "      <td>0.000067</td>\n",
       "    </tr>\n",
       "    <tr>\n",
       "      <th>14</th>\n",
       "      <td>0.14</td>\n",
       "      <td>1.175008</td>\n",
       "      <td>1.1750</td>\n",
       "      <td>0.000663</td>\n",
       "    </tr>\n",
       "    <tr>\n",
       "      <th>15</th>\n",
       "      <td>0.15</td>\n",
       "      <td>1.190710</td>\n",
       "      <td>1.1907</td>\n",
       "      <td>0.000804</td>\n",
       "    </tr>\n",
       "    <tr>\n",
       "      <th>16</th>\n",
       "      <td>0.16</td>\n",
       "      <td>1.206922</td>\n",
       "      <td>1.2070</td>\n",
       "      <td>0.006477</td>\n",
       "    </tr>\n",
       "    <tr>\n",
       "      <th>17</th>\n",
       "      <td>0.17</td>\n",
       "      <td>1.223662</td>\n",
       "      <td>1.2237</td>\n",
       "      <td>0.003079</td>\n",
       "    </tr>\n",
       "    <tr>\n",
       "      <th>18</th>\n",
       "      <td>0.18</td>\n",
       "      <td>1.240949</td>\n",
       "      <td>1.2410</td>\n",
       "      <td>0.004075</td>\n",
       "    </tr>\n",
       "    <tr>\n",
       "      <th>19</th>\n",
       "      <td>0.19</td>\n",
       "      <td>1.258802</td>\n",
       "      <td>1.2588</td>\n",
       "      <td>0.000161</td>\n",
       "    </tr>\n",
       "    <tr>\n",
       "      <th>20</th>\n",
       "      <td>0.20</td>\n",
       "      <td>1.277240</td>\n",
       "      <td>1.2773</td>\n",
       "      <td>0.004729</td>\n",
       "    </tr>\n",
       "    <tr>\n",
       "      <th>21</th>\n",
       "      <td>0.21</td>\n",
       "      <td>1.296282</td>\n",
       "      <td>1.2963</td>\n",
       "      <td>0.001373</td>\n",
       "    </tr>\n",
       "    <tr>\n",
       "      <th>22</th>\n",
       "      <td>0.22</td>\n",
       "      <td>1.315951</td>\n",
       "      <td>1.3160</td>\n",
       "      <td>0.003759</td>\n",
       "    </tr>\n",
       "    <tr>\n",
       "      <th>23</th>\n",
       "      <td>0.23</td>\n",
       "      <td>1.336266</td>\n",
       "      <td>1.3363</td>\n",
       "      <td>0.002554</td>\n",
       "    </tr>\n",
       "    <tr>\n",
       "      <th>24</th>\n",
       "      <td>0.24</td>\n",
       "      <td>1.357250</td>\n",
       "      <td>1.3573</td>\n",
       "      <td>0.003670</td>\n",
       "    </tr>\n",
       "    <tr>\n",
       "      <th>25</th>\n",
       "      <td>0.25</td>\n",
       "      <td>1.378926</td>\n",
       "      <td>1.3790</td>\n",
       "      <td>0.005361</td>\n",
       "    </tr>\n",
       "    <tr>\n",
       "      <th>26</th>\n",
       "      <td>0.26</td>\n",
       "      <td>1.401317</td>\n",
       "      <td>1.4014</td>\n",
       "      <td>0.005935</td>\n",
       "    </tr>\n",
       "    <tr>\n",
       "      <th>27</th>\n",
       "      <td>0.27</td>\n",
       "      <td>1.424446</td>\n",
       "      <td>1.4245</td>\n",
       "      <td>0.003761</td>\n",
       "    </tr>\n",
       "    <tr>\n",
       "      <th>28</th>\n",
       "      <td>0.28</td>\n",
       "      <td>1.448340</td>\n",
       "      <td>1.4484</td>\n",
       "      <td>0.004171</td>\n",
       "    </tr>\n",
       "    <tr>\n",
       "      <th>29</th>\n",
       "      <td>0.29</td>\n",
       "      <td>1.473022</td>\n",
       "      <td>1.4731</td>\n",
       "      <td>0.005313</td>\n",
       "    </tr>\n",
       "    <tr>\n",
       "      <th>30</th>\n",
       "      <td>0.30</td>\n",
       "      <td>1.498519</td>\n",
       "      <td>1.4986</td>\n",
       "      <td>0.005400</td>\n",
       "    </tr>\n",
       "    <tr>\n",
       "      <th>31</th>\n",
       "      <td>0.31</td>\n",
       "      <td>1.524859</td>\n",
       "      <td>1.5250</td>\n",
       "      <td>0.009273</td>\n",
       "    </tr>\n",
       "    <tr>\n",
       "      <th>32</th>\n",
       "      <td>0.32</td>\n",
       "      <td>1.552068</td>\n",
       "      <td>1.5522</td>\n",
       "      <td>0.008503</td>\n",
       "    </tr>\n",
       "    <tr>\n",
       "      <th>33</th>\n",
       "      <td>0.33</td>\n",
       "      <td>1.580176</td>\n",
       "      <td>1.5803</td>\n",
       "      <td>0.007847</td>\n",
       "    </tr>\n",
       "    <tr>\n",
       "      <th>34</th>\n",
       "      <td>0.34</td>\n",
       "      <td>1.609212</td>\n",
       "      <td>1.6093</td>\n",
       "      <td>0.005472</td>\n",
       "    </tr>\n",
       "    <tr>\n",
       "      <th>35</th>\n",
       "      <td>0.35</td>\n",
       "      <td>1.639206</td>\n",
       "      <td>1.6393</td>\n",
       "      <td>0.005726</td>\n",
       "    </tr>\n",
       "    <tr>\n",
       "      <th>36</th>\n",
       "      <td>0.36</td>\n",
       "      <td>1.670190</td>\n",
       "      <td>1.6703</td>\n",
       "      <td>0.006598</td>\n",
       "    </tr>\n",
       "    <tr>\n",
       "      <th>37</th>\n",
       "      <td>0.37</td>\n",
       "      <td>1.702195</td>\n",
       "      <td>1.7023</td>\n",
       "      <td>0.006168</td>\n",
       "    </tr>\n",
       "    <tr>\n",
       "      <th>38</th>\n",
       "      <td>0.38</td>\n",
       "      <td>1.735255</td>\n",
       "      <td>1.7354</td>\n",
       "      <td>0.008367</td>\n",
       "    </tr>\n",
       "    <tr>\n",
       "      <th>39</th>\n",
       "      <td>0.39</td>\n",
       "      <td>1.769403</td>\n",
       "      <td>1.7695</td>\n",
       "      <td>0.005471</td>\n",
       "    </tr>\n",
       "    <tr>\n",
       "      <th>40</th>\n",
       "      <td>0.40</td>\n",
       "      <td>1.804675</td>\n",
       "      <td>1.8048</td>\n",
       "      <td>0.006917</td>\n",
       "    </tr>\n",
       "    <tr>\n",
       "      <th>41</th>\n",
       "      <td>0.41</td>\n",
       "      <td>1.841107</td>\n",
       "      <td>1.8413</td>\n",
       "      <td>0.010497</td>\n",
       "    </tr>\n",
       "    <tr>\n",
       "      <th>42</th>\n",
       "      <td>0.42</td>\n",
       "      <td>1.878735</td>\n",
       "      <td>1.8789</td>\n",
       "      <td>0.008787</td>\n",
       "    </tr>\n",
       "    <tr>\n",
       "      <th>43</th>\n",
       "      <td>0.43</td>\n",
       "      <td>1.917598</td>\n",
       "      <td>1.9178</td>\n",
       "      <td>0.010542</td>\n",
       "    </tr>\n",
       "    <tr>\n",
       "      <th>44</th>\n",
       "      <td>0.44</td>\n",
       "      <td>1.957735</td>\n",
       "      <td>1.9579</td>\n",
       "      <td>0.008443</td>\n",
       "    </tr>\n",
       "    <tr>\n",
       "      <th>45</th>\n",
       "      <td>0.45</td>\n",
       "      <td>1.999186</td>\n",
       "      <td>1.9994</td>\n",
       "      <td>0.010709</td>\n",
       "    </tr>\n",
       "    <tr>\n",
       "      <th>46</th>\n",
       "      <td>0.46</td>\n",
       "      <td>2.041993</td>\n",
       "      <td>2.0422</td>\n",
       "      <td>0.010144</td>\n",
       "    </tr>\n",
       "    <tr>\n",
       "      <th>47</th>\n",
       "      <td>0.47</td>\n",
       "      <td>2.086198</td>\n",
       "      <td>2.0864</td>\n",
       "      <td>0.009668</td>\n",
       "    </tr>\n",
       "    <tr>\n",
       "      <th>48</th>\n",
       "      <td>0.48</td>\n",
       "      <td>2.131846</td>\n",
       "      <td>2.1321</td>\n",
       "      <td>0.011908</td>\n",
       "    </tr>\n",
       "    <tr>\n",
       "      <th>49</th>\n",
       "      <td>0.49</td>\n",
       "      <td>2.178981</td>\n",
       "      <td>2.1792</td>\n",
       "      <td>0.010027</td>\n",
       "    </tr>\n",
       "    <tr>\n",
       "      <th>50</th>\n",
       "      <td>0.50</td>\n",
       "      <td>2.227651</td>\n",
       "      <td>2.2279</td>\n",
       "      <td>0.011184</td>\n",
       "    </tr>\n",
       "  </tbody>\n",
       "</table>\n",
       "</div>"
      ],
      "text/plain": [
       "       X  Solución aproximada Y  Solución exacta Y  error en porcentaje\n",
       "0   0.00               1.000000             1.0000             0.000000\n",
       "1   0.01               1.010150             1.0102             0.004930\n",
       "2   0.02               1.020612             1.0206             0.001130\n",
       "3   0.03               1.031396             1.0314             0.000432\n",
       "4   0.04               1.042514             1.0425             0.001356\n",
       "5   0.05               1.053980             1.0540             0.001937\n",
       "6   0.06               1.065805             1.0658             0.000429\n",
       "7   0.07               1.078002             1.0780             0.000203\n",
       "8   0.08               1.090586             1.0906             0.001290\n",
       "9   0.09               1.103570             1.1036             0.002745\n",
       "10  0.10               1.116968             1.1170             0.002876\n",
       "11  0.11               1.130795             1.1308             0.000419\n",
       "12  0.12               1.145067             1.1451             0.002871\n",
       "13  0.13               1.159799             1.1598             0.000067\n",
       "14  0.14               1.175008             1.1750             0.000663\n",
       "15  0.15               1.190710             1.1907             0.000804\n",
       "16  0.16               1.206922             1.2070             0.006477\n",
       "17  0.17               1.223662             1.2237             0.003079\n",
       "18  0.18               1.240949             1.2410             0.004075\n",
       "19  0.19               1.258802             1.2588             0.000161\n",
       "20  0.20               1.277240             1.2773             0.004729\n",
       "21  0.21               1.296282             1.2963             0.001373\n",
       "22  0.22               1.315951             1.3160             0.003759\n",
       "23  0.23               1.336266             1.3363             0.002554\n",
       "24  0.24               1.357250             1.3573             0.003670\n",
       "25  0.25               1.378926             1.3790             0.005361\n",
       "26  0.26               1.401317             1.4014             0.005935\n",
       "27  0.27               1.424446             1.4245             0.003761\n",
       "28  0.28               1.448340             1.4484             0.004171\n",
       "29  0.29               1.473022             1.4731             0.005313\n",
       "30  0.30               1.498519             1.4986             0.005400\n",
       "31  0.31               1.524859             1.5250             0.009273\n",
       "32  0.32               1.552068             1.5522             0.008503\n",
       "33  0.33               1.580176             1.5803             0.007847\n",
       "34  0.34               1.609212             1.6093             0.005472\n",
       "35  0.35               1.639206             1.6393             0.005726\n",
       "36  0.36               1.670190             1.6703             0.006598\n",
       "37  0.37               1.702195             1.7023             0.006168\n",
       "38  0.38               1.735255             1.7354             0.008367\n",
       "39  0.39               1.769403             1.7695             0.005471\n",
       "40  0.40               1.804675             1.8048             0.006917\n",
       "41  0.41               1.841107             1.8413             0.010497\n",
       "42  0.42               1.878735             1.8789             0.008787\n",
       "43  0.43               1.917598             1.9178             0.010542\n",
       "44  0.44               1.957735             1.9579             0.008443\n",
       "45  0.45               1.999186             1.9994             0.010709\n",
       "46  0.46               2.041993             2.0422             0.010144\n",
       "47  0.47               2.086198             2.0864             0.009668\n",
       "48  0.48               2.131846             2.1321             0.011908\n",
       "49  0.49               2.178981             2.1792             0.010027\n",
       "50  0.50               2.227651             2.2279             0.011184"
      ]
     },
     "execution_count": 6,
     "metadata": {},
     "output_type": "execute_result"
    },
    {
     "data": {
      "image/png": "[encoded data removed]",
      "text/plain": [
       "<Figure size 864x576 with 1 Axes>"
      ]
     },
     "metadata": {
      "needs_background": "light"
     },
     "output_type": "display_data"
    }
   ],
   "source": [
    "integrate(\"y + 2*x*exp(2*x)\", X0 = 0, Y0 = 1, paso = 0.01, a = 0.5)"
   ]
  },
  {
   "cell_type": "code",
   "execution_count": null,
   "id": "32b8b773",
   "metadata": {
    "slideshow": {
     "slide_type": "slide"
    }
   },
   "outputs": [],
   "source": [
    " integrate(\"x*exp(-2*x) - 2*y\", X0 = 1, Y0 = 0, paso = 0.1, a = 1.5)"
   ]
  },
  {
   "cell_type": "code",
   "execution_count": null,
   "id": "5ecfac50",
   "metadata": {
    "slideshow": {
     "slide_type": "slide"
    }
   },
   "outputs": [],
   "source": [
    "integrate(\"x-1+1/x-2*y/x\", X0 = 1, Y0 = 1/2, paso = 0.1, a = 1.5) "
   ]
  },
  {
   "cell_type": "code",
   "execution_count": null,
   "id": "1bb46d09",
   "metadata": {
    "slideshow": {
     "slide_type": "slide"
    }
   },
   "outputs": [],
   "source": [
    "integrate('cos(x)/x**2 - (2/x)*y', X0 = 3.14, Y0=0, paso=0.1, a = 3.6)"
   ]
  },
  {
   "cell_type": "code",
   "execution_count": null,
   "id": "b74563d5",
   "metadata": {
    "slideshow": {
     "slide_type": "slide"
    }
   },
   "outputs": [],
   "source": [
    "integrate('exp(2*x) + 2*y', X0 =0 ,Y0 = 2, paso = 0.1, a = 0.5 )"
   ]
  },
  {
   "cell_type": "code",
   "execution_count": 7,
   "id": "6d9fb8a9",
   "metadata": {
    "scrolled": true,
    "slideshow": {
     "slide_type": "slide"
    }
   },
   "outputs": [
    {
     "data": {
      "text/html": [
       "<div>\n",
       "<style scoped>\n",
       "    .dataframe tbody tr th:only-of-type {\n",
       "        vertical-align: middle;\n",
       "    }\n",
       "\n",
       "    .dataframe tbody tr th {\n",
       "        vertical-align: top;\n",
       "    }\n",
       "\n",
       "    .dataframe thead th {\n",
       "        text-align: right;\n",
       "    }\n",
       "</style>\n",
       "<table border=\"1\" class=\"dataframe\">\n",
       "  <thead>\n",
       "    <tr style=\"text-align: right;\">\n",
       "      <th></th>\n",
       "      <th>X</th>\n",
       "      <th>Solución aproximada Y</th>\n",
       "      <th>Solución exacta Y</th>\n",
       "      <th>error en porcentaje</th>\n",
       "    </tr>\n",
       "  </thead>\n",
       "  <tbody>\n",
       "    <tr>\n",
       "      <th>0</th>\n",
       "      <td>1.00</td>\n",
       "      <td>1.000000</td>\n",
       "      <td>1.0000</td>\n",
       "      <td>0.000000</td>\n",
       "    </tr>\n",
       "    <tr>\n",
       "      <th>1</th>\n",
       "      <td>1.01</td>\n",
       "      <td>1.000000</td>\n",
       "      <td>0.9997</td>\n",
       "      <td>0.030014</td>\n",
       "    </tr>\n",
       "    <tr>\n",
       "      <th>2</th>\n",
       "      <td>1.02</td>\n",
       "      <td>1.000002</td>\n",
       "      <td>0.9993</td>\n",
       "      <td>0.070259</td>\n",
       "    </tr>\n",
       "    <tr>\n",
       "      <th>3</th>\n",
       "      <td>1.03</td>\n",
       "      <td>1.000008</td>\n",
       "      <td>0.9990</td>\n",
       "      <td>0.100916</td>\n",
       "    </tr>\n",
       "    <tr>\n",
       "      <th>4</th>\n",
       "      <td>1.04</td>\n",
       "      <td>1.000020</td>\n",
       "      <td>0.9987</td>\n",
       "      <td>0.132191</td>\n",
       "    </tr>\n",
       "    <tr>\n",
       "      <th>5</th>\n",
       "      <td>1.05</td>\n",
       "      <td>1.000040</td>\n",
       "      <td>0.9984</td>\n",
       "      <td>0.164284</td>\n",
       "    </tr>\n",
       "    <tr>\n",
       "      <th>6</th>\n",
       "      <td>1.06</td>\n",
       "      <td>1.000070</td>\n",
       "      <td>0.9981</td>\n",
       "      <td>0.197396</td>\n",
       "    </tr>\n",
       "    <tr>\n",
       "      <th>7</th>\n",
       "      <td>1.07</td>\n",
       "      <td>1.000112</td>\n",
       "      <td>0.9978</td>\n",
       "      <td>0.231724</td>\n",
       "    </tr>\n",
       "    <tr>\n",
       "      <th>8</th>\n",
       "      <td>1.08</td>\n",
       "      <td>1.000168</td>\n",
       "      <td>0.9975</td>\n",
       "      <td>0.267468</td>\n",
       "    </tr>\n",
       "    <tr>\n",
       "      <th>9</th>\n",
       "      <td>1.09</td>\n",
       "      <td>1.000240</td>\n",
       "      <td>0.9972</td>\n",
       "      <td>0.304824</td>\n",
       "    </tr>\n",
       "    <tr>\n",
       "      <th>10</th>\n",
       "      <td>1.10</td>\n",
       "      <td>1.000329</td>\n",
       "      <td>0.9970</td>\n",
       "      <td>0.333925</td>\n",
       "    </tr>\n",
       "    <tr>\n",
       "      <th>11</th>\n",
       "      <td>1.11</td>\n",
       "      <td>1.000438</td>\n",
       "      <td>0.9968</td>\n",
       "      <td>0.365017</td>\n",
       "    </tr>\n",
       "    <tr>\n",
       "      <th>12</th>\n",
       "      <td>1.12</td>\n",
       "      <td>1.000569</td>\n",
       "      <td>0.9966</td>\n",
       "      <td>0.398295</td>\n",
       "    </tr>\n",
       "    <tr>\n",
       "      <th>13</th>\n",
       "      <td>1.13</td>\n",
       "      <td>1.000724</td>\n",
       "      <td>0.9964</td>\n",
       "      <td>0.433949</td>\n",
       "    </tr>\n",
       "    <tr>\n",
       "      <th>14</th>\n",
       "      <td>1.14</td>\n",
       "      <td>1.000904</td>\n",
       "      <td>0.9963</td>\n",
       "      <td>0.462085</td>\n",
       "    </tr>\n",
       "    <tr>\n",
       "      <th>15</th>\n",
       "      <td>1.15</td>\n",
       "      <td>1.001111</td>\n",
       "      <td>0.9962</td>\n",
       "      <td>0.492965</td>\n",
       "    </tr>\n",
       "    <tr>\n",
       "      <th>16</th>\n",
       "      <td>1.16</td>\n",
       "      <td>1.001347</td>\n",
       "      <td>0.9962</td>\n",
       "      <td>0.516684</td>\n",
       "    </tr>\n",
       "    <tr>\n",
       "      <th>17</th>\n",
       "      <td>1.17</td>\n",
       "      <td>1.001614</td>\n",
       "      <td>0.9962</td>\n",
       "      <td>0.543509</td>\n",
       "    </tr>\n",
       "    <tr>\n",
       "      <th>18</th>\n",
       "      <td>1.18</td>\n",
       "      <td>1.001914</td>\n",
       "      <td>0.9963</td>\n",
       "      <td>0.563523</td>\n",
       "    </tr>\n",
       "    <tr>\n",
       "      <th>19</th>\n",
       "      <td>1.19</td>\n",
       "      <td>1.002249</td>\n",
       "      <td>0.9964</td>\n",
       "      <td>0.586996</td>\n",
       "    </tr>\n",
       "    <tr>\n",
       "      <th>20</th>\n",
       "      <td>1.20</td>\n",
       "      <td>1.002619</td>\n",
       "      <td>0.9966</td>\n",
       "      <td>0.604003</td>\n",
       "    </tr>\n",
       "    <tr>\n",
       "      <th>21</th>\n",
       "      <td>1.21</td>\n",
       "      <td>1.003028</td>\n",
       "      <td>0.9968</td>\n",
       "      <td>0.624810</td>\n",
       "    </tr>\n",
       "    <tr>\n",
       "      <th>22</th>\n",
       "      <td>1.22</td>\n",
       "      <td>1.003476</td>\n",
       "      <td>0.9971</td>\n",
       "      <td>0.639489</td>\n",
       "    </tr>\n",
       "    <tr>\n",
       "      <th>23</th>\n",
       "      <td>1.23</td>\n",
       "      <td>1.003966</td>\n",
       "      <td>0.9975</td>\n",
       "      <td>0.648206</td>\n",
       "    </tr>\n",
       "    <tr>\n",
       "      <th>24</th>\n",
       "      <td>1.24</td>\n",
       "      <td>1.004498</td>\n",
       "      <td>0.9979</td>\n",
       "      <td>0.661216</td>\n",
       "    </tr>\n",
       "    <tr>\n",
       "      <th>25</th>\n",
       "      <td>1.25</td>\n",
       "      <td>1.005075</td>\n",
       "      <td>0.9985</td>\n",
       "      <td>0.658506</td>\n",
       "    </tr>\n",
       "    <tr>\n",
       "      <th>26</th>\n",
       "      <td>1.26</td>\n",
       "      <td>1.005698</td>\n",
       "      <td>0.9991</td>\n",
       "      <td>0.660408</td>\n",
       "    </tr>\n",
       "    <tr>\n",
       "      <th>27</th>\n",
       "      <td>1.27</td>\n",
       "      <td>1.006369</td>\n",
       "      <td>0.9998</td>\n",
       "      <td>0.656998</td>\n",
       "    </tr>\n",
       "    <tr>\n",
       "      <th>28</th>\n",
       "      <td>1.28</td>\n",
       "      <td>1.007088</td>\n",
       "      <td>1.0006</td>\n",
       "      <td>0.648438</td>\n",
       "    </tr>\n",
       "    <tr>\n",
       "      <th>29</th>\n",
       "      <td>1.29</td>\n",
       "      <td>1.007858</td>\n",
       "      <td>1.0015</td>\n",
       "      <td>0.634887</td>\n",
       "    </tr>\n",
       "    <tr>\n",
       "      <th>30</th>\n",
       "      <td>1.30</td>\n",
       "      <td>1.008680</td>\n",
       "      <td>1.0025</td>\n",
       "      <td>0.616504</td>\n",
       "    </tr>\n",
       "    <tr>\n",
       "      <th>31</th>\n",
       "      <td>1.31</td>\n",
       "      <td>1.009556</td>\n",
       "      <td>1.0036</td>\n",
       "      <td>0.593447</td>\n",
       "    </tr>\n",
       "    <tr>\n",
       "      <th>32</th>\n",
       "      <td>1.32</td>\n",
       "      <td>1.010486</td>\n",
       "      <td>1.0048</td>\n",
       "      <td>0.565873</td>\n",
       "    </tr>\n",
       "    <tr>\n",
       "      <th>33</th>\n",
       "      <td>1.33</td>\n",
       "      <td>1.011472</td>\n",
       "      <td>1.0061</td>\n",
       "      <td>0.533935</td>\n",
       "    </tr>\n",
       "    <tr>\n",
       "      <th>34</th>\n",
       "      <td>1.34</td>\n",
       "      <td>1.012515</td>\n",
       "      <td>1.0076</td>\n",
       "      <td>0.487812</td>\n",
       "    </tr>\n",
       "    <tr>\n",
       "      <th>35</th>\n",
       "      <td>1.35</td>\n",
       "      <td>1.013617</td>\n",
       "      <td>1.0091</td>\n",
       "      <td>0.447622</td>\n",
       "    </tr>\n",
       "    <tr>\n",
       "      <th>36</th>\n",
       "      <td>1.36</td>\n",
       "      <td>1.014778</td>\n",
       "      <td>1.0108</td>\n",
       "      <td>0.393587</td>\n",
       "    </tr>\n",
       "    <tr>\n",
       "      <th>37</th>\n",
       "      <td>1.37</td>\n",
       "      <td>1.016001</td>\n",
       "      <td>1.0127</td>\n",
       "      <td>0.325923</td>\n",
       "    </tr>\n",
       "    <tr>\n",
       "      <th>38</th>\n",
       "      <td>1.38</td>\n",
       "      <td>1.017285</td>\n",
       "      <td>1.0147</td>\n",
       "      <td>0.254735</td>\n",
       "    </tr>\n",
       "    <tr>\n",
       "      <th>39</th>\n",
       "      <td>1.39</td>\n",
       "      <td>1.018632</td>\n",
       "      <td>1.0168</td>\n",
       "      <td>0.180171</td>\n",
       "    </tr>\n",
       "    <tr>\n",
       "      <th>40</th>\n",
       "      <td>1.40</td>\n",
       "      <td>1.020043</td>\n",
       "      <td>1.0191</td>\n",
       "      <td>0.092551</td>\n",
       "    </tr>\n",
       "    <tr>\n",
       "      <th>41</th>\n",
       "      <td>1.41</td>\n",
       "      <td>1.021519</td>\n",
       "      <td>1.0215</td>\n",
       "      <td>0.001902</td>\n",
       "    </tr>\n",
       "    <tr>\n",
       "      <th>42</th>\n",
       "      <td>1.42</td>\n",
       "      <td>1.023062</td>\n",
       "      <td>1.0241</td>\n",
       "      <td>0.101392</td>\n",
       "    </tr>\n",
       "    <tr>\n",
       "      <th>43</th>\n",
       "      <td>1.43</td>\n",
       "      <td>1.024671</td>\n",
       "      <td>1.0269</td>\n",
       "      <td>0.217086</td>\n",
       "    </tr>\n",
       "    <tr>\n",
       "      <th>44</th>\n",
       "      <td>1.44</td>\n",
       "      <td>1.026348</td>\n",
       "      <td>1.0299</td>\n",
       "      <td>0.344928</td>\n",
       "    </tr>\n",
       "    <tr>\n",
       "      <th>45</th>\n",
       "      <td>1.45</td>\n",
       "      <td>1.028093</td>\n",
       "      <td>1.0330</td>\n",
       "      <td>0.475022</td>\n",
       "    </tr>\n",
       "    <tr>\n",
       "      <th>46</th>\n",
       "      <td>1.46</td>\n",
       "      <td>1.029908</td>\n",
       "      <td>1.0363</td>\n",
       "      <td>0.616828</td>\n",
       "    </tr>\n",
       "    <tr>\n",
       "      <th>47</th>\n",
       "      <td>1.47</td>\n",
       "      <td>1.031793</td>\n",
       "      <td>1.0398</td>\n",
       "      <td>0.770079</td>\n",
       "    </tr>\n",
       "    <tr>\n",
       "      <th>48</th>\n",
       "      <td>1.48</td>\n",
       "      <td>1.033748</td>\n",
       "      <td>1.0435</td>\n",
       "      <td>0.934505</td>\n",
       "    </tr>\n",
       "    <tr>\n",
       "      <th>49</th>\n",
       "      <td>1.49</td>\n",
       "      <td>1.035776</td>\n",
       "      <td>1.0475</td>\n",
       "      <td>1.119270</td>\n",
       "    </tr>\n",
       "    <tr>\n",
       "      <th>50</th>\n",
       "      <td>1.50</td>\n",
       "      <td>1.037875</td>\n",
       "      <td>1.0516</td>\n",
       "      <td>1.305159</td>\n",
       "    </tr>\n",
       "  </tbody>\n",
       "</table>\n",
       "</div>"
      ],
      "text/plain": [
       "       X  Solución aproximada Y  Solución exacta Y  error en porcentaje\n",
       "0   1.00               1.000000             1.0000             0.000000\n",
       "1   1.01               1.000000             0.9997             0.030014\n",
       "2   1.02               1.000002             0.9993             0.070259\n",
       "3   1.03               1.000008             0.9990             0.100916\n",
       "4   1.04               1.000020             0.9987             0.132191\n",
       "5   1.05               1.000040             0.9984             0.164284\n",
       "6   1.06               1.000070             0.9981             0.197396\n",
       "7   1.07               1.000112             0.9978             0.231724\n",
       "8   1.08               1.000168             0.9975             0.267468\n",
       "9   1.09               1.000240             0.9972             0.304824\n",
       "10  1.10               1.000329             0.9970             0.333925\n",
       "11  1.11               1.000438             0.9968             0.365017\n",
       "12  1.12               1.000569             0.9966             0.398295\n",
       "13  1.13               1.000724             0.9964             0.433949\n",
       "14  1.14               1.000904             0.9963             0.462085\n",
       "15  1.15               1.001111             0.9962             0.492965\n",
       "16  1.16               1.001347             0.9962             0.516684\n",
       "17  1.17               1.001614             0.9962             0.543509\n",
       "18  1.18               1.001914             0.9963             0.563523\n",
       "19  1.19               1.002249             0.9964             0.586996\n",
       "20  1.20               1.002619             0.9966             0.604003\n",
       "21  1.21               1.003028             0.9968             0.624810\n",
       "22  1.22               1.003476             0.9971             0.639489\n",
       "23  1.23               1.003966             0.9975             0.648206\n",
       "24  1.24               1.004498             0.9979             0.661216\n",
       "25  1.25               1.005075             0.9985             0.658506\n",
       "26  1.26               1.005698             0.9991             0.660408\n",
       "27  1.27               1.006369             0.9998             0.656998\n",
       "28  1.28               1.007088             1.0006             0.648438\n",
       "29  1.29               1.007858             1.0015             0.634887\n",
       "30  1.30               1.008680             1.0025             0.616504\n",
       "31  1.31               1.009556             1.0036             0.593447\n",
       "32  1.32               1.010486             1.0048             0.565873\n",
       "33  1.33               1.011472             1.0061             0.533935\n",
       "34  1.34               1.012515             1.0076             0.487812\n",
       "35  1.35               1.013617             1.0091             0.447622\n",
       "36  1.36               1.014778             1.0108             0.393587\n",
       "37  1.37               1.016001             1.0127             0.325923\n",
       "38  1.38               1.017285             1.0147             0.254735\n",
       "39  1.39               1.018632             1.0168             0.180171\n",
       "40  1.40               1.020043             1.0191             0.092551\n",
       "41  1.41               1.021519             1.0215             0.001902\n",
       "42  1.42               1.023062             1.0241             0.101392\n",
       "43  1.43               1.024671             1.0269             0.217086\n",
       "44  1.44               1.026348             1.0299             0.344928\n",
       "45  1.45               1.028093             1.0330             0.475022\n",
       "46  1.46               1.029908             1.0363             0.616828\n",
       "47  1.47               1.031793             1.0398             0.770079\n",
       "48  1.48               1.033748             1.0435             0.934505\n",
       "49  1.49               1.035776             1.0475             1.119270\n",
       "50  1.50               1.037875             1.0516             1.305159"
      ]
     },
     "execution_count": 7,
     "metadata": {},
     "output_type": "execute_result"
    },
    {
     "data": {
      "image/png": "[encoded data removed]",
      "text/plain": [
       "<Figure size 864x576 with 1 Axes>"
      ]
     },
     "metadata": {
      "needs_background": "light"
     },
     "output_type": "display_data"
    }
   ],
   "source": [
    "integrate('(x-y)**2',X0=1,Y0=1,paso = 0.01, a = 1.5)    # un ejemplo de EDO de Riccati "
   ]
  },
  {
   "cell_type": "code",
   "execution_count": null,
   "id": "6dfda567",
   "metadata": {
    "slideshow": {
     "slide_type": "slide"
    }
   },
   "outputs": [],
   "source": [
    "integrate('sin(x)/x-2*(y/x)',X0=3.14/2,Y0=1,paso = 0.1, a = 2)  "
   ]
  },
  {
   "cell_type": "markdown",
   "id": "c5f62e54",
   "metadata": {
    "slideshow": {
     "slide_type": "slide"
    }
   },
   "source": [
    "# Programa para el usuario"
   ]
  },
  {
   "cell_type": "markdown",
   "id": "a53c100b",
   "metadata": {
    "slideshow": {
     "slide_type": "slide"
    }
   },
   "source": [
    "### Input"
   ]
  },
  {
   "cell_type": "markdown",
   "id": "a2f5deff",
   "metadata": {
    "slideshow": {
     "slide_type": "slide"
    }
   },
   "source": [
    "1. Preguntar al usuario cual es la función $F(x,y)$ que define a la ecuación diferencial de   \n",
    "   primer orden a resolver ($y' = F(x,y)$)\n",
    "2. Escriba $x_{0}$ y $y_{0}$. (Es decir, diga la condición inicial)\n",
    "3. diga el punto $a$ del dominio de la solución $y$ para el que quiere su valor $y(a)$.\n",
    "4. diga el valor $h$ del paso. "
   ]
  },
  {
   "cell_type": "markdown",
   "id": "fde48db0",
   "metadata": {
    "slideshow": {
     "slide_type": "slide"
    }
   },
   "source": [
    "### Output"
   ]
  },
  {
   "cell_type": "markdown",
   "id": "daacf283",
   "metadata": {
    "slideshow": {
     "slide_type": "slide"
    }
   },
   "source": [
    "1. Un DataFrame cuyas columnas sean X, Y_exact, Y_aprox y el error dado en porcentaje. \n",
    "2. El gráfico realizado en Matplotlib de la solución exacta y la solución aproximada.  "
   ]
  },
  {
   "cell_type": "markdown",
   "id": "59c79938",
   "metadata": {
    "slideshow": {
     "slide_type": "slide"
    }
   },
   "source": [
    "## Apéndice"
   ]
  },
  {
   "cell_type": "markdown",
   "id": "be26388c",
   "metadata": {
    "slideshow": {
     "slide_type": "slide"
    }
   },
   "source": [
    "$$ y' = F(x,y) $$"
   ]
  },
  {
   "cell_type": "markdown",
   "id": "5ca3071b",
   "metadata": {
    "slideshow": {
     "slide_type": "slide"
    }
   },
   "source": [
    "\n",
    "\\begin{align*}\n",
    "y'' & = \\frac{d}{dx} F(x,y)  \\\\\n",
    "    & = \\frac{\\partial}{\\partial x}F(x,y) + \\frac{\\partial }{\\partial y}F(x,y) \\cdot \\frac{dy}{dx} \\\\\n",
    "    & = \\frac{\\partial}{\\partial x}F(x,y) + \\frac{\\partial }{\\partial y}F(x,y)\\ \\cdot\\  F(x,y)\n",
    "\\end{align*}"
   ]
  },
  {
   "cell_type": "markdown",
   "id": "22d19dff",
   "metadata": {
    "slideshow": {
     "slide_type": "slide"
    }
   },
   "source": [
    "## Referentes:\n",
    "\n",
    "* Larson. Cálculo. \n",
    "* Lambdify:  https://docs.sympy.org/latest/modules/utilities/lambdify.html  \n",
    "* sympify:  https://docs.sympy.org/latest/modules/core.html?highlight=sympify#sympy.core.sympify  \n",
    "* The dsolve() function of sympy: https://docs.sympy.org/latest/modules/solvers/ode.html\n",
    "* denriquebarros@unicesar.edu.co \n",
    "* baflorezs@ufpso.edu.co  \n",
    "* Brayner   \n",
    "* Para convertir cadenas de python en expresiones latex: https://github.com/erwanp/pytexit\n",
    "* Definición de Ecuación diferencial de Riccati: https://en.wikipedia.org/wiki/Riccati_equation \n",
    "* Boyce DiPrima Página 38. \n"
   ]
  },
  {
   "cell_type": "code",
   "execution_count": null,
   "id": "943725d6",
   "metadata": {
    "slideshow": {
     "slide_type": "skip"
    }
   },
   "outputs": [],
   "source": []
  }
 ],
 "metadata": {
  "celltoolbar": "Slideshow",
  "kernelspec": {
   "display_name": "Python 3",
   "language": "python",
   "name": "python3"
  },
  "language_info": {
   "codemirror_mode": {
    "name": "ipython",
    "version": 3
   },
   "file_extension": ".py",
   "mimetype": "text/x-python",
   "name": "python",
   "nbconvert_exporter": "python",
   "pygments_lexer": "ipython3",
   "version": "3.8.8"
  },
  "latex_envs": {
   "LaTeX_envs_menu_present": true,
   "autoclose": false,
   "autocomplete": false,
   "bibliofile": "biblio.bib",
   "cite_by": "apalike",
   "current_citInitial": 1,
   "eqLabelWithNumbers": true,
   "eqNumInitial": 1,
   "hotkeys": {
    "equation": "Ctrl-E",
    "itemize": "Ctrl-I"
   },
   "labels_anchors": false,
   "latex_user_defs": false,
   "report_style_numbering": false,
   "user_envs_cfg": false
  },
  "rise": {
   "enable_chalkboard": true,
   "theme": "sky",
   "transition": "zoom"
  }
 },
 "nbformat": 4,
 "nbformat_minor": 5
}
