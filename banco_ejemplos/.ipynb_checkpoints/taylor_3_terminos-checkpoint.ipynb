{
 "cells": [
  {
   "cell_type": "markdown",
   "id": "41db43d6",
   "metadata": {
    "slideshow": {
     "slide_type": "slide"
    }
   },
   "source": [
    "<table align=\"left\">\n",
    "  <td>\n",
    "    <a href=\"https://colab.research.google.com/github/marco-canas/methods/blob/main/taylor_3_terminos.ipynb\" target=\"_parent\"><img src=\"https://colab.research.google.com/assets/colab-badge.svg\" alt=\"Open In Colab\"/></a>\n",
    "  </td>\n",
    "  <td>\n",
    "    <a target=\"_blank\" href=\"https://kaggle.com/kernels/welcome?src=https://github.com/marco-canas/methods/blob/main/taylor_3_terminos.ipynb\"><img src=\"https://kaggle.com/static/images/open-in-kaggle.svg\" /></a>\n",
    "  </td>\n",
    "</table>"
   ]
  },
  {
   "cell_type": "markdown",
   "id": "315baa32",
   "metadata": {
    "slideshow": {
     "slide_type": "slide"
    }
   },
   "source": [
    "# Método de Taylor en tres términos"
   ]
  },
  {
   "cell_type": "markdown",
   "id": "c39f1684",
   "metadata": {
    "slideshow": {
     "slide_type": "slide"
    }
   },
   "source": [
    "$$ y_{n+1} = y_{n} + y_{n}'h + y_{n}''\\frac{h^{2}}{2}, \\ \\ \\ \\  y_{0} = y(x_{0}) $$"
   ]
  },
  {
   "cell_type": "markdown",
   "id": "405b77a4",
   "metadata": {
    "slideshow": {
     "slide_type": "slide"
    }
   },
   "source": [
    "### [Primer Video de apoyo](https://www.youtube.com/watch?v=5YF3vbLtEws)"
   ]
  },
  {
   "cell_type": "markdown",
   "id": "7c8a85a3",
   "metadata": {
    "slideshow": {
     "slide_type": "slide"
    }
   },
   "source": [
    "### [Segundo video de apoyo]()"
   ]
  },
  {
   "cell_type": "markdown",
   "id": "4e826459",
   "metadata": {
    "slideshow": {
     "slide_type": "slide"
    }
   },
   "source": [
    "## Deducción de la fórmula recursiva anterior"
   ]
  },
  {
   "cell_type": "markdown",
   "id": "a4daf73e",
   "metadata": {
    "slideshow": {
     "slide_type": "slide"
    }
   },
   "source": [
    "Ver página 669 de Cálculo de larson. "
   ]
  },
  {
   "cell_type": "markdown",
   "id": "bbd10591",
   "metadata": {
    "slideshow": {
     "slide_type": "slide"
    }
   },
   "source": [
    "## Objetivos "
   ]
  },
  {
   "cell_type": "markdown",
   "id": "17a58bd5",
   "metadata": {
    "slideshow": {
     "slide_type": "slide"
    }
   },
   "source": [
    "* Encontrar aproximaciones polinomiales de las funciones solución de PVI y compararlas con \n",
    "  las funciones solución analítica.\n",
    "* Encontrar aproximaciones mediante polinomios de Taylor y Maclaurin a funciones elementales."
   ]
  },
  {
   "cell_type": "markdown",
   "id": "47028548",
   "metadata": {
    "slideshow": {
     "slide_type": "slide"
    }
   },
   "source": [
    "## Aproximaciones polinomiales a funciones solución de PVI de primer orden "
   ]
  },
  {
   "cell_type": "markdown",
   "id": "8cf41f7d",
   "metadata": {
    "slideshow": {
     "slide_type": "slide"
    }
   },
   "source": [
    "El objetivo de esta sección es mostrar cómo pueden usarse las funciones polinomiales como aproximaciones a otras funciones solución de PVI's de primer orden.   "
   ]
  },
  {
   "cell_type": "markdown",
   "id": "ee366c8b",
   "metadata": {
    "slideshow": {
     "slide_type": "slide"
    }
   },
   "source": [
    "Para encontrar una función polinomial que aproxime otra función se comienza por elegir un número $c$ en el dominio de $f$ en el que $P$ y $f$ tengan el mismo valor.   "
   ]
  },
  {
   "cell_type": "markdown",
   "id": "cfd016b6",
   "metadata": {
    "slideshow": {
     "slide_type": "slide"
    }
   },
   "source": [
    "Es decir\n",
    "\n",
    "$$ P(c) = f(c), \\ \\ \\ \\ \\text{Las gráficas de $P$ y $f$ pasan por $(c,f(c))$}  $$"
   ]
  },
  {
   "cell_type": "markdown",
   "id": "6fb27722",
   "metadata": {
    "slideshow": {
     "slide_type": "slide"
    }
   },
   "source": [
    "Se dice que la aproximación polinomial se expande alrededor de $c$ o está centrada en $c$.  "
   ]
  },
  {
   "cell_type": "markdown",
   "id": "241e4a11",
   "metadata": {
    "slideshow": {
     "slide_type": "slide"
    }
   },
   "source": [
    "Geométricamente, el requisito de que $P(c) = f(c)$ significa que la gráfica de $P$ debe pasar por el punto $(c, f(c))$. "
   ]
  },
  {
   "cell_type": "markdown",
   "id": "b6b24cb4",
   "metadata": {
    "slideshow": {
     "slide_type": "slide"
    }
   },
   "source": [
    "Por supuesto, hay muchos polinomios cuyas gráficas pasan por el punto $(c, f (c))$. "
   ]
  },
  {
   "cell_type": "markdown",
   "id": "835d749d",
   "metadata": {
    "slideshow": {
     "slide_type": "slide"
    }
   },
   "source": [
    "La tarea es encontrar un polinomio cuya gráfica se parezca a la gráfica de $f$ en la cercanía de este punto.   "
   ]
  },
  {
   "cell_type": "markdown",
   "id": "31da640d",
   "metadata": {
    "slideshow": {
     "slide_type": "slide"
    }
   },
   "source": [
    "Una manera de hacer esto es imponer el requisito adicional de que la pendiente de la función polinomial sea la misma que la pendiente de la gráfica de $f$ en el punto $(c, f (c))$.  \n",
    "\n",
    "$$ P'(c) = f'(c), \\ \\ \\ \\ \\text{Las gráficas de $f$ y $p$ tienen la misma pendiente en $(c,f(c))$} $$ "
   ]
  },
  {
   "cell_type": "markdown",
   "id": "14c76855",
   "metadata": {
    "slideshow": {
     "slide_type": "slide"
    }
   },
   "source": [
    "Con estos dos requisitos se puede obtener una aproximación lineal simple a $f$, como se muestra en la figura 9.10.\n"
   ]
  },
  {
   "cell_type": "markdown",
   "id": "bcf41f71",
   "metadata": {
    "slideshow": {
     "slide_type": "slide"
    }
   },
   "source": [
    "<img src = 'https://github.com/marco-canas/methods/blob/main/figura_9_10.png?raw=true'>"
   ]
  },
  {
   "cell_type": "markdown",
   "id": "8d900679",
   "metadata": {
    "slideshow": {
     "slide_type": "slide"
    }
   },
   "source": [
    "## EJEMPLO 1 Aproximación a mediante un polinomio de primer grado"
   ]
  },
  {
   "cell_type": "markdown",
   "id": "65017904",
   "metadata": {
    "slideshow": {
     "slide_type": "slide"
    }
   },
   "source": [
    "Dada la función $f(x) = e^{x}$, encontrar una función polinomial de primer grado  \n",
    "\n",
    "$$ P_{1}(x) = a_{0} + a_{1}x $$\n",
    "\n",
    "cuyo valor y pendiente en $x = 0$ coinciden en el valor y la pendiente de $f$. "
   ]
  },
  {
   "cell_type": "markdown",
   "id": "42328d54",
   "metadata": {
    "slideshow": {
     "slide_type": "slide"
    }
   },
   "source": [
    "### Solución: "
   ]
  },
  {
   "cell_type": "markdown",
   "id": "2a8d6244",
   "metadata": {
    "slideshow": {
     "slide_type": "slide"
    }
   },
   "source": [
    "Como $f(x) = e^{x}$ y $f'(x) = e^{x}$, el valor y la pendiente de $f$ en $x = 0$ están dados por \n",
    "\n",
    "$$ f(0) = e^{0} = 1 $$\n",
    "\n",
    "y\n",
    "\n",
    "$$ f'(0) = e^{0} = 1. $$\n"
   ]
  },
  {
   "cell_type": "markdown",
   "id": "4b64e003",
   "metadata": {
    "slideshow": {
     "slide_type": "slide"
    }
   },
   "source": [
    "Como $P_{1}(x) = a_{0} + a_{1}x$, se puede usar la condición $P_{1}(0) = f(0)$, para concluir que $a_{0} = 1$. "
   ]
  },
  {
   "cell_type": "markdown",
   "id": "bbd95a77",
   "metadata": {
    "slideshow": {
     "slide_type": "slide"
    }
   },
   "source": [
    "Es más, como $P_{1}'(x) = a_{1}$, se puede usar la condición $P_{1}'(0) = f'(0)$ para concluir que $a_{1} = 1$. "
   ]
  },
  {
   "cell_type": "markdown",
   "id": "0060101e",
   "metadata": {
    "slideshow": {
     "slide_type": "slide"
    }
   },
   "source": [
    "Por consiguiente, \n",
    "\n",
    "$$ P_{1}(x) = 1 + x = f(0) + f'(0)x $$\n"
   ]
  },
  {
   "cell_type": "markdown",
   "id": "692f465c",
   "metadata": {
    "slideshow": {
     "slide_type": "slide"
    }
   },
   "source": [
    "La figura 9.11 muestra las gráficas de $P_{1}(x) = 1 + x$ y $f(x) = x$.  "
   ]
  },
  {
   "cell_type": "markdown",
   "id": "8f3c67ec",
   "metadata": {
    "slideshow": {
     "slide_type": "slide"
    }
   },
   "source": [
    "## Nota:  \n",
    "\n",
    "En el ejemplo 1 no es la primera vez que se usa una función lineal para aproximar otra función. El mismo procedimiento se usó como base para el método de Newton. "
   ]
  },
  {
   "cell_type": "markdown",
   "id": "91f23eec",
   "metadata": {
    "slideshow": {
     "slide_type": "slide"
    }
   },
   "source": [
    "En la figura 9.12 se puede ver que, en los puntos cercanos a $(0, 1)$, la gráfica de \n",
    "\n",
    "$$ P_{1}(x) = 1 + x \\ \\ \\ \\ \\text{aproximación de primer grado}. $$\n",
    "\n",
    "está razonablemente cerca a la gráfica de $f(x) = e^{x}$. "
   ]
  },
  {
   "cell_type": "markdown",
   "id": "b547dbce",
   "metadata": {
    "slideshow": {
     "slide_type": "slide"
    }
   },
   "source": [
    "Sin embargo, al alejarse de $(0,1)$, las gráficas se apartan y la precisión de a aproximación disminuye. "
   ]
  },
  {
   "cell_type": "markdown",
   "id": "961634f1",
   "metadata": {
    "slideshow": {
     "slide_type": "slide"
    }
   },
   "source": [
    "Para mejorar la aproximación se puede imponer otro requisito todavía: que los valores de las segundas derivadas de $P$ y $f$ sean iguales en $x = 0$. "
   ]
  },
  {
   "cell_type": "markdown",
   "id": "cb4992f7",
   "metadata": {
    "slideshow": {
     "slide_type": "slide"
    }
   },
   "source": [
    "El polinomio de menor grado, $P_{2}$, que satisface los tres requisitos, \n",
    "\n",
    "$$ P_{2}(0) = f(0), \\ \\ \\ \\ P_{2}'(0) = f'(0), \\ \\ \\ \\ \\text{y} \\ \\ \\ \\ P_{2}''(0) = f''(0), $$\n",
    "\n",
    "puede mostrarse que es:\n",
    "\n",
    "$$ P_{2}(x) = 1 + x + \\frac{1}{2}x^{2} \\ \\ \\ \\ \\text{Aproximación de segundo grado} $$\n"
   ]
  },
  {
   "cell_type": "markdown",
   "id": "1af56174",
   "metadata": {
    "slideshow": {
     "slide_type": "slide"
    }
   },
   "source": [
    "<img src = 'https://github.com/marco-canas/methods/blob/main/figura_9_12.png?raw=true'> "
   ]
  },
  {
   "cell_type": "markdown",
   "id": "a25a4e33",
   "metadata": {
    "slideshow": {
     "slide_type": "slide"
    }
   },
   "source": [
    "Es más, en la figura 9.12 se puede ver que $P_{2}$ es una mejor aproximación que $P_{1}$. Si se continúa con este patrón, requiriendo que los valores de $P_{n}(x)$ y de sus primeras $n$ derivadas coincidan con las de $f(x) = e^{x}$ en $x = 0$ se obtiene lo siguiente:\n",
    "\n",
    "\n",
    "$$ P_{n}(x) = 1 + x + \\frac{1}{2}x^{2} + \\frac{1}{3!}x^{3} + \\cdots + \\frac{1}{n!}x^{n} \\approx e^{x} $$\n"
   ]
  },
  {
   "cell_type": "markdown",
   "id": "b6b8372a",
   "metadata": {
    "slideshow": {
     "slide_type": "slide"
    }
   },
   "source": [
    "Continua en la página 670. "
   ]
  },
  {
   "cell_type": "markdown",
   "id": "0a9901c5",
   "metadata": {
    "slideshow": {
     "slide_type": "slide"
    }
   },
   "source": [
    "## Ejemplo 2 a $f(x) = e^{x}$ mediante un polinomio de tercer grado. "
   ]
  },
  {
   "cell_type": "markdown",
   "id": "4f0e2264",
   "metadata": {
    "slideshow": {
     "slide_type": "slide"
    }
   },
   "source": [
    "Construir una tabla que compare los valores del polinomio \n",
    "\n",
    "$$ P_{3}(x) = 1 + x + \\frac{1}{2}x^{2} + \\frac{1}{3!}x^{3} \\ \\ \\ \\ \\text{aproximación de tercer grado} $$\n",
    "\n",
    "con $f(x) = e^{x}$ para varios valores de $x$ cercanos a cero. \n"
   ]
  },
  {
   "cell_type": "markdown",
   "id": "9ed30598",
   "metadata": {
    "slideshow": {
     "slide_type": "slide"
    }
   },
   "source": [
    "### Solución: "
   ]
  },
  {
   "cell_type": "code",
   "execution_count": null,
   "id": "94f95cf8",
   "metadata": {
    "slideshow": {
     "slide_type": "slide"
    }
   },
   "outputs": [],
   "source": []
  },
  {
   "cell_type": "markdown",
   "id": "e6b5d3d9",
   "metadata": {
    "slideshow": {
     "slide_type": "slide"
    }
   },
   "source": [
    "## Deduzcamos la fórmula recursiva del método de Taylor de tres términos"
   ]
  },
  {
   "cell_type": "markdown",
   "id": "b4a14d13",
   "metadata": {
    "slideshow": {
     "slide_type": "slide"
    }
   },
   "source": [
    "$x_{0} = 1$  \n",
    "\n",
    "$$ y(x) \\approx P_{2}(x) = y(x_{0}) + y'(x_{0})(x-x_{0}) + \\frac{1}{2}y''(x_{0})(x - x_{0})^{2}  $$\n",
    "\n",
    "de la página 671 de Larson. Defini]ción de polinomio de Taylor de una función $y(x)$ centrado en $x_{0}$. "
   ]
  },
  {
   "cell_type": "markdown",
   "id": "a342c1ce",
   "metadata": {
    "slideshow": {
     "slide_type": "slide"
    }
   },
   "source": [
    "Si $x = x_{1}$\n",
    "\n",
    "$$ y_{1} = y(x_{1}) \\approx P_{2}(x_{1}) = y(x_{0}) + y'(x_{0})(x_{1}-x_{0}) + \\frac{1}{2}y''(x_{0})(x_{1} - x_{0})^{2}  $$\n",
    "\n",
    "$$ y_{1} = y(x_{1}) \\approx P_{2}(x_{1}) = y(x_{0}) + y'(x_{0})h + \\frac{1}{2}y''(x_{0})h^{2}  $$\n",
    "\n"
   ]
  },
  {
   "cell_type": "markdown",
   "id": "6e5d1088",
   "metadata": {
    "slideshow": {
     "slide_type": "slide"
    }
   },
   "source": [
    "Si $x = x_{2}$\n",
    "\n",
    "$$ y_{2} = y(x_{2}) \\approx P_{2}(x_{2}) = y(x_{1}) + y'(x_{1})(x_{2}-x_{1}) + \\frac{1}{2}y''(x_{1})(x_{2} - x_{1})^{2}  $$\n",
    "\n",
    "$$ y_{2} = y(x_{2}) \\approx P_{2}(x_{2}) = y(x_{1}) + y'(x_{1})h + \\frac{1}{2}y''(x_{1})h^{2}  $$\n"
   ]
  },
  {
   "cell_type": "code",
   "execution_count": null,
   "id": "bf3a3ac6",
   "metadata": {
    "slideshow": {
     "slide_type": "slide"
    }
   },
   "outputs": [],
   "source": []
  },
  {
   "cell_type": "code",
   "execution_count": null,
   "id": "fa4c63da",
   "metadata": {
    "slideshow": {
     "slide_type": "slide"
    }
   },
   "outputs": [],
   "source": []
  },
  {
   "cell_type": "markdown",
   "id": "8ebe3b91",
   "metadata": {
    "slideshow": {
     "slide_type": "slide"
    }
   },
   "source": [
    "## Ejemplo  de aplicación de la fórmula de Taylor de los tres términos\n",
    "\n",
    "Usar la fórmula de Taylor de tres términos para obtener una aproximación al valor de $y(1.5)$ de la solución de $y'= 2xy$ ; $y(1) = 1$ utilizando $h = 0.1$."
   ]
  },
  {
   "cell_type": "markdown",
   "id": "b613376f",
   "metadata": {
    "slideshow": {
     "slide_type": "slide"
    }
   },
   "source": [
    "$$ y_{n+1} = y_{n} + y_{n}'h + \\frac{1}{2}y_{n}''h^{2}, \\ \\ \\ y_{0} = y(1) = 1 $$"
   ]
  },
  {
   "cell_type": "markdown",
   "id": "5a2221fb",
   "metadata": {
    "slideshow": {
     "slide_type": "slide"
    }
   },
   "source": [
    "$$y(x) \\approx P_{2}(x) = a_{0} + a_{1}x + a_{2}x^{2} = y(x_{0}) + y'(x_{0})x + \\frac{1}{2}y''(x_{0})x^{2} $$"
   ]
  },
  {
   "cell_type": "markdown",
   "id": "da171c98",
   "metadata": {
    "slideshow": {
     "slide_type": "slide"
    }
   },
   "source": [
    "## Solución:"
   ]
  },
  {
   "cell_type": "markdown",
   "id": "8e0bc86f",
   "metadata": {
    "slideshow": {
     "slide_type": "slide"
    }
   },
   "source": [
    "## Deducción de la solución exacta "
   ]
  },
  {
   "cell_type": "markdown",
   "id": "61f38ace",
   "metadata": {
    "slideshow": {
     "slide_type": "slide"
    }
   },
   "source": [
    "importación librerías"
   ]
  },
  {
   "cell_type": "code",
   "execution_count": null,
   "id": "7f2ace15",
   "metadata": {
    "slideshow": {
     "slide_type": "slide"
    }
   },
   "outputs": [],
   "source": [
    "import numpy as np\n",
    "from sympy import * \n",
    "import pandas as pd "
   ]
  },
  {
   "cell_type": "markdown",
   "id": "18f61cc6",
   "metadata": {
    "slideshow": {
     "slide_type": "slide"
    }
   },
   "source": [
    "Empecemos determinando la solución exacta del PVI dado"
   ]
  },
  {
   "cell_type": "code",
   "execution_count": null,
   "id": "92169be6",
   "metadata": {
    "slideshow": {
     "slide_type": "slide"
    }
   },
   "outputs": [],
   "source": [
    "x, y, x_, y_, yp_, F_ = symbols('x,y,x_,y_,yp_,F_')    # y' = 2xy = F(x,y) \n",
    "\n",
    "y_ = Function('y_')(x_) # con guión bajo denotaremos las variables de sympy "
   ]
  },
  {
   "cell_type": "code",
   "execution_count": null,
   "id": "affa0114",
   "metadata": {
    "slideshow": {
     "slide_type": "slide"
    }
   },
   "outputs": [],
   "source": [
    "expresion = input('entre la derivada de y: ') # F(x,y) = 2*x*y\n",
    "# ojo, denote la multiplicacion con asterisco (*)"
   ]
  },
  {
   "cell_type": "code",
   "execution_count": null,
   "id": "a6355f7f",
   "metadata": {
    "slideshow": {
     "slide_type": "slide"
    }
   },
   "outputs": [],
   "source": [
    "type(expresion) "
   ]
  },
  {
   "cell_type": "code",
   "execution_count": null,
   "id": "e03ab162",
   "metadata": {
    "slideshow": {
     "slide_type": "slide"
    }
   },
   "outputs": [],
   "source": [
    "expresion # el usuario está obligado a denotar la multiplicacion con * "
   ]
  },
  {
   "cell_type": "code",
   "execution_count": null,
   "id": "2b47dfaa",
   "metadata": {
    "slideshow": {
     "slide_type": "slide"
    }
   },
   "outputs": [],
   "source": [
    "yp_sympy = sympify(expresion, evaluate = False) "
   ]
  },
  {
   "cell_type": "code",
   "execution_count": null,
   "id": "5e4676a1",
   "metadata": {
    "slideshow": {
     "slide_type": "slide"
    }
   },
   "outputs": [],
   "source": [
    "yp_sympy "
   ]
  },
  {
   "cell_type": "code",
   "execution_count": null,
   "id": "628cff02",
   "metadata": {
    "slideshow": {
     "slide_type": "slide"
    }
   },
   "outputs": [],
   "source": [
    "yp_sympy_ = yp_sympy.subs({x:x_, y:y_})"
   ]
  },
  {
   "cell_type": "code",
   "execution_count": null,
   "id": "9297c71c",
   "metadata": {
    "slideshow": {
     "slide_type": "slide"
    }
   },
   "outputs": [],
   "source": [
    "yp_sympy_ "
   ]
  },
  {
   "cell_type": "code",
   "execution_count": null,
   "id": "33669be1",
   "metadata": {
    "slideshow": {
     "slide_type": "slide"
    }
   },
   "outputs": [],
   "source": [
    "yp_numpy = lambdify([x,y], yp_sympy)"
   ]
  },
  {
   "cell_type": "code",
   "execution_count": null,
   "id": "4f0f7888",
   "metadata": {
    "slideshow": {
     "slide_type": "slide"
    }
   },
   "outputs": [],
   "source": [
    "yp_numpy(2,3) "
   ]
  },
  {
   "cell_type": "code",
   "execution_count": null,
   "id": "1afc8d96",
   "metadata": {
    "slideshow": {
     "slide_type": "slide"
    }
   },
   "outputs": [],
   "source": [
    "ypp_sympy_ = diff(yp_sympy_,x_)   # ypp = 2xyp + 2y \n",
    "ypp_sympy_  "
   ]
  },
  {
   "cell_type": "code",
   "execution_count": null,
   "id": "da146806",
   "metadata": {},
   "outputs": [],
   "source": [
    "ypp_sympy_.subs({diff(y_,x_): yp_sympy_})\n",
    "ypp_sympy_ "
   ]
  },
  {
   "cell_type": "code",
   "execution_count": null,
   "id": "6e2e9437",
   "metadata": {
    "slideshow": {
     "slide_type": "slide"
    }
   },
   "outputs": [],
   "source": [
    "h = 0.001 "
   ]
  },
  {
   "cell_type": "code",
   "execution_count": null,
   "id": "df3621ca",
   "metadata": {
    "slideshow": {
     "slide_type": "slide"
    }
   },
   "outputs": [],
   "source": [
    "ypp_numpy = lambdify( [x,y], (yp_numpy(x+h,y) - yp_numpy(x,y))/h ) "
   ]
  },
  {
   "cell_type": "code",
   "execution_count": null,
   "id": "ab47ade2",
   "metadata": {
    "slideshow": {
     "slide_type": "slide"
    }
   },
   "outputs": [],
   "source": [
    "ypp_numpy(4,7)  "
   ]
  },
  {
   "cell_type": "code",
   "execution_count": null,
   "id": "2a9101bb",
   "metadata": {
    "slideshow": {
     "slide_type": "slide"
    }
   },
   "outputs": [],
   "source": [
    "eq = Eq(diff(y_,x_) - yp_sympy_,0)\n",
    "eq "
   ]
  },
  {
   "cell_type": "code",
   "execution_count": null,
   "id": "7390b33a",
   "metadata": {
    "slideshow": {
     "slide_type": "slide"
    }
   },
   "outputs": [],
   "source": [
    "sol_gen = dsolve(eq,y_)\n",
    "sol_gen  "
   ]
  },
  {
   "cell_type": "code",
   "execution_count": null,
   "id": "41fb4ee2",
   "metadata": {
    "slideshow": {
     "slide_type": "slide"
    }
   },
   "outputs": [],
   "source": [
    "eq_c = Eq( 1, sol_gen.rhs.subs({x_:1}) ) \n",
    "eq_c "
   ]
  },
  {
   "cell_type": "code",
   "execution_count": null,
   "id": "a289833a",
   "metadata": {
    "slideshow": {
     "slide_type": "slide"
    }
   },
   "outputs": [],
   "source": [
    "C1 = symbols('C1')"
   ]
  },
  {
   "cell_type": "code",
   "execution_count": null,
   "id": "2c06e0be",
   "metadata": {
    "slideshow": {
     "slide_type": "slide"
    }
   },
   "outputs": [],
   "source": [
    "C1 = solve(eq_c,C1)\n",
    "C1 = C1[0] \n",
    "C1 "
   ]
  },
  {
   "cell_type": "code",
   "execution_count": null,
   "id": "c8d6479c",
   "metadata": {
    "slideshow": {
     "slide_type": "slide"
    }
   },
   "outputs": [],
   "source": [
    "sol_pvi = exp(x_**2 - 1)\n",
    "sol_pvi "
   ]
  },
  {
   "cell_type": "markdown",
   "id": "9f6534d0",
   "metadata": {
    "slideshow": {
     "slide_type": "skip"
    }
   },
   "source": [
    "$$ f(x) = e^{x^{2} - 1} $$"
   ]
  },
  {
   "cell_type": "markdown",
   "id": "569b2dcc",
   "metadata": {
    "slideshow": {
     "slide_type": "slide"
    }
   },
   "source": [
    "## Solución numérica con la utilización de la función `integrate()`"
   ]
  },
  {
   "cell_type": "code",
   "execution_count": null,
   "id": "7a04fbdb",
   "metadata": {
    "slideshow": {
     "slide_type": "slide"
    }
   },
   "outputs": [],
   "source": [
    "import numpy as np \n",
    "from sympy import * \n",
    "import pandas as pd \n",
    "x, y, yp, F = symbols('x y yp F') \n",
    "y = Function('y')(x)"
   ]
  },
  {
   "cell_type": "code",
   "execution_count": null,
   "id": "3a0441d5",
   "metadata": {
    "slideshow": {
     "slide_type": "slide"
    }
   },
   "outputs": [],
   "source": [
    "F = sympify(input('entre F: '), evaluate = False)"
   ]
  },
  {
   "cell_type": "code",
   "execution_count": null,
   "id": "7c1a0766",
   "metadata": {
    "slideshow": {
     "slide_type": "slide"
    }
   },
   "outputs": [],
   "source": [
    "y = Function('y')(x) "
   ]
  },
  {
   "cell_type": "code",
   "execution_count": null,
   "id": "d5c6d4ec",
   "metadata": {
    "scrolled": true,
    "slideshow": {
     "slide_type": "slide"
    }
   },
   "outputs": [],
   "source": [
    "eq = Eq(diff(y) , F)\n",
    "eq "
   ]
  },
  {
   "cell_type": "code",
   "execution_count": null,
   "id": "2d63888d",
   "metadata": {
    "slideshow": {
     "slide_type": "slide"
    }
   },
   "outputs": [],
   "source": [
    "sol_gen = dsolve(eq, y)   \n",
    "sol_gen "
   ]
  },
  {
   "cell_type": "markdown",
   "id": "bfceec44",
   "metadata": {},
   "source": [
    "## Construcción de función intagrate() "
   ]
  },
  {
   "cell_type": "code",
   "execution_count": 6,
   "id": "97e7ff6a",
   "metadata": {
    "slideshow": {
     "slide_type": "slide"
    }
   },
   "outputs": [],
   "source": [
    "import numpy as np \n",
    "from sympy import * \n",
    "import pandas as pd \n",
    "import matplotlib.pyplot as plt \n",
    "\n",
    "def integrate(yp, x0, y0, paso, a):   # y' = yp = F(x,y) = 2xy \n",
    "    \"\"\"\n",
    "    input:\n",
    "    yp: es una función de dos variables expresada en sintaxis de Python y es la derivada de la solución y(x) y \n",
    "    entra a la función como una cade de caracteres.  \n",
    "    a: es el punto del dominio donde queremos el valor de la función y(x) \n",
    "     \"\"\"\n",
    "    x,y,x_,y_,C1 = symbols('x,y,x_,y_,C1')   # Definir las variables simbólicas a utilizar \n",
    "    y_ = Function('y_')(x_)                  # establecemos que y_ es función de x_\n",
    "    yp_sympy = sympify(yp, evaluate = False) # convierte la expresión del ususrio (un str) en una expresión de sympy\n",
    "    yp_sympy_ = yp_sympy.subs({x:x_, y:y_})  # cambia x por x_  y y por y_ (lo que hicimos es un cambio de variables)\n",
    "    yp_numpy = lambdify([x,y], yp_sympy)     # convierte la función de sympy en función de numpy \n",
    "    d = 0.001                                # denominador del cocente incremental que define la derivada \n",
    "    ypp_numpy=lambdify([x,y],( (yp_numpy(x+d,y) - yp_numpy(x,y) )/d + (( yp_numpy(x,y+d) - yp_numpy(x,y) )/d) *yp_numpy(x,y) ))\n",
    "                                             # calcula la segunda derivada de $y$ con respecto a x. \n",
    "    eq = Eq(diff(y_, x_), yp_sympy_) # construye la ecuación diferencial en términos de sympy y' = F(x,y) \n",
    "    \n",
    "    sol_gen = dsolve(eq, y_) \n",
    "    \n",
    "    sol_gen = sol_gen.subs({O(x_**6):0}) # halla la solución general de la Ecuación diferencial\n",
    "    \n",
    "    \n",
    "    eq_c = Eq(y0, sol_gen.rhs.subs({x_:x0}) ) # sustituye la condición inicial \n",
    "                                             # el parámetro de la solución general lo vuelve una variable simbólica de sympy\n",
    "    Const = solve(eq_c,C1)\n",
    "    Const = Const[0] \n",
    "    sol_pvi_sympy = sol_gen.subs({C1:Const}) # solución exacta de la ecuación diferencial\n",
    "    \n",
    "    X = []                                   # Lista de python para los puntos del dominio \n",
    "    Y_approx = []                            # Lista de Python que definen la solución aproximada \n",
    "    Y_exact = []                             # Lista de Python que define a la solución exacta \n",
    "    X.append(x0)\n",
    "    Y_approx.append(y0)\n",
    "    Y_exact.append(y0)     # y' = 2xy, donde y = exp(x^2 - 1)\n",
    "                                     # F(x,y)\n",
    "    \n",
    "    while x0 < a:\n",
    "        paso = min(paso, a - x0)\n",
    "        y0 += yp_numpy(x0, y0)*paso + ypp_numpy(x0, y0)*paso**2/2  # Taylor\n",
    "        Y_approx.append(y0)\n",
    "        x0 += paso \n",
    "        y0_exac = round( float(sol_pvi_sympy.rhs.subs({x_:x0}) ), 4)  \n",
    "        Y_exact.append(y0_exac)\n",
    "        X.append(x0)\n",
    "    Error = np.abs(np.array(Y_approx) - np.array(Y_exact))/np.array(Y_exact)*100   \n",
    "    tabla = pd.DataFrame({'X':X, 'Solución aproximada Y':Y_approx, 'Solución exacta Y':Y_exact, 'error en porcentaje':Error})\n",
    "    \n",
    "    fig = plt.figure(figsize = (12,8)) # crea la figura\n",
    "\n",
    "    ax = fig.add_subplot()             # crea los ejes \n",
    "\n",
    "    ax.plot(X,Y_approx, label = 'solución aproximada', color = 'blue' )\n",
    "\n",
    "    ax.plot(X,Y_exact, label = 'solución exacta', color = 'red')\n",
    "    ax.set(title = r\"Comparación entre la solución exacta y la solución aproximada de $y' = 2xy$\", \n",
    "       xlabel = 'x', ylabel = r'$y(x)$')\n",
    "\n",
    "    ax.legend() \n",
    "\n",
    "    ax.grid()\n",
    "\n",
    "    plt.savefig('comparacion_de_soluciones.jpg')  # esta función crea el archivo .jpg en la carpeta de trabajo. \n",
    "    return tabla "
   ]
  },
  {
   "cell_type": "code",
   "execution_count": 8,
   "id": "efabd3c9",
   "metadata": {
    "scrolled": true,
    "slideshow": {
     "slide_type": "slide"
    }
   },
   "outputs": [
    {
     "name": "stderr",
     "output_type": "stream",
     "text": [
      "<ipython-input-6-f5c592dbfbc2>:50: RuntimeWarning: invalid value encountered in true_divide\n",
      "  Error = np.abs(np.array(Y_approx) - np.array(Y_exact))/np.array(Y_exact)*100\n"
     ]
    },
    {
     "data": {
      "text/html": [
       "<div>\n",
       "<style scoped>\n",
       "    .dataframe tbody tr th:only-of-type {\n",
       "        vertical-align: middle;\n",
       "    }\n",
       "\n",
       "    .dataframe tbody tr th {\n",
       "        vertical-align: top;\n",
       "    }\n",
       "\n",
       "    .dataframe thead th {\n",
       "        text-align: right;\n",
       "    }\n",
       "</style>\n",
       "<table border=\"1\" class=\"dataframe\">\n",
       "  <thead>\n",
       "    <tr style=\"text-align: right;\">\n",
       "      <th></th>\n",
       "      <th>X</th>\n",
       "      <th>Solución aproximada Y</th>\n",
       "      <th>Solución exacta Y</th>\n",
       "      <th>error en porcentaje</th>\n",
       "    </tr>\n",
       "  </thead>\n",
       "  <tbody>\n",
       "    <tr>\n",
       "      <th>0</th>\n",
       "      <td>0.0</td>\n",
       "      <td>0.000000</td>\n",
       "      <td>0.0000</td>\n",
       "      <td>NaN</td>\n",
       "    </tr>\n",
       "    <tr>\n",
       "      <th>1</th>\n",
       "      <td>0.1</td>\n",
       "      <td>0.000005</td>\n",
       "      <td>0.0003</td>\n",
       "      <td>98.333333</td>\n",
       "    </tr>\n",
       "    <tr>\n",
       "      <th>2</th>\n",
       "      <td>0.2</td>\n",
       "      <td>0.002000</td>\n",
       "      <td>0.0026</td>\n",
       "      <td>23.080712</td>\n",
       "    </tr>\n",
       "    <tr>\n",
       "      <th>3</th>\n",
       "      <td>0.3</td>\n",
       "      <td>0.007828</td>\n",
       "      <td>0.0087</td>\n",
       "      <td>10.024387</td>\n",
       "    </tr>\n",
       "    <tr>\n",
       "      <th>4</th>\n",
       "      <td>0.4</td>\n",
       "      <td>0.019042</td>\n",
       "      <td>0.0200</td>\n",
       "      <td>4.789651</td>\n",
       "    </tr>\n",
       "    <tr>\n",
       "      <th>5</th>\n",
       "      <td>0.5</td>\n",
       "      <td>0.036817</td>\n",
       "      <td>0.0375</td>\n",
       "      <td>1.820296</td>\n",
       "    </tr>\n",
       "    <tr>\n",
       "      <th>6</th>\n",
       "      <td>0.6</td>\n",
       "      <td>0.061915</td>\n",
       "      <td>0.0616</td>\n",
       "      <td>0.512009</td>\n",
       "    </tr>\n",
       "    <tr>\n",
       "      <th>7</th>\n",
       "      <td>0.7</td>\n",
       "      <td>0.094698</td>\n",
       "      <td>0.0919</td>\n",
       "      <td>3.044888</td>\n",
       "    </tr>\n",
       "    <tr>\n",
       "      <th>8</th>\n",
       "      <td>0.8</td>\n",
       "      <td>0.135179</td>\n",
       "      <td>0.1270</td>\n",
       "      <td>6.440437</td>\n",
       "    </tr>\n",
       "    <tr>\n",
       "      <th>9</th>\n",
       "      <td>0.9</td>\n",
       "      <td>0.183095</td>\n",
       "      <td>0.1643</td>\n",
       "      <td>11.439442</td>\n",
       "    </tr>\n",
       "    <tr>\n",
       "      <th>10</th>\n",
       "      <td>1.0</td>\n",
       "      <td>0.237982</td>\n",
       "      <td>0.2000</td>\n",
       "      <td>18.991174</td>\n",
       "    </tr>\n",
       "    <tr>\n",
       "      <th>11</th>\n",
       "      <td>1.1</td>\n",
       "      <td>0.299253</td>\n",
       "      <td>0.2289</td>\n",
       "      <td>30.735126</td>\n",
       "    </tr>\n",
       "    <tr>\n",
       "      <th>12</th>\n",
       "      <td>1.2</td>\n",
       "      <td>0.366254</td>\n",
       "      <td>0.2442</td>\n",
       "      <td>49.981017</td>\n",
       "    </tr>\n",
       "    <tr>\n",
       "      <th>13</th>\n",
       "      <td>1.3</td>\n",
       "      <td>0.438317</td>\n",
       "      <td>0.2373</td>\n",
       "      <td>84.710171</td>\n",
       "    </tr>\n",
       "    <tr>\n",
       "      <th>14</th>\n",
       "      <td>1.4</td>\n",
       "      <td>0.514795</td>\n",
       "      <td>0.1976</td>\n",
       "      <td>160.523545</td>\n",
       "    </tr>\n",
       "    <tr>\n",
       "      <th>15</th>\n",
       "      <td>1.5</td>\n",
       "      <td>0.595078</td>\n",
       "      <td>0.1125</td>\n",
       "      <td>428.958222</td>\n",
       "    </tr>\n",
       "  </tbody>\n",
       "</table>\n",
       "</div>"
      ],
      "text/plain": [
       "      X  Solución aproximada Y  Solución exacta Y  error en porcentaje\n",
       "0   0.0               0.000000             0.0000                  NaN\n",
       "1   0.1               0.000005             0.0003            98.333333\n",
       "2   0.2               0.002000             0.0026            23.080712\n",
       "3   0.3               0.007828             0.0087            10.024387\n",
       "4   0.4               0.019042             0.0200             4.789651\n",
       "5   0.5               0.036817             0.0375             1.820296\n",
       "6   0.6               0.061915             0.0616             0.512009\n",
       "7   0.7               0.094698             0.0919             3.044888\n",
       "8   0.8               0.135179             0.1270             6.440437\n",
       "9   0.9               0.183095             0.1643            11.439442\n",
       "10  1.0               0.237982             0.2000            18.991174\n",
       "11  1.1               0.299253             0.2289            30.735126\n",
       "12  1.2               0.366254             0.2442            49.981017\n",
       "13  1.3               0.438317             0.2373            84.710171\n",
       "14  1.4               0.514795             0.1976           160.523545\n",
       "15  1.5               0.595078             0.1125           428.958222"
      ]
     },
     "execution_count": 8,
     "metadata": {},
     "output_type": "execute_result"
    },
    {
     "data": {
      "image/png": "[encoded data removed]",
      "text/plain": [
       "<Figure size 864x576 with 1 Axes>"
      ]
     },
     "metadata": {
      "needs_background": "light"
     },
     "output_type": "display_data"
    }
   ],
   "source": [
    "integrate(\"(x-y)**2\", x0 = 0, y0 = 0, paso = 0.1, a = 1.5) "
   ]
  },
  {
   "cell_type": "code",
   "execution_count": 1,
   "id": "9f3e8993",
   "metadata": {
    "slideshow": {
     "slide_type": "slide"
    }
   },
   "outputs": [],
   "source": [
    "from sympy import * \n",
    "\n",
    "\n",
    "x0 = 0\n",
    "y0 = 0\n",
    "yp = 'x**2-2*x*y+y**2'\n",
    "x,y,x_,y_,C1 = symbols('x,y,x_,y_,C1')   # Definir las variables simbólicas a utilizar \n",
    "y_ = Function('y_')(x_)                  # establecemos que y_ es función de x_\n",
    "yp_sympy = sympify(yp, evaluate = False) # convierte la expresión del ususrio (un str) en una expresión de sympy\n",
    "yp_sympy_ = yp_sympy.subs({x:x_, y:y_})  # cambia x por x_  y y por y_ (lo que hicimos es un cambio de variables)\n",
    "yp_numpy = lambdify([x,y], yp_sympy)     # convierte la función de sympy en función de numpy \n",
    "d = 0.001                                # denominador del cocente incremental que define la derivada \n",
    "ypp_numpy=lambdify([x,y],( (yp_numpy(x+d,y) - yp_numpy(x,y) )/d + (( yp_numpy(x,y+d) - yp_numpy(x,y) )/d) *yp_numpy(x,y) ))"
   ]
  },
  {
   "cell_type": "code",
   "execution_count": 2,
   "id": "413c29f9",
   "metadata": {
    "slideshow": {
     "slide_type": "slide"
    }
   },
   "outputs": [],
   "source": [
    "                                             # calcula la segunda derivada de $y$ con respecto a x. \n",
    "eq = Eq(diff(y_, x_), yp_sympy_)  "
   ]
  },
  {
   "cell_type": "code",
   "execution_count": 3,
   "id": "6a64945d",
   "metadata": {},
   "outputs": [
    {
     "data": {
      "text/plain": [
       "('1st_power_series', 'lie_group')"
      ]
     },
     "execution_count": 3,
     "metadata": {},
     "output_type": "execute_result"
    }
   ],
   "source": [
    "classify_ode(eq) "
   ]
  },
  {
   "cell_type": "code",
   "execution_count": 4,
   "id": "cd3958e0",
   "metadata": {
    "scrolled": true,
    "slideshow": {
     "slide_type": "slide"
    }
   },
   "outputs": [
    {
     "data": {
      "text/latex": [
       "$\\displaystyle \\operatorname{y_{}}{\\left(x_{} \\right)} = \\frac{x_{}^{3} \\left(C_{1}^{2} \\left(3 C_{1}^{2} - 1\\right) - 3 C_{1}^{2} + 1\\right)}{3} + \\frac{x_{}^{5} \\left(C_{1}^{2} \\left(2 - 9 C_{1}^{2}\\right) - 2 C_{1}^{2} \\left(3 C_{1}^{2} - 2\\right) + C_{1}^{2} \\left(2 C_{1}^{2} \\left(3 C_{1}^{2} - 2\\right) + C_{1}^{2} \\left(9 C_{1}^{2} - 2\\right) - 9 C_{1}^{2} + 2\\right) + 9 C_{1}^{2} - 2\\right)}{15} + C_{1} + C_{1} x_{}^{2} \\left(C_{1}^{2} - 1\\right) + \\frac{C_{1} x_{}^{4} \\left(C_{1}^{2} \\left(3 C_{1}^{2} - 2\\right) - 3 C_{1}^{2} + 2\\right)}{3} + C_{1}^{2} x_{} + O\\left(x_{}^{6}\\right)$"
      ],
      "text/plain": [
       "Eq(y_(x_), x_**3*(C1**2*(3*C1**2 - 1) - 3*C1**2 + 1)/3 + x_**5*(C1**2*(2 - 9*C1**2) - 2*C1**2*(3*C1**2 - 2) + C1**2*(2*C1**2*(3*C1**2 - 2) + C1**2*(9*C1**2 - 2) - 9*C1**2 + 2) + 9*C1**2 - 2)/15 + C1 + C1*x_**2*(C1**2 - 1) + C1*x_**4*(C1**2*(3*C1**2 - 2) - 3*C1**2 + 2)/3 + C1**2*x_ + O(x_**6))"
      ]
     },
     "execution_count": 4,
     "metadata": {},
     "output_type": "execute_result"
    }
   ],
   "source": [
    "       # construye la ecuación diferencial en términos de sympy y' = F(x,y) \n",
    "sol_gen = dsolve(eq, y_)\n",
    "sol_gen "
   ]
  },
  {
   "cell_type": "code",
   "execution_count": 5,
   "id": "9a8f7127",
   "metadata": {
    "slideshow": {
     "slide_type": "slide"
    }
   },
   "outputs": [
    {
     "data": {
      "text/latex": [
       "$\\displaystyle \\operatorname{y_{}}{\\left(x_{} \\right)} = C_{1}^{2} x_{} + \\frac{C_{1} x_{}^{4} \\left(C_{1}^{2} \\left(3 C_{1}^{2} - 2\\right) - 3 C_{1}^{2} + 2\\right)}{3} + C_{1} x_{}^{2} \\left(C_{1}^{2} - 1\\right) + C_{1} + \\frac{x_{}^{5} \\left(C_{1}^{2} \\left(2 - 9 C_{1}^{2}\\right) - 2 C_{1}^{2} \\left(3 C_{1}^{2} - 2\\right) + C_{1}^{2} \\left(2 C_{1}^{2} \\left(3 C_{1}^{2} - 2\\right) + C_{1}^{2} \\left(9 C_{1}^{2} - 2\\right) - 9 C_{1}^{2} + 2\\right) + 9 C_{1}^{2} - 2\\right)}{15} + \\frac{x_{}^{3} \\left(C_{1}^{2} \\left(3 C_{1}^{2} - 1\\right) - 3 C_{1}^{2} + 1\\right)}{3}$"
      ],
      "text/plain": [
       "Eq(y_(x_), C1**2*x_ + C1*x_**4*(C1**2*(3*C1**2 - 2) - 3*C1**2 + 2)/3 + C1*x_**2*(C1**2 - 1) + C1 + x_**5*(C1**2*(2 - 9*C1**2) - 2*C1**2*(3*C1**2 - 2) + C1**2*(2*C1**2*(3*C1**2 - 2) + C1**2*(9*C1**2 - 2) - 9*C1**2 + 2) + 9*C1**2 - 2)/15 + x_**3*(C1**2*(3*C1**2 - 1) - 3*C1**2 + 1)/3)"
      ]
     },
     "execution_count": 5,
     "metadata": {},
     "output_type": "execute_result"
    }
   ],
   "source": [
    "sol_gen.subs({O(x_**6):0})"
   ]
  },
  {
   "cell_type": "code",
   "execution_count": null,
   "id": "aa7531bf",
   "metadata": {
    "slideshow": {
     "slide_type": "slide"
    }
   },
   "outputs": [],
   "source": [
    "sol_gen.rhs.subs({O:0}).subs({x_:0})"
   ]
  },
  {
   "cell_type": "code",
   "execution_count": null,
   "id": "74fbd947",
   "metadata": {
    "slideshow": {
     "slide_type": "slide"
    }
   },
   "outputs": [],
   "source": [
    "                 # halla la solución general de la Ecuación diferencial\n",
    "eq_c = Eq(y0, sol_gen.rhs.subs({x_:x0}) ) # sustituye la condición inicial \n",
    "                                           # el parámetro de la solución general lo vuelve una variable simbólica de sympy\n",
    "Const = solve(eq_c,C1)\n",
    "Const \n",
    "Const = Const[0] "
   ]
  },
  {
   "cell_type": "code",
   "execution_count": null,
   "id": "9ccf510e",
   "metadata": {
    "slideshow": {
     "slide_type": "slide"
    }
   },
   "outputs": [],
   "source": [
    "sol_pvi_sympy = sol_gen.subs({C1:Const}) "
   ]
  },
  {
   "cell_type": "code",
   "execution_count": null,
   "id": "7926098a",
   "metadata": {
    "slideshow": {
     "slide_type": "slide"
    }
   },
   "outputs": [],
   "source": [
    "sol_pvi_sympy.rhs.subs({x_:x0}).simplify() "
   ]
  },
  {
   "cell_type": "code",
   "execution_count": null,
   "id": "b2eb65cf",
   "metadata": {
    "slideshow": {
     "slide_type": "slide"
    }
   },
   "outputs": [],
   "source": [
    "O(x**6)"
   ]
  },
  {
   "cell_type": "code",
   "execution_count": null,
   "id": "ab106757",
   "metadata": {},
   "outputs": [],
   "source": [
    "conda install -c anaconda sympy"
   ]
  },
  {
   "cell_type": "code",
   "execution_count": null,
   "id": "efc1f960",
   "metadata": {
    "scrolled": true
   },
   "outputs": [],
   "source": [
    "sol_pvi_sympy.rhs.subs({x_:0}) "
   ]
  },
  {
   "cell_type": "code",
   "execution_count": null,
   "id": "85531909",
   "metadata": {},
   "outputs": [],
   "source": []
  },
  {
   "cell_type": "code",
   "execution_count": null,
   "id": "e970c314",
   "metadata": {
    "slideshow": {
     "slide_type": "slide"
    }
   },
   "outputs": [],
   "source": [
    "df = pd.DataFrame({'X':X, 'Solución aproximada Y':Y, 'Solución exacta Y':Y_exact, 'error':Error})\n",
    "df "
   ]
  },
  {
   "cell_type": "code",
   "execution_count": null,
   "id": "54eaf28b",
   "metadata": {
    "slideshow": {
     "slide_type": "slide"
    }
   },
   "outputs": [],
   "source": [
    "import matplotlib.pyplot as plt\n",
    "\n",
    "fig = plt.figure(figsize = (12,8)) \n",
    "\n",
    "ax = fig.add_subplot()\n",
    "\n",
    "ax.plot(X,Y_aprox, label = 'solución aproximada', color = 'blue' )\n",
    "\n",
    "ax.plot(X,Y_exact, label = 'solución exacta', color = 'red')\n",
    "ax.set(title = r\"Comparación entre la solución exacta y la solución aproximada de $y' = 2xy$\", \n",
    "       xlabel = 'x', ylabel = r'$y(x)$')\n",
    "\n",
    "ax.legend() \n",
    "\n",
    "ax.grid()\n",
    "\n",
    "plt.savefig('comparacion_de_soluciones.jpg')\n",
    "\n",
    "plt.show()"
   ]
  },
  {
   "cell_type": "markdown",
   "id": "c5f62e54",
   "metadata": {
    "slideshow": {
     "slide_type": "slide"
    }
   },
   "source": [
    "# Programa para el usuario"
   ]
  },
  {
   "cell_type": "markdown",
   "id": "a53c100b",
   "metadata": {
    "slideshow": {
     "slide_type": "slide"
    }
   },
   "source": [
    "### Input"
   ]
  },
  {
   "cell_type": "markdown",
   "id": "a2f5deff",
   "metadata": {
    "slideshow": {
     "slide_type": "slide"
    }
   },
   "source": [
    "1. Preguntar al usuario cual es la función $F(x,y)$ que define a la ecuación diferencial de   \n",
    "   primer orden a resolver ($y' = F(x,y)$)\n",
    "2. Escriba $x_{0}$ y $y_{0}$. (Es decir, diga la condición inicial)\n",
    "3. diga el punto $a$ del dominio de la solución $y$ para el que quiere su valor $y(a)$.\n",
    "4. diga el valor $h$ del paso. "
   ]
  },
  {
   "cell_type": "markdown",
   "id": "fde48db0",
   "metadata": {
    "slideshow": {
     "slide_type": "slide"
    }
   },
   "source": [
    "### Output"
   ]
  },
  {
   "cell_type": "markdown",
   "id": "daacf283",
   "metadata": {
    "slideshow": {
     "slide_type": "slide"
    }
   },
   "source": [
    "1. Un DataFrame cuyas columnas sean X, Y_exact, Y_aprox y el error dado en porcentaje. \n",
    "2. El gráfico realizado en Matplotlib de la solución exacta y la solución aproximada.  "
   ]
  },
  {
   "cell_type": "markdown",
   "id": "59c79938",
   "metadata": {
    "slideshow": {
     "slide_type": "slide"
    }
   },
   "source": [
    "## Apéndice"
   ]
  },
  {
   "cell_type": "markdown",
   "id": "be26388c",
   "metadata": {},
   "source": [
    "$$ y' = F(x,y) $$"
   ]
  },
  {
   "cell_type": "markdown",
   "id": "5ca3071b",
   "metadata": {
    "slideshow": {
     "slide_type": "slide"
    }
   },
   "source": [
    "$$ y'' = \\frac{d}{dx} F(x,y)  = \\frac{\\partial}{\\partial x}F(x,y) + \\frac{\\partial }{\\partial y}F(x,y) \\cdot \\frac{dy}{dx}$$"
   ]
  },
  {
   "cell_type": "markdown",
   "id": "22d19dff",
   "metadata": {
    "slideshow": {
     "slide_type": "slide"
    }
   },
   "source": [
    "## Referentes:\n",
    "\n",
    "* Larson. Cálculo. \n",
    "* Lambdify:  https://docs.sympy.org/latest/modules/utilities/lambdify.html  \n",
    "* sympify:  https://docs.sympy.org/latest/modules/core.html?highlight=sympify#sympy.core.sympify  \n",
    "* The dsolve() function of sympy: https://docs.sympy.org/latest/modules/solvers/ode.html"
   ]
  },
  {
   "cell_type": "code",
   "execution_count": null,
   "id": "0a7751c7",
   "metadata": {},
   "outputs": [],
   "source": []
  },
  {
   "cell_type": "markdown",
   "id": "7cf66d93",
   "metadata": {
    "slideshow": {
     "slide_type": "slide"
    }
   },
   "source": [
    "## Ensayo de funcionamiento del código "
   ]
  },
  {
   "cell_type": "code",
   "execution_count": null,
   "id": "f1ef162c",
   "metadata": {},
   "outputs": [],
   "source": [
    "from sympy import * \n",
    "import numpy as np \n",
    "\n",
    "yp = '2*x*y'\n",
    "\n",
    "x,y,x_,y_,C1 = symbols('x,y,x_,y_,C1')\n",
    "y_ = Function('y_')(x_)                  # establecemos que y_ es función de x_\n",
    "yp_sympy = sympify(yp, evaluate = False) # convierte la expresión del ususrio (un str) en una expresión de sympy\n",
    "yp_sympy_ = yp_sympy.subs({x:x_, y:y_})  # cambia x por x_  y y por y_ \n",
    "yp_numpy = lambdify([x,y], yp_sympy) \n",
    "ypp_numpy = lambdify( [x,y], (yp_numpy(x+0.0001,y) - yp_numpy(x,y))/0.0001 )\n",
    "    \n",
    "eq = Eq(diff(y_, x_), yp_sympy_)  # construye la ecuación diferencial en términos de sympy \n",
    "sol_gen = dsolve(eq, y_)          # halla la solución general \n",
    "eq_c = Eq( 1, sol_gen.rhs.subs({x_:1}) )  # sustituye la condición inicial \n",
    "      # el parámetro de la solución general lo vuelve una variable simbólica de sympy\n",
    "Const = solve(eq_c,C1)\n",
    "Const = Const[0] \n",
    "sol_pvi_sympy = sol_gen.subs({C1:Const})   # solución exacta \n",
    "round(float(sol_pvi_sympy.rhs.subs({x_:1.1})),2)      "
   ]
  },
  {
   "cell_type": "code",
   "execution_count": null,
   "id": "ad4fa314",
   "metadata": {},
   "outputs": [],
   "source": [
    "def sol_exact(t):\n",
    "    return np.exp(t**2-1) "
   ]
  },
  {
   "cell_type": "code",
   "execution_count": null,
   "id": "673ae3e8",
   "metadata": {},
   "outputs": [],
   "source": [
    "t = np.arange(1,1.6,0.1)\n",
    "sol_exact(t)"
   ]
  },
  {
   "cell_type": "markdown",
   "id": "45cf3009",
   "metadata": {
    "slideshow": {
     "slide_type": "slide"
    }
   },
   "source": [
    "## Referentes \n",
    "\n",
    "* denriquebarros@unicesar.edu.co \n",
    "* baflorezs@ufpso.edu.co  \n",
    "* 3224769126  \n"
   ]
  },
  {
   "cell_type": "code",
   "execution_count": null,
   "id": "943725d6",
   "metadata": {},
   "outputs": [],
   "source": []
  }
 ],
 "metadata": {
  "celltoolbar": "Slideshow",
  "kernelspec": {
   "display_name": "Python 3",
   "language": "python",
   "name": "python3"
  },
  "language_info": {
   "codemirror_mode": {
    "name": "ipython",
    "version": 3
   },
   "file_extension": ".py",
   "mimetype": "text/x-python",
   "name": "python",
   "nbconvert_exporter": "python",
   "pygments_lexer": "ipython3",
   "version": "3.8.8"
  },
  "latex_envs": {
   "LaTeX_envs_menu_present": true,
   "autoclose": false,
   "autocomplete": false,
   "bibliofile": "biblio.bib",
   "cite_by": "apalike",
   "current_citInitial": 1,
   "eqLabelWithNumbers": true,
   "eqNumInitial": 1,
   "hotkeys": {
    "equation": "Ctrl-E",
    "itemize": "Ctrl-I"
   },
   "labels_anchors": false,
   "latex_user_defs": false,
   "report_style_numbering": false,
   "user_envs_cfg": false
  },
  "rise": {
   "enable_chalkboard": true,
   "theme": "sky",
   "transition": "zoom"
  }
 },
 "nbformat": 4,
 "nbformat_minor": 5
}
