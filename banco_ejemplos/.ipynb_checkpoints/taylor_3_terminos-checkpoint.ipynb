{
 "cells": [
  {
   "cell_type": "markdown",
   "id": "41db43d6",
   "metadata": {
    "slideshow": {
     "slide_type": "slide"
    }
   },
   "source": [
    "<table align=\"left\">\n",
    "  <td>\n",
    "    <a href=\"https://colab.research.google.com/github/marco-canas/methods/blob/main/taylor_3_terminos.ipynb\" target=\"_parent\"><img src=\"https://colab.research.google.com/assets/colab-badge.svg\" alt=\"Open In Colab\"/></a>\n",
    "  </td>\n",
    "  <td>\n",
    "    <a target=\"_blank\" href=\"https://kaggle.com/kernels/welcome?src=https://github.com/marco-canas/methods/blob/main/taylor_3_terminos.ipynb\"><img src=\"https://kaggle.com/static/images/open-in-kaggle.svg\" /></a>\n",
    "  </td>\n",
    "</table>"
   ]
  },
  {
   "cell_type": "markdown",
   "id": "315baa32",
   "metadata": {
    "slideshow": {
     "slide_type": "slide"
    }
   },
   "source": [
    "# Método de Taylor en tres términos"
   ]
  },
  {
   "cell_type": "markdown",
   "id": "c39f1684",
   "metadata": {
    "slideshow": {
     "slide_type": "slide"
    }
   },
   "source": [
    "$$ y_{n+1} = y_{n} + y_{n}'h + y_{n}''\\frac{h^{2}}{2}, \\ \\ \\ \\  y_{0} = y(x_{0}) $$"
   ]
  },
  {
   "cell_type": "markdown",
   "id": "405b77a4",
   "metadata": {
    "slideshow": {
     "slide_type": "slide"
    }
   },
   "source": [
    "### [Primer Video de apoyo](https://www.youtube.com/watch?v=5YF3vbLtEws)"
   ]
  },
  {
   "cell_type": "markdown",
   "id": "9ba2984d",
   "metadata": {
    "slideshow": {
     "slide_type": "slide"
    }
   },
   "source": [
    "### [Segundo video de apoyo]()"
   ]
  },
  {
   "cell_type": "markdown",
   "id": "4e826459",
   "metadata": {
    "slideshow": {
     "slide_type": "slide"
    }
   },
   "source": [
    "## Deducción de la fórmula recursiva anterior"
   ]
  },
  {
   "cell_type": "markdown",
   "id": "a4daf73e",
   "metadata": {
    "slideshow": {
     "slide_type": "slide"
    }
   },
   "source": [
    "Ver página 669 de Cálculo de larson. "
   ]
  },
  {
   "cell_type": "markdown",
   "id": "bbd10591",
   "metadata": {
    "slideshow": {
     "slide_type": "slide"
    }
   },
   "source": [
    "## Objetivos "
   ]
  },
  {
   "cell_type": "markdown",
   "id": "17a58bd5",
   "metadata": {
    "slideshow": {
     "slide_type": "slide"
    }
   },
   "source": [
    "* Mostrar que el método de Taylor de los tres términos consiste en aproximaciones polinomiales de grado 2 a la función \n",
    "  solución de un PVI de primer orden.\n",
    "* Encontrar aproximaciones mediante polinomios de Taylor y Maclaurin a funciones elementales."
   ]
  },
  {
   "cell_type": "markdown",
   "id": "47028548",
   "metadata": {
    "slideshow": {
     "slide_type": "slide"
    }
   },
   "source": [
    "## Aproximaciones polinomiales a funciones solución de PVI de primer orden "
   ]
  },
  {
   "cell_type": "markdown",
   "id": "8cf41f7d",
   "metadata": {
    "slideshow": {
     "slide_type": "slide"
    }
   },
   "source": [
    "El objetivo de esta sección es mostrar cómo pueden usarse las funciones polinomiales como aproximaciones a otras funciones solución de PVI's de primer orden.   "
   ]
  },
  {
   "cell_type": "markdown",
   "id": "ee366c8b",
   "metadata": {
    "slideshow": {
     "slide_type": "slide"
    }
   },
   "source": [
    "Para encontrar una función polinomial que aproxime otra función se comienza por elegir un número $c$ en el dominio de $f$ en el que $P$ y $f$ tengan el mismo valor.   "
   ]
  },
  {
   "cell_type": "markdown",
   "id": "cfd016b6",
   "metadata": {
    "slideshow": {
     "slide_type": "slide"
    }
   },
   "source": [
    "Es decir\n",
    "\n",
    "$$ P(c) = f(c), \\ \\ \\ \\ \\text{Las gráficas de $P$ y $f$ pasan por $(c,f(c))$}  $$"
   ]
  },
  {
   "cell_type": "markdown",
   "id": "6fb27722",
   "metadata": {
    "slideshow": {
     "slide_type": "slide"
    }
   },
   "source": [
    "Se dice que la aproximación polinomial se expande alrededor de $c$ o está centrada en $c$.  "
   ]
  },
  {
   "cell_type": "markdown",
   "id": "241e4a11",
   "metadata": {
    "slideshow": {
     "slide_type": "slide"
    }
   },
   "source": [
    "Geométricamente, el requisito de que $P(c) = f(c)$ significa que la gráfica de $P$ debe pasar por el punto $(c, f(c))$. "
   ]
  },
  {
   "cell_type": "markdown",
   "id": "b6b24cb4",
   "metadata": {
    "slideshow": {
     "slide_type": "slide"
    }
   },
   "source": [
    "Por supuesto, hay muchos polinomios cuyas gráficas pasan por el punto $(c, f (c))$. "
   ]
  },
  {
   "cell_type": "markdown",
   "id": "835d749d",
   "metadata": {
    "slideshow": {
     "slide_type": "slide"
    }
   },
   "source": [
    "La tarea es encontrar un polinomio cuya gráfica se parezca a la gráfica de $f$ en la cercanía de este punto.   "
   ]
  },
  {
   "cell_type": "markdown",
   "id": "31da640d",
   "metadata": {
    "slideshow": {
     "slide_type": "slide"
    }
   },
   "source": [
    "Una manera de hacer esto es imponer el requisito adicional de que la pendiente de la función polinomial sea la misma que la pendiente de la gráfica de $f$ en el punto $(c, f (c))$.  \n",
    "\n",
    "$$ P'(c) = f'(c), \\ \\ \\ \\ \\text{Las gráficas de $f$ y $p$ tienen la misma pendiente en $(c,f(c))$} $$ "
   ]
  },
  {
   "cell_type": "markdown",
   "id": "14c76855",
   "metadata": {
    "slideshow": {
     "slide_type": "slide"
    }
   },
   "source": [
    "Con estos dos requisitos se puede obtener una aproximación lineal simple a $f$, como se muestra en la figura 9.10.\n"
   ]
  },
  {
   "cell_type": "markdown",
   "id": "bcf41f71",
   "metadata": {
    "slideshow": {
     "slide_type": "slide"
    }
   },
   "source": [
    "<img src = 'https://github.com/marco-canas/methods/blob/main/banco_ejemplos/figura_9_10.png?raw=true'>"
   ]
  },
  {
   "cell_type": "markdown",
   "id": "8d900679",
   "metadata": {
    "slideshow": {
     "slide_type": "slide"
    }
   },
   "source": [
    "## EJEMPLO 1 Aproximación a mediante un polinomio de primer grado"
   ]
  },
  {
   "cell_type": "markdown",
   "id": "65017904",
   "metadata": {
    "slideshow": {
     "slide_type": "slide"
    }
   },
   "source": [
    "Dada la función $f(x) = e^{x}$, encontrar una función polinomial de primer grado  \n",
    "\n",
    "$$ P_{1}(x) = a_{0} + a_{1}x $$\n",
    "\n",
    "cuyo valor y pendiente en $x = 0$ coinciden en el valor y la pendiente de $f$. "
   ]
  },
  {
   "cell_type": "markdown",
   "id": "42328d54",
   "metadata": {
    "slideshow": {
     "slide_type": "slide"
    }
   },
   "source": [
    "### Solución: "
   ]
  },
  {
   "cell_type": "markdown",
   "id": "2a8d6244",
   "metadata": {
    "slideshow": {
     "slide_type": "slide"
    }
   },
   "source": [
    "Como $f(x) = e^{x}$ y $f'(x) = e^{x}$, el valor y la pendiente de $f$ en $x = 0$ están dados por \n",
    "\n",
    "$$ f(0) = e^{0} = 1 $$\n",
    "\n",
    "y\n",
    "\n",
    "$$ f'(0) = e^{0} = 1. $$\n"
   ]
  },
  {
   "cell_type": "markdown",
   "id": "4b64e003",
   "metadata": {
    "slideshow": {
     "slide_type": "slide"
    }
   },
   "source": [
    "Como $P_{1}(x) = a_{0} + a_{1}x$, se puede usar la condición $P_{1}(0) = f(0)$, para concluir que $a_{0} = 1$. "
   ]
  },
  {
   "cell_type": "markdown",
   "id": "bbd95a77",
   "metadata": {
    "slideshow": {
     "slide_type": "slide"
    }
   },
   "source": [
    "Es más, como $P_{1}'(x) = a_{1}$, se puede usar la condición $P_{1}'(0) = f'(0)$ para concluir que $a_{1} = 1$. "
   ]
  },
  {
   "cell_type": "markdown",
   "id": "0060101e",
   "metadata": {
    "slideshow": {
     "slide_type": "slide"
    }
   },
   "source": [
    "Por consiguiente, \n",
    "\n",
    "$$ P_{1}(x) = 1 + x = f(0) + f'(0)x $$\n"
   ]
  },
  {
   "cell_type": "markdown",
   "id": "692f465c",
   "metadata": {
    "slideshow": {
     "slide_type": "slide"
    }
   },
   "source": [
    "La figura 9.11 muestra las gráficas de $P_{1}(x) = 1 + x$ y $f(x) = x$.  "
   ]
  },
  {
   "cell_type": "markdown",
   "id": "8f3c67ec",
   "metadata": {
    "slideshow": {
     "slide_type": "slide"
    }
   },
   "source": [
    "## Nota:  \n",
    "\n",
    "En el ejemplo 1 no es la primera vez que se usa una función lineal para aproximar otra función. El mismo procedimiento se usó como base para el método de Newton. "
   ]
  },
  {
   "cell_type": "markdown",
   "id": "91f23eec",
   "metadata": {
    "slideshow": {
     "slide_type": "slide"
    }
   },
   "source": [
    "En la figura 9.12 se puede ver que, en los puntos cercanos a $(0, 1)$, la gráfica de \n",
    "\n",
    "$$ P_{1}(x) = 1 + x \\ \\ \\ \\ \\text{aproximación de primer grado}. $$\n",
    "\n",
    "está razonablemente cerca a la gráfica de $f(x) = e^{x}$. "
   ]
  },
  {
   "cell_type": "markdown",
   "id": "b547dbce",
   "metadata": {
    "slideshow": {
     "slide_type": "slide"
    }
   },
   "source": [
    "Sin embargo, al alejarse de $(0,1)$, las gráficas se apartan y la precisión de a aproximación disminuye. "
   ]
  },
  {
   "cell_type": "markdown",
   "id": "961634f1",
   "metadata": {
    "slideshow": {
     "slide_type": "slide"
    }
   },
   "source": [
    "Para mejorar la aproximación se puede imponer otro requisito todavía: que los valores de las segundas derivadas de $P$ y $f$ sean iguales en $x = 0$. "
   ]
  },
  {
   "cell_type": "markdown",
   "id": "cb4992f7",
   "metadata": {
    "slideshow": {
     "slide_type": "slide"
    }
   },
   "source": [
    "El polinomio de menor grado, $P_{2}$, que satisface los tres requisitos, \n",
    "\n",
    "$$ P_{2}(0) = f(0), \\ \\ \\ \\ P_{2}'(0) = f'(0), \\ \\ \\ \\ \\text{y} \\ \\ \\ \\ P_{2}''(0) = f''(0), $$\n",
    "\n",
    "puede mostrarse que es:\n",
    "\n",
    "$$ P_{2}(x) = 1 + x + \\frac{1}{2}x^{2} \\ \\ \\ \\ \\text{Aproximación de segundo grado} $$\n"
   ]
  },
  {
   "cell_type": "markdown",
   "id": "1af56174",
   "metadata": {
    "slideshow": {
     "slide_type": "slide"
    }
   },
   "source": [
    "<img src = 'https://github.com/marco-canas/methods/blob/main/figura_9_12.png?raw=true'> "
   ]
  },
  {
   "cell_type": "markdown",
   "id": "a25a4e33",
   "metadata": {
    "slideshow": {
     "slide_type": "slide"
    }
   },
   "source": [
    "Es más, en la figura 9.12 se puede ver que $P_{2}$ es una mejor aproximación que $P_{1}$. Si se continúa con este patrón, requiriendo que los valores de $P_{n}(x)$ y de sus primeras $n$ derivadas coincidan con las de $f(x) = e^{x}$ en $x = 0$ se obtiene lo siguiente:\n",
    "\n",
    "\n",
    "$$ P_{n}(x) = 1 + x + \\frac{1}{2}x^{2} + \\frac{1}{3!}x^{3} + \\cdots + \\frac{1}{n!}x^{n} \\approx e^{x} $$\n"
   ]
  },
  {
   "cell_type": "markdown",
   "id": "b6b8372a",
   "metadata": {
    "slideshow": {
     "slide_type": "slide"
    }
   },
   "source": [
    "Continua en la página 670. "
   ]
  },
  {
   "cell_type": "markdown",
   "id": "0a9901c5",
   "metadata": {
    "slideshow": {
     "slide_type": "slide"
    }
   },
   "source": [
    "## Ejemplo 2 a $f(x) = e^{x}$ mediante un polinomio de tercer grado. "
   ]
  },
  {
   "cell_type": "markdown",
   "id": "4f0e2264",
   "metadata": {
    "slideshow": {
     "slide_type": "slide"
    }
   },
   "source": [
    "Construir una tabla que compare los valores del polinomio \n",
    "\n",
    "$$ P_{3}(x) = 1 + x + \\frac{1}{2}x^{2} + \\frac{1}{3!}x^{3} \\ \\ \\ \\ \\text{aproximación de tercer grado} $$\n",
    "\n",
    "con $f(x) = e^{x}$ para varios valores de $x$ cercanos a cero. \n"
   ]
  },
  {
   "cell_type": "markdown",
   "id": "9ed30598",
   "metadata": {
    "slideshow": {
     "slide_type": "slide"
    }
   },
   "source": [
    "### Solución: "
   ]
  },
  {
   "cell_type": "markdown",
   "id": "e6b5d3d9",
   "metadata": {
    "slideshow": {
     "slide_type": "slide"
    }
   },
   "source": [
    "## Deduzcamos la fórmula recursiva del método de Taylor de tres términos"
   ]
  },
  {
   "cell_type": "markdown",
   "id": "b4a14d13",
   "metadata": {
    "slideshow": {
     "slide_type": "slide"
    }
   },
   "source": [
    "$x_{0} = 1$  \n",
    "\n",
    "$$ y(x) \\approx P_{2}(x) = y(x_{0}) + y'(x_{0})(x-x_{0}) + \\frac{1}{2}y''(x_{0})(x - x_{0})^{2}  $$\n",
    "\n",
    "de la página 671 de Larson. Defini]ción de polinomio de Taylor de una función $y(x)$ centrado en $x_{0}$. "
   ]
  },
  {
   "cell_type": "markdown",
   "id": "a342c1ce",
   "metadata": {
    "slideshow": {
     "slide_type": "slide"
    }
   },
   "source": [
    "Si $x = x_{1}$\n",
    "\n",
    "$$ y_{1} = y(x_{1}) \\approx P_{2}(x_{1}) = y(x_{0}) + y'(x_{0})(x_{1}-x_{0}) + \\frac{1}{2}y''(x_{0})(x_{1} - x_{0})^{2}  $$\n",
    "\n",
    "$$ y_{1} = y(x_{1}) \\approx P_{2}(x_{1}) = y(x_{0}) + y'(x_{0})h + \\frac{1}{2}y''(x_{0})h^{2}  $$\n",
    "\n"
   ]
  },
  {
   "cell_type": "markdown",
   "id": "6e5d1088",
   "metadata": {
    "slideshow": {
     "slide_type": "slide"
    }
   },
   "source": [
    "Si $x = x_{2}$\n",
    "\n",
    "$$ y_{2} = y(x_{2}) \\approx P_{2}(x_{2}) = y(x_{1}) + y'(x_{1})(x_{2}-x_{1}) + \\frac{1}{2}y''(x_{1})(x_{2} - x_{1})^{2}  $$\n",
    "\n",
    "$$ y_{2} = y(x_{2}) \\approx P_{2}(x_{2}) = y(x_{1}) + y'(x_{1})h + \\frac{1}{2}y''(x_{1})h^{2}  $$\n"
   ]
  },
  {
   "cell_type": "code",
   "execution_count": null,
   "id": "fa4c63da",
   "metadata": {
    "slideshow": {
     "slide_type": "slide"
    }
   },
   "outputs": [],
   "source": []
  },
  {
   "cell_type": "markdown",
   "id": "8ebe3b91",
   "metadata": {
    "slideshow": {
     "slide_type": "slide"
    }
   },
   "source": [
    "## Ejemplo  de aplicación de la fórmula de Taylor de los tres términos\n",
    "\n",
    "Usar la fórmula de Taylor de tres términos para obtener una aproximación al valor de $y(1.5)$ de la solución de $y'= 2xy$ ; $y(1) = 1$ utilizando $h = 0.1$."
   ]
  },
  {
   "cell_type": "markdown",
   "id": "b613376f",
   "metadata": {
    "slideshow": {
     "slide_type": "slide"
    }
   },
   "source": [
    "$$ y_{n+1} = y_{n} + y_{n}'h + \\frac{1}{2}y_{n}''h^{2}, \\ \\ \\ y_{0} = y(1) = 1 $$"
   ]
  },
  {
   "cell_type": "markdown",
   "id": "5a2221fb",
   "metadata": {
    "slideshow": {
     "slide_type": "slide"
    }
   },
   "source": [
    "$$y(x) \\approx P_{2}(x) = a_{0} + a_{1}x + a_{2}x^{2} = y(x_{0}) + y'(x_{0})x + \\frac{1}{2}y''(x_{0})x^{2} $$"
   ]
  },
  {
   "cell_type": "markdown",
   "id": "da171c98",
   "metadata": {
    "slideshow": {
     "slide_type": "slide"
    }
   },
   "source": [
    "## Solución:"
   ]
  },
  {
   "cell_type": "markdown",
   "id": "bfceec44",
   "metadata": {
    "slideshow": {
     "slide_type": "slide"
    }
   },
   "source": [
    "### Construcción de función intagrate() "
   ]
  },
  {
   "cell_type": "markdown",
   "id": "66bec213",
   "metadata": {
    "slideshow": {
     "slide_type": "slide"
    }
   },
   "source": [
    "Para la determinación de la solución numérica utilizaré las variables $x_$ y $y_$, mientras que para el cálculo de la solución analítica utilizaré las variables x e y. "
   ]
  },
  {
   "cell_type": "code",
   "execution_count": 1,
   "id": "7f2bbe07",
   "metadata": {
    "slideshow": {
     "slide_type": "slide"
    }
   },
   "outputs": [],
   "source": [
    "from sympy import * \n",
    "import numpy as np  # librería utilizada para la determinación de las matrices solucion aproximada y error\n",
    "import pandas as pd # librería utilizada para construir la tabla de comparación de soluciones\n",
    "from matplotlib import pyplot as plt # graficar la comparación en un plano de la solución exacta y la solución aproximada\n",
    "from pytexit import py2tex, for2tex, for2py "
   ]
  },
  {
   "cell_type": "code",
   "execution_count": 2,
   "id": "2a34fbef",
   "metadata": {
    "slideshow": {
     "slide_type": "slide"
    }
   },
   "outputs": [],
   "source": [
    "def conver(yp):\n",
    "    \"\"\"\n",
    "    input:\n",
    "    yp es una cadena de caracteres que define a y' = F(x,y)\n",
    "    output:\n",
    "    yp_sympy es decir, la conversión de la cadena como expresión de sympy\n",
    "    \"\"\"\n",
    "    x,y = symbols('x,y')\n",
    "    y = Function('y')(x)\n",
    "    yp_sympy = sympify(yp).subs({'y':y})    # línea importante para establecer a y como función de x en la expresión convertida\n",
    "    return yp_sympy "
   ]
  },
  {
   "cell_type": "code",
   "execution_count": 3,
   "id": "fffe7d22",
   "metadata": {
    "slideshow": {
     "slide_type": "slide"
    }
   },
   "outputs": [
    {
     "data": {
      "text/latex": [
       "$\\displaystyle \\left(2 - 2 \\frac{d}{d x} y{\\left(x \\right)}\\right) \\left(x - y{\\left(x \\right)}\\right)$"
      ],
      "text/plain": [
       "(2 - 2*Derivative(y(x), x))*(x - y(x))"
      ]
     },
     "execution_count": 3,
     "metadata": {},
     "output_type": "execute_result"
    }
   ],
   "source": [
    "yp = '(x-y)**2'\n",
    "x,y = symbols('x,y')\n",
    "y = Function('y')(x) \n",
    "yp_sympy = conver(yp)\n",
    "diff(yp_sympy,x) "
   ]
  },
  {
   "cell_type": "markdown",
   "id": "168edcd8",
   "metadata": {
    "slideshow": {
     "slide_type": "slide"
    }
   },
   "source": [
    "Observación: La función `lambdify()` de sympy, en principio vonvierte expresiones de la variable x en expresiones de sympy de la variable x. Para que reconozca a una variable adicional tiene que utilizar la función `subs()` de sympy. "
   ]
  },
  {
   "cell_type": "code",
   "execution_count": 22,
   "id": "8b5996a9",
   "metadata": {
    "slideshow": {
     "slide_type": "slide"
    }
   },
   "outputs": [],
   "source": [
    "def sol_exact(yp_sympy,X0,Y0):\n",
    "    \"\"\"\n",
    "    Esta función resuelve el PVI y' = F(x,y), y(x0) = y0. \n",
    "    Input:\n",
    "    yp_sympy es y' como expresión de sympy. \n",
    "    Output: \n",
    "    La función de salida y es una función lambda de Python\n",
    "    \"\"\"\n",
    "    x,y = symbols('x,y')\n",
    "    y = Function('y')(x)\n",
    "    eq = Eq(diff(y), yp_sympy)\n",
    "    solgen = dsolve(eq,y)\n",
    "    solgen = solgen.subs({O(x**6):0})\n",
    "    eqc = solgen.subs({x:X0,y:Y0})\n",
    "    C1 = symbols('C1')\n",
    "    Const = solve(eqc,C1)[1].evalf()      # recuerde que la función solve arroja una lista o un diccionario. \n",
    "    solpvi = solgen.subs({C1:Const}) \n",
    "    y = lambdify(x,solpvi.rhs)\n",
    "    return y,solpvi"
   ]
  },
  {
   "cell_type": "markdown",
   "id": "1abfabbe",
   "metadata": {
    "slideshow": {
     "slide_type": "slide"
    }
   },
   "source": [
    "### Construir una función para la solución analítica solución exacta"
   ]
  },
  {
   "cell_type": "code",
   "execution_count": 23,
   "id": "1b506330",
   "metadata": {
    "slideshow": {
     "slide_type": "slide"
    }
   },
   "outputs": [],
   "source": [
    "def integrate(yp, X0, Y0, paso, a):\n",
    "    x,y = symbols('x,y') # para cálculo simbólico\n",
    "    x_,y_ = symbols('x_,y_')  # para cálculo numérico\n",
    "    y = Function('y')\n",
    "    yp_sympy = conver(yp)\n",
    "    ypp_sympy = diff(yp_sympy,x)\n",
    "    ypp_sympy = ypp_sympy.subs({diff(y,x):yp_sympy}) \n",
    "    y_sympy = sol_exact(yp_sympy,X0,Y0)[0]\n",
    "    yp_numpy = lambdify([x_,y_],yp_sympy.subs({x:x_,y(x):y_}))     # función 1 para cálculo numérico \n",
    "                                               #(Ojo: es necesario especificar que nos referimos a y(x))\n",
    "    d = 0.001    # denominador del cociente incremental \n",
    "    ypp_numpy=lambda x_,y_: ((yp_numpy(x_+d,y_)-yp_numpy(x_,y_))/d+((yp_numpy(x_,y_+d)-yp_numpy(x_,y_))/d)*yp_numpy(x_,y_)) \n",
    "    \n",
    "    # función 2 para cálculo numérico\n",
    "    def y_exac(xn):\n",
    "        return sol_exact(yp_sympy,X0,Y0)[0](xn)\n",
    "    \n",
    "    def y_approx(x0,y0):\n",
    "        b = yp_numpy(x0, y0)*paso + 0.5*ypp_numpy(x0, y0)*paso**2\n",
    "        return b\n",
    "    X = []                                   # Lista de python para los puntos del dominio \n",
    "    Y_approx = []                            # Lista de Python que definen la solución aproximada \n",
    "    Y_exact = []                             # Lista de Python que define a la solución exacta \n",
    "    X.append(X0)\n",
    "    Y_approx.append(Y0)\n",
    "    Y_exact.append(Y0)                       # y' = 2xy, donde y = exp(x^2 - 1)\n",
    "    x0,y0 = X0,Y0    \n",
    "    while x0 < a:\n",
    "        paso = min(paso, a - x0)\n",
    "        y0 += y_approx(x0,y0)\n",
    "        Y_approx.append(y0)\n",
    "        x0 += paso \n",
    "        y0_exac = round( float( y_exac(x0) ), 4)  \n",
    "        Y_exact.append(y0_exac)\n",
    "        X.append(x0)\n",
    "        \n",
    "    Error = np.abs(np.array(Y_approx) - np.array(Y_exact))/np.abs(np.array(Y_exact))*100    \n",
    "    \n",
    "    table = pd.DataFrame({'X':X, 'Solución aproximada Y':Y_approx, 'Solución exacta Y':Y_exact, 'error en porcentaje':Error})\n",
    "    \n",
    "    fig = plt.figure(figsize = (12,8)) # crea la figura\n",
    "\n",
    "    ax = fig.add_subplot()             # crea los ejes \n",
    "\n",
    "    ax.plot(X,Y_approx, label = 'solución aproximada', color = 'blue' )\n",
    "\n",
    "    ax.plot(X,Y_exact, label = 'solución exacta', color = 'red')\n",
    "    ax.set(title = r\"Comparación entre la solución exacta y la solución aproximada de y' = {} \\n La solución analítica obtenida fue y = {}\".format(yp,sol_exact(yp_sympy,X0,Y0)[1] ), \n",
    "       xlabel = 'x', ylabel = r'$y(x)$')\n",
    "\n",
    "    ax.legend() \n",
    "\n",
    "    ax.grid()\n",
    "\n",
    "    # plt.savefig('comparacion_de_soluciones.jpg')  # esta función crea el archivo .jpg en la carpeta de trabajo. \n",
    "    return table "
   ]
  },
  {
   "cell_type": "code",
   "execution_count": 16,
   "id": "567e8019",
   "metadata": {
    "slideshow": {
     "slide_type": "slide"
    }
   },
   "outputs": [
    {
     "data": {
      "text/html": [
       "<div>\n",
       "<style scoped>\n",
       "    .dataframe tbody tr th:only-of-type {\n",
       "        vertical-align: middle;\n",
       "    }\n",
       "\n",
       "    .dataframe tbody tr th {\n",
       "        vertical-align: top;\n",
       "    }\n",
       "\n",
       "    .dataframe thead th {\n",
       "        text-align: right;\n",
       "    }\n",
       "</style>\n",
       "<table border=\"1\" class=\"dataframe\">\n",
       "  <thead>\n",
       "    <tr style=\"text-align: right;\">\n",
       "      <th></th>\n",
       "      <th>X</th>\n",
       "      <th>Solución aproximada Y</th>\n",
       "      <th>Solución exacta Y</th>\n",
       "      <th>error en porcentaje</th>\n",
       "    </tr>\n",
       "  </thead>\n",
       "  <tbody>\n",
       "    <tr>\n",
       "      <th>0</th>\n",
       "      <td>1.0</td>\n",
       "      <td>0.500000</td>\n",
       "      <td>0.5000</td>\n",
       "      <td>0.000000</td>\n",
       "    </tr>\n",
       "    <tr>\n",
       "      <th>1</th>\n",
       "      <td>1.1</td>\n",
       "      <td>0.505000</td>\n",
       "      <td>0.5047</td>\n",
       "      <td>0.059441</td>\n",
       "    </tr>\n",
       "    <tr>\n",
       "      <th>2</th>\n",
       "      <td>1.2</td>\n",
       "      <td>0.518306</td>\n",
       "      <td>0.5179</td>\n",
       "      <td>0.078345</td>\n",
       "    </tr>\n",
       "    <tr>\n",
       "      <th>3</th>\n",
       "      <td>1.3</td>\n",
       "      <td>0.538969</td>\n",
       "      <td>0.5385</td>\n",
       "      <td>0.087166</td>\n",
       "    </tr>\n",
       "    <tr>\n",
       "      <th>4</th>\n",
       "      <td>1.4</td>\n",
       "      <td>0.566358</td>\n",
       "      <td>0.5659</td>\n",
       "      <td>0.080931</td>\n",
       "    </tr>\n",
       "    <tr>\n",
       "      <th>5</th>\n",
       "      <td>1.5</td>\n",
       "      <td>0.600037</td>\n",
       "      <td>0.5995</td>\n",
       "      <td>0.089504</td>\n",
       "    </tr>\n",
       "  </tbody>\n",
       "</table>\n",
       "</div>"
      ],
      "text/plain": [
       "     X  Solución aproximada Y  Solución exacta Y  error en porcentaje\n",
       "0  1.0               0.500000             0.5000             0.000000\n",
       "1  1.1               0.505000             0.5047             0.059441\n",
       "2  1.2               0.518306             0.5179             0.078345\n",
       "3  1.3               0.538969             0.5385             0.087166\n",
       "4  1.4               0.566358             0.5659             0.080931\n",
       "5  1.5               0.600037             0.5995             0.089504"
      ]
     },
     "execution_count": 16,
     "metadata": {},
     "output_type": "execute_result"
    },
    {
     "data": {
      "image/png": "[encoded data removed]",
      "text/plain": [
       "<Figure size 864x576 with 1 Axes>"
      ]
     },
     "metadata": {
      "needs_background": "light"
     },
     "output_type": "display_data"
    }
   ],
   "source": [
    "integrate(\"x-1+1/x-2*y/x\", X0 = 1, Y0 = 1/2, paso = 0.1, a = 1.5) # a > X0"
   ]
  },
  {
   "cell_type": "code",
   "execution_count": null,
   "id": "d573fbea",
   "metadata": {
    "scrolled": true,
    "slideshow": {
     "slide_type": "slide"
    }
   },
   "outputs": [],
   "source": [
    "for2tex('x**2')[1:-1]  "
   ]
  },
  {
   "cell_type": "code",
   "execution_count": null,
   "id": "6b5cb645",
   "metadata": {},
   "outputs": [],
   "source": [
    "py2tex('2*x')[1:-1]  "
   ]
  },
  {
   "cell_type": "code",
   "execution_count": null,
   "id": "4e1cc5bc",
   "metadata": {},
   "outputs": [],
   "source": [
    "for2py('x**2')"
   ]
  },
  {
   "cell_type": "markdown",
   "id": "b5e68c81",
   "metadata": {
    "slideshow": {
     "slide_type": "slide"
    }
   },
   "source": [
    "## Banco de problemas con valor inicial PVI de primer orden para probar a la función integrate() "
   ]
  },
  {
   "cell_type": "code",
   "execution_count": 9,
   "id": "c7d27984",
   "metadata": {
    "slideshow": {
     "slide_type": "slide"
    }
   },
   "outputs": [
    {
     "data": {
      "text/html": [
       "<div>\n",
       "<style scoped>\n",
       "    .dataframe tbody tr th:only-of-type {\n",
       "        vertical-align: middle;\n",
       "    }\n",
       "\n",
       "    .dataframe tbody tr th {\n",
       "        vertical-align: top;\n",
       "    }\n",
       "\n",
       "    .dataframe thead th {\n",
       "        text-align: right;\n",
       "    }\n",
       "</style>\n",
       "<table border=\"1\" class=\"dataframe\">\n",
       "  <thead>\n",
       "    <tr style=\"text-align: right;\">\n",
       "      <th></th>\n",
       "      <th>X</th>\n",
       "      <th>Solución aproximada Y</th>\n",
       "      <th>Solución exacta Y</th>\n",
       "      <th>error en porcentaje</th>\n",
       "    </tr>\n",
       "  </thead>\n",
       "  <tbody>\n",
       "    <tr>\n",
       "      <th>0</th>\n",
       "      <td>0.0</td>\n",
       "      <td>1.000000</td>\n",
       "      <td>1.0000</td>\n",
       "      <td>0.000000</td>\n",
       "    </tr>\n",
       "    <tr>\n",
       "      <th>1</th>\n",
       "      <td>0.1</td>\n",
       "      <td>1.115020</td>\n",
       "      <td>1.1170</td>\n",
       "      <td>0.177259</td>\n",
       "    </tr>\n",
       "    <tr>\n",
       "      <th>2</th>\n",
       "      <td>0.2</td>\n",
       "      <td>1.272430</td>\n",
       "      <td>1.2773</td>\n",
       "      <td>0.381249</td>\n",
       "    </tr>\n",
       "    <tr>\n",
       "      <th>3</th>\n",
       "      <td>0.3</td>\n",
       "      <td>1.489614</td>\n",
       "      <td>1.4986</td>\n",
       "      <td>0.599659</td>\n",
       "    </tr>\n",
       "    <tr>\n",
       "      <th>4</th>\n",
       "      <td>0.4</td>\n",
       "      <td>1.790018</td>\n",
       "      <td>1.8048</td>\n",
       "      <td>0.819053</td>\n",
       "    </tr>\n",
       "    <tr>\n",
       "      <th>5</th>\n",
       "      <td>0.5</td>\n",
       "      <td>2.205037</td>\n",
       "      <td>2.2279</td>\n",
       "      <td>1.026207</td>\n",
       "    </tr>\n",
       "  </tbody>\n",
       "</table>\n",
       "</div>"
      ],
      "text/plain": [
       "     X  Solución aproximada Y  Solución exacta Y  error en porcentaje\n",
       "0  0.0               1.000000             1.0000             0.000000\n",
       "1  0.1               1.115020             1.1170             0.177259\n",
       "2  0.2               1.272430             1.2773             0.381249\n",
       "3  0.3               1.489614             1.4986             0.599659\n",
       "4  0.4               1.790018             1.8048             0.819053\n",
       "5  0.5               2.205037             2.2279             1.026207"
      ]
     },
     "execution_count": 9,
     "metadata": {},
     "output_type": "execute_result"
    },
    {
     "data": {
      "image/png": "[encoded data removed]",
      "text/plain": [
       "<Figure size 864x576 with 1 Axes>"
      ]
     },
     "metadata": {
      "needs_background": "light"
     },
     "output_type": "display_data"
    }
   ],
   "source": [
    "integrate(\"y + 2*x*exp(2*x)\", X0 = 0, Y0 = 1, paso = 0.1, a = 0.5)"
   ]
  },
  {
   "cell_type": "code",
   "execution_count": null,
   "id": "834011f2",
   "metadata": {
    "slideshow": {
     "slide_type": "slide"
    }
   },
   "outputs": [],
   "source": [
    " integrate(\"x*exp(-2*x) - 2*y\", X0 = 1, Y0 = 0, paso = 0.1, a = 1.5)"
   ]
  },
  {
   "cell_type": "code",
   "execution_count": null,
   "id": "e5e3620e",
   "metadata": {
    "slideshow": {
     "slide_type": "slide"
    }
   },
   "outputs": [],
   "source": [
    "integrate(\"x-1+1/x-2*y/x\", X0 = 1, Y0 = 1/2, paso = 0.1, a = 1.5) "
   ]
  },
  {
   "cell_type": "code",
   "execution_count": null,
   "id": "dee6e30c",
   "metadata": {
    "slideshow": {
     "slide_type": "slide"
    }
   },
   "outputs": [],
   "source": [
    "integrate('cos(x)/x**2 - (2/x)*y', X0 = 3.14, Y0=0, paso=0.1, a = 3.6)"
   ]
  },
  {
   "cell_type": "code",
   "execution_count": 11,
   "id": "5a839197",
   "metadata": {},
   "outputs": [
    {
     "data": {
      "text/html": [
       "<div>\n",
       "<style scoped>\n",
       "    .dataframe tbody tr th:only-of-type {\n",
       "        vertical-align: middle;\n",
       "    }\n",
       "\n",
       "    .dataframe tbody tr th {\n",
       "        vertical-align: top;\n",
       "    }\n",
       "\n",
       "    .dataframe thead th {\n",
       "        text-align: right;\n",
       "    }\n",
       "</style>\n",
       "<table border=\"1\" class=\"dataframe\">\n",
       "  <thead>\n",
       "    <tr style=\"text-align: right;\">\n",
       "      <th></th>\n",
       "      <th>X</th>\n",
       "      <th>Solución aproximada Y</th>\n",
       "      <th>Solución exacta Y</th>\n",
       "      <th>error en porcentaje</th>\n",
       "    </tr>\n",
       "  </thead>\n",
       "  <tbody>\n",
       "    <tr>\n",
       "      <th>0</th>\n",
       "      <td>0.0</td>\n",
       "      <td>2.000000</td>\n",
       "      <td>2.0000</td>\n",
       "      <td>0.000000</td>\n",
       "    </tr>\n",
       "    <tr>\n",
       "      <th>1</th>\n",
       "      <td>0.1</td>\n",
       "      <td>2.560010</td>\n",
       "      <td>2.5649</td>\n",
       "      <td>0.190650</td>\n",
       "    </tr>\n",
       "    <tr>\n",
       "      <th>2</th>\n",
       "      <td>0.2</td>\n",
       "      <td>3.269793</td>\n",
       "      <td>3.2820</td>\n",
       "      <td>0.371945</td>\n",
       "    </tr>\n",
       "    <tr>\n",
       "      <th>3</th>\n",
       "      <td>0.3</td>\n",
       "      <td>4.168181</td>\n",
       "      <td>4.1909</td>\n",
       "      <td>0.542102</td>\n",
       "    </tr>\n",
       "    <tr>\n",
       "      <th>4</th>\n",
       "      <td>0.4</td>\n",
       "      <td>5.303853</td>\n",
       "      <td>5.3413</td>\n",
       "      <td>0.701077</td>\n",
       "    </tr>\n",
       "    <tr>\n",
       "      <th>5</th>\n",
       "      <td>0.5</td>\n",
       "      <td>6.737788</td>\n",
       "      <td>6.7957</td>\n",
       "      <td>0.852181</td>\n",
       "    </tr>\n",
       "  </tbody>\n",
       "</table>\n",
       "</div>"
      ],
      "text/plain": [
       "     X  Solución aproximada Y  Solución exacta Y  error en porcentaje\n",
       "0  0.0               2.000000             2.0000             0.000000\n",
       "1  0.1               2.560010             2.5649             0.190650\n",
       "2  0.2               3.269793             3.2820             0.371945\n",
       "3  0.3               4.168181             4.1909             0.542102\n",
       "4  0.4               5.303853             5.3413             0.701077\n",
       "5  0.5               6.737788             6.7957             0.852181"
      ]
     },
     "execution_count": 11,
     "metadata": {},
     "output_type": "execute_result"
    },
    {
     "data": {
      "image/png": "[encoded data removed]",
      "text/plain": [
       "<Figure size 864x576 with 1 Axes>"
      ]
     },
     "metadata": {
      "needs_background": "light"
     },
     "output_type": "display_data"
    }
   ],
   "source": [
    "integrate('exp(2*x) + 2*y', X0 =0 ,Y0 = 2, paso = 0.1, a = 0.5 )"
   ]
  },
  {
   "cell_type": "code",
   "execution_count": 24,
   "id": "32373c70",
   "metadata": {
    "scrolled": true,
    "slideshow": {
     "slide_type": "slide"
    }
   },
   "outputs": [
    {
     "data": {
      "text/html": [
       "<div>\n",
       "<style scoped>\n",
       "    .dataframe tbody tr th:only-of-type {\n",
       "        vertical-align: middle;\n",
       "    }\n",
       "\n",
       "    .dataframe tbody tr th {\n",
       "        vertical-align: top;\n",
       "    }\n",
       "\n",
       "    .dataframe thead th {\n",
       "        text-align: right;\n",
       "    }\n",
       "</style>\n",
       "<table border=\"1\" class=\"dataframe\">\n",
       "  <thead>\n",
       "    <tr style=\"text-align: right;\">\n",
       "      <th></th>\n",
       "      <th>X</th>\n",
       "      <th>Solución aproximada Y</th>\n",
       "      <th>Solución exacta Y</th>\n",
       "      <th>error en porcentaje</th>\n",
       "    </tr>\n",
       "  </thead>\n",
       "  <tbody>\n",
       "    <tr>\n",
       "      <th>0</th>\n",
       "      <td>1.0</td>\n",
       "      <td>1.000000</td>\n",
       "      <td>1.0000</td>\n",
       "      <td>0.000000</td>\n",
       "    </tr>\n",
       "    <tr>\n",
       "      <th>1</th>\n",
       "      <td>1.1</td>\n",
       "      <td>1.000005</td>\n",
       "      <td>0.9970</td>\n",
       "      <td>0.301404</td>\n",
       "    </tr>\n",
       "    <tr>\n",
       "      <th>2</th>\n",
       "      <td>1.2</td>\n",
       "      <td>1.002000</td>\n",
       "      <td>0.9966</td>\n",
       "      <td>0.541832</td>\n",
       "    </tr>\n",
       "    <tr>\n",
       "      <th>3</th>\n",
       "      <td>1.3</td>\n",
       "      <td>1.007828</td>\n",
       "      <td>1.0025</td>\n",
       "      <td>0.531459</td>\n",
       "    </tr>\n",
       "    <tr>\n",
       "      <th>4</th>\n",
       "      <td>1.4</td>\n",
       "      <td>1.019042</td>\n",
       "      <td>1.0191</td>\n",
       "      <td>0.005684</td>\n",
       "    </tr>\n",
       "    <tr>\n",
       "      <th>5</th>\n",
       "      <td>1.5</td>\n",
       "      <td>1.036817</td>\n",
       "      <td>1.0516</td>\n",
       "      <td>1.405726</td>\n",
       "    </tr>\n",
       "  </tbody>\n",
       "</table>\n",
       "</div>"
      ],
      "text/plain": [
       "     X  Solución aproximada Y  Solución exacta Y  error en porcentaje\n",
       "0  1.0               1.000000             1.0000             0.000000\n",
       "1  1.1               1.000005             0.9970             0.301404\n",
       "2  1.2               1.002000             0.9966             0.541832\n",
       "3  1.3               1.007828             1.0025             0.531459\n",
       "4  1.4               1.019042             1.0191             0.005684\n",
       "5  1.5               1.036817             1.0516             1.405726"
      ]
     },
     "execution_count": 24,
     "metadata": {},
     "output_type": "execute_result"
    },
    {
     "data": {
      "image/png": "[encoded data removed]",
      "text/plain": [
       "<Figure size 864x576 with 1 Axes>"
      ]
     },
     "metadata": {
      "needs_background": "light"
     },
     "output_type": "display_data"
    }
   ],
   "source": [
    "integrate('(x-y)**2',X0=1,Y0=1,paso = 0.1, a = 1.5)    # un ejemplo de EDO de Riccati "
   ]
  },
  {
   "cell_type": "code",
   "execution_count": null,
   "id": "6f26a5cc",
   "metadata": {},
   "outputs": [],
   "source": []
  },
  {
   "cell_type": "code",
   "execution_count": 27,
   "id": "eacbf33f",
   "metadata": {},
   "outputs": [],
   "source": [
    "def sol_exact_2(yp_sympy,X0,Y0):\n",
    "    \"\"\"\n",
    "    Esta función resuelve el PVI y' = F(x,y), y(x0) = y0. \n",
    "    Input:\n",
    "    yp_sympy es y' como expresión de sympy. \n",
    "    Output: \n",
    "    La función de salida y es una función lambda de Python\n",
    "    \"\"\"\n",
    "    x,y = symbols('x,y')\n",
    "    y = Function('y')(x)\n",
    "    eq = Eq(diff(y), yp_sympy)\n",
    "    solgen = dsolve(eq,y)\n",
    "    solgen = solgen.subs({O(x**6):0})\n",
    "    eqc = solgen.subs({x:X0, y:Y0})\n",
    "    C1 = symbols('C1')\n",
    "    const = solve(eqc, C1)[3].evalf()           # recuerde que la función solve arroja una lista o un diccionario. \n",
    "    #solpvi = solgen.subs({C1:Const}) \n",
    "    #y = lambdify(x,solpvi.rhs)\n",
    "    return const   "
   ]
  },
  {
   "cell_type": "code",
   "execution_count": 28,
   "id": "92ecce8d",
   "metadata": {},
   "outputs": [
    {
     "data": {
      "text/latex": [
       "$\\displaystyle -0.789040486008283 + 0.660627301495128 i$"
      ],
      "text/plain": [
       "-0.789040486008283 + 0.660627301495128*I"
      ]
     },
     "execution_count": 28,
     "metadata": {},
     "output_type": "execute_result"
    }
   ],
   "source": [
    "sol_exact_2((x-y)**2,1,1) "
   ]
  },
  {
   "cell_type": "markdown",
   "id": "c5f62e54",
   "metadata": {
    "slideshow": {
     "slide_type": "slide"
    }
   },
   "source": [
    "# Programa para el usuario"
   ]
  },
  {
   "cell_type": "markdown",
   "id": "a53c100b",
   "metadata": {
    "slideshow": {
     "slide_type": "slide"
    }
   },
   "source": [
    "### Input"
   ]
  },
  {
   "cell_type": "markdown",
   "id": "a2f5deff",
   "metadata": {
    "slideshow": {
     "slide_type": "slide"
    }
   },
   "source": [
    "1. Preguntar al usuario cual es la función $F(x,y)$ que define a la ecuación diferencial de   \n",
    "   primer orden a resolver ($y' = F(x,y)$)\n",
    "2. Escriba $x_{0}$ y $y_{0}$. (Es decir, diga la condición inicial)\n",
    "3. diga el punto $a$ del dominio de la solución $y$ para el que quiere su valor $y(a)$.\n",
    "4. diga el valor $h$ del paso. "
   ]
  },
  {
   "cell_type": "markdown",
   "id": "fde48db0",
   "metadata": {
    "slideshow": {
     "slide_type": "slide"
    }
   },
   "source": [
    "### Output"
   ]
  },
  {
   "cell_type": "markdown",
   "id": "daacf283",
   "metadata": {
    "slideshow": {
     "slide_type": "slide"
    }
   },
   "source": [
    "1. Un DataFrame cuyas columnas sean X, Y_exact, Y_aprox y el error dado en porcentaje. \n",
    "2. El gráfico realizado en Matplotlib de la solución exacta y la solución aproximada.  "
   ]
  },
  {
   "cell_type": "markdown",
   "id": "59c79938",
   "metadata": {
    "slideshow": {
     "slide_type": "slide"
    }
   },
   "source": [
    "## Apéndice"
   ]
  },
  {
   "cell_type": "markdown",
   "id": "be26388c",
   "metadata": {
    "slideshow": {
     "slide_type": "slide"
    }
   },
   "source": [
    "$$ y' = F(x,y) $$"
   ]
  },
  {
   "cell_type": "markdown",
   "id": "5ca3071b",
   "metadata": {
    "slideshow": {
     "slide_type": "slide"
    }
   },
   "source": [
    "$$ y'' = \\frac{d}{dx} F(x,y)  = \\frac{\\partial}{\\partial x}F(x,y) + \\frac{\\partial }{\\partial y}F(x,y) \\cdot \\frac{dy}{dx}$$"
   ]
  },
  {
   "cell_type": "markdown",
   "id": "22d19dff",
   "metadata": {
    "slideshow": {
     "slide_type": "slide"
    }
   },
   "source": [
    "## Referentes:\n",
    "\n",
    "* Larson. Cálculo. \n",
    "* Lambdify:  https://docs.sympy.org/latest/modules/utilities/lambdify.html  \n",
    "* sympify:  https://docs.sympy.org/latest/modules/core.html?highlight=sympify#sympy.core.sympify  \n",
    "* The dsolve() function of sympy: https://docs.sympy.org/latest/modules/solvers/ode.html\n",
    "* denriquebarros@unicesar.edu.co \n",
    "* baflorezs@ufpso.edu.co  \n",
    "* Brayner: 3224769126   \n",
    "* Para convertir cadenas de python en expresiones latex: https://github.com/erwanp/pytexit\n",
    "* Definición de Ecuación diferencial de Riccati: https://en.wikipedia.org/wiki/Riccati_equation \n"
   ]
  },
  {
   "cell_type": "code",
   "execution_count": null,
   "id": "943725d6",
   "metadata": {
    "slideshow": {
     "slide_type": "skip"
    }
   },
   "outputs": [],
   "source": []
  }
 ],
 "metadata": {
  "celltoolbar": "Slideshow",
  "kernelspec": {
   "display_name": "Python 3",
   "language": "python",
   "name": "python3"
  },
  "language_info": {
   "codemirror_mode": {
    "name": "ipython",
    "version": 3
   },
   "file_extension": ".py",
   "mimetype": "text/x-python",
   "name": "python",
   "nbconvert_exporter": "python",
   "pygments_lexer": "ipython3",
   "version": "3.8.8"
  },
  "latex_envs": {
   "LaTeX_envs_menu_present": true,
   "autoclose": false,
   "autocomplete": false,
   "bibliofile": "biblio.bib",
   "cite_by": "apalike",
   "current_citInitial": 1,
   "eqLabelWithNumbers": true,
   "eqNumInitial": 1,
   "hotkeys": {
    "equation": "Ctrl-E",
    "itemize": "Ctrl-I"
   },
   "labels_anchors": false,
   "latex_user_defs": false,
   "report_style_numbering": false,
   "user_envs_cfg": false
  },
  "rise": {
   "enable_chalkboard": true,
   "theme": "sky",
   "transition": "zoom"
  }
 },
 "nbformat": 4,
 "nbformat_minor": 5
}
