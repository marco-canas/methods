{
 "cells": [
  {
   "cell_type": "markdown",
   "id": "41db43d6",
   "metadata": {
    "slideshow": {
     "slide_type": "slide"
    }
   },
   "source": [
    "<table align=\"left\">\n",
    "  <td>\n",
    "    <a href=\"https://colab.research.google.com/github/marco-canas/methods/blob/main/taylor_3_terminos.ipynb\" target=\"_parent\"><img src=\"https://colab.research.google.com/assets/colab-badge.svg\" alt=\"Open In Colab\"/></a>\n",
    "  </td>\n",
    "  <td>\n",
    "    <a target=\"_blank\" href=\"https://kaggle.com/kernels/welcome?src=https://github.com/marco-canas/methods/blob/main/taylor_3_terminos.ipynb\"><img src=\"https://kaggle.com/static/images/open-in-kaggle.svg\" /></a>\n",
    "  </td>\n",
    "</table>"
   ]
  },
  {
   "cell_type": "markdown",
   "id": "315baa32",
   "metadata": {
    "slideshow": {
     "slide_type": "slide"
    }
   },
   "source": [
    "# Método de Taylor en tres términos"
   ]
  },
  {
   "cell_type": "markdown",
   "id": "c39f1684",
   "metadata": {
    "slideshow": {
     "slide_type": "slide"
    }
   },
   "source": [
    "$$ y_{n+1} = y_{n} + y_{n}'h + y_{n}''\\frac{h^{2}}{2}, \\ \\ \\ \\  y_{0} = y(x_{0}) $$"
   ]
  },
  {
   "cell_type": "markdown",
   "id": "405b77a4",
   "metadata": {
    "slideshow": {
     "slide_type": "slide"
    }
   },
   "source": [
    "### [Primer Video de apoyo](https://www.youtube.com/watch?v=5YF3vbLtEws)"
   ]
  },
  {
   "cell_type": "markdown",
   "id": "9ba2984d",
   "metadata": {
    "slideshow": {
     "slide_type": "slide"
    }
   },
   "source": [
    "### [Segundo video de apoyo]()"
   ]
  },
  {
   "cell_type": "markdown",
   "id": "4e826459",
   "metadata": {
    "slideshow": {
     "slide_type": "slide"
    }
   },
   "source": [
    "## Deducción de la fórmula recursiva anterior"
   ]
  },
  {
   "cell_type": "markdown",
   "id": "a4daf73e",
   "metadata": {
    "slideshow": {
     "slide_type": "slide"
    }
   },
   "source": [
    "Ver página 669 de Cálculo de larson. "
   ]
  },
  {
   "cell_type": "markdown",
   "id": "bbd10591",
   "metadata": {
    "slideshow": {
     "slide_type": "slide"
    }
   },
   "source": [
    "## Objetivos "
   ]
  },
  {
   "cell_type": "markdown",
   "id": "17a58bd5",
   "metadata": {
    "slideshow": {
     "slide_type": "slide"
    }
   },
   "source": [
    "* Encontrar aproximaciones polinomiales de las funciones solución de PVI y compararlas con \n",
    "  las funciones solución analítica.\n",
    "* Encontrar aproximaciones mediante polinomios de Taylor y Maclaurin a funciones elementales."
   ]
  },
  {
   "cell_type": "markdown",
   "id": "47028548",
   "metadata": {
    "slideshow": {
     "slide_type": "slide"
    }
   },
   "source": [
    "## Aproximaciones polinomiales a funciones solución de PVI de primer orden "
   ]
  },
  {
   "cell_type": "markdown",
   "id": "8cf41f7d",
   "metadata": {
    "slideshow": {
     "slide_type": "slide"
    }
   },
   "source": [
    "El objetivo de esta sección es mostrar cómo pueden usarse las funciones polinomiales como aproximaciones a otras funciones solución de PVI's de primer orden.   "
   ]
  },
  {
   "cell_type": "markdown",
   "id": "ee366c8b",
   "metadata": {
    "slideshow": {
     "slide_type": "slide"
    }
   },
   "source": [
    "Para encontrar una función polinomial que aproxime otra función se comienza por elegir un número $c$ en el dominio de $f$ en el que $P$ y $f$ tengan el mismo valor.   "
   ]
  },
  {
   "cell_type": "markdown",
   "id": "cfd016b6",
   "metadata": {
    "slideshow": {
     "slide_type": "slide"
    }
   },
   "source": [
    "Es decir\n",
    "\n",
    "$$ P(c) = f(c), \\ \\ \\ \\ \\text{Las gráficas de $P$ y $f$ pasan por $(c,f(c))$}  $$"
   ]
  },
  {
   "cell_type": "markdown",
   "id": "6fb27722",
   "metadata": {
    "slideshow": {
     "slide_type": "slide"
    }
   },
   "source": [
    "Se dice que la aproximación polinomial se expande alrededor de $c$ o está centrada en $c$.  "
   ]
  },
  {
   "cell_type": "markdown",
   "id": "241e4a11",
   "metadata": {
    "slideshow": {
     "slide_type": "slide"
    }
   },
   "source": [
    "Geométricamente, el requisito de que $P(c) = f(c)$ significa que la gráfica de $P$ debe pasar por el punto $(c, f(c))$. "
   ]
  },
  {
   "cell_type": "markdown",
   "id": "b6b24cb4",
   "metadata": {
    "slideshow": {
     "slide_type": "slide"
    }
   },
   "source": [
    "Por supuesto, hay muchos polinomios cuyas gráficas pasan por el punto $(c, f (c))$. "
   ]
  },
  {
   "cell_type": "markdown",
   "id": "835d749d",
   "metadata": {
    "slideshow": {
     "slide_type": "slide"
    }
   },
   "source": [
    "La tarea es encontrar un polinomio cuya gráfica se parezca a la gráfica de $f$ en la cercanía de este punto.   "
   ]
  },
  {
   "cell_type": "markdown",
   "id": "31da640d",
   "metadata": {
    "slideshow": {
     "slide_type": "slide"
    }
   },
   "source": [
    "Una manera de hacer esto es imponer el requisito adicional de que la pendiente de la función polinomial sea la misma que la pendiente de la gráfica de $f$ en el punto $(c, f (c))$.  \n",
    "\n",
    "$$ P'(c) = f'(c), \\ \\ \\ \\ \\text{Las gráficas de $f$ y $p$ tienen la misma pendiente en $(c,f(c))$} $$ "
   ]
  },
  {
   "cell_type": "markdown",
   "id": "14c76855",
   "metadata": {
    "slideshow": {
     "slide_type": "slide"
    }
   },
   "source": [
    "Con estos dos requisitos se puede obtener una aproximación lineal simple a $f$, como se muestra en la figura 9.10.\n"
   ]
  },
  {
   "cell_type": "markdown",
   "id": "bcf41f71",
   "metadata": {
    "slideshow": {
     "slide_type": "slide"
    }
   },
   "source": [
    "<img src = 'https://github.com/marco-canas/methods/blob/main/banco_ejemplos/figura_9_10.png?raw=true'>"
   ]
  },
  {
   "cell_type": "markdown",
   "id": "8d900679",
   "metadata": {
    "slideshow": {
     "slide_type": "slide"
    }
   },
   "source": [
    "## EJEMPLO 1 Aproximación a mediante un polinomio de primer grado"
   ]
  },
  {
   "cell_type": "markdown",
   "id": "65017904",
   "metadata": {
    "slideshow": {
     "slide_type": "slide"
    }
   },
   "source": [
    "Dada la función $f(x) = e^{x}$, encontrar una función polinomial de primer grado  \n",
    "\n",
    "$$ P_{1}(x) = a_{0} + a_{1}x $$\n",
    "\n",
    "cuyo valor y pendiente en $x = 0$ coinciden en el valor y la pendiente de $f$. "
   ]
  },
  {
   "cell_type": "markdown",
   "id": "42328d54",
   "metadata": {
    "slideshow": {
     "slide_type": "slide"
    }
   },
   "source": [
    "### Solución: "
   ]
  },
  {
   "cell_type": "markdown",
   "id": "2a8d6244",
   "metadata": {
    "slideshow": {
     "slide_type": "slide"
    }
   },
   "source": [
    "Como $f(x) = e^{x}$ y $f'(x) = e^{x}$, el valor y la pendiente de $f$ en $x = 0$ están dados por \n",
    "\n",
    "$$ f(0) = e^{0} = 1 $$\n",
    "\n",
    "y\n",
    "\n",
    "$$ f'(0) = e^{0} = 1. $$\n"
   ]
  },
  {
   "cell_type": "markdown",
   "id": "4b64e003",
   "metadata": {
    "slideshow": {
     "slide_type": "slide"
    }
   },
   "source": [
    "Como $P_{1}(x) = a_{0} + a_{1}x$, se puede usar la condición $P_{1}(0) = f(0)$, para concluir que $a_{0} = 1$. "
   ]
  },
  {
   "cell_type": "markdown",
   "id": "bbd95a77",
   "metadata": {
    "slideshow": {
     "slide_type": "slide"
    }
   },
   "source": [
    "Es más, como $P_{1}'(x) = a_{1}$, se puede usar la condición $P_{1}'(0) = f'(0)$ para concluir que $a_{1} = 1$. "
   ]
  },
  {
   "cell_type": "markdown",
   "id": "0060101e",
   "metadata": {
    "slideshow": {
     "slide_type": "slide"
    }
   },
   "source": [
    "Por consiguiente, \n",
    "\n",
    "$$ P_{1}(x) = 1 + x = f(0) + f'(0)x $$\n"
   ]
  },
  {
   "cell_type": "markdown",
   "id": "692f465c",
   "metadata": {
    "slideshow": {
     "slide_type": "slide"
    }
   },
   "source": [
    "La figura 9.11 muestra las gráficas de $P_{1}(x) = 1 + x$ y $f(x) = x$.  "
   ]
  },
  {
   "cell_type": "markdown",
   "id": "8f3c67ec",
   "metadata": {
    "slideshow": {
     "slide_type": "slide"
    }
   },
   "source": [
    "## Nota:  \n",
    "\n",
    "En el ejemplo 1 no es la primera vez que se usa una función lineal para aproximar otra función. El mismo procedimiento se usó como base para el método de Newton. "
   ]
  },
  {
   "cell_type": "markdown",
   "id": "91f23eec",
   "metadata": {
    "slideshow": {
     "slide_type": "slide"
    }
   },
   "source": [
    "En la figura 9.12 se puede ver que, en los puntos cercanos a $(0, 1)$, la gráfica de \n",
    "\n",
    "$$ P_{1}(x) = 1 + x \\ \\ \\ \\ \\text{aproximación de primer grado}. $$\n",
    "\n",
    "está razonablemente cerca a la gráfica de $f(x) = e^{x}$. "
   ]
  },
  {
   "cell_type": "markdown",
   "id": "b547dbce",
   "metadata": {
    "slideshow": {
     "slide_type": "slide"
    }
   },
   "source": [
    "Sin embargo, al alejarse de $(0,1)$, las gráficas se apartan y la precisión de a aproximación disminuye. "
   ]
  },
  {
   "cell_type": "markdown",
   "id": "961634f1",
   "metadata": {
    "slideshow": {
     "slide_type": "slide"
    }
   },
   "source": [
    "Para mejorar la aproximación se puede imponer otro requisito todavía: que los valores de las segundas derivadas de $P$ y $f$ sean iguales en $x = 0$. "
   ]
  },
  {
   "cell_type": "markdown",
   "id": "cb4992f7",
   "metadata": {
    "slideshow": {
     "slide_type": "slide"
    }
   },
   "source": [
    "El polinomio de menor grado, $P_{2}$, que satisface los tres requisitos, \n",
    "\n",
    "$$ P_{2}(0) = f(0), \\ \\ \\ \\ P_{2}'(0) = f'(0), \\ \\ \\ \\ \\text{y} \\ \\ \\ \\ P_{2}''(0) = f''(0), $$\n",
    "\n",
    "puede mostrarse que es:\n",
    "\n",
    "$$ P_{2}(x) = 1 + x + \\frac{1}{2}x^{2} \\ \\ \\ \\ \\text{Aproximación de segundo grado} $$\n"
   ]
  },
  {
   "cell_type": "markdown",
   "id": "1af56174",
   "metadata": {
    "slideshow": {
     "slide_type": "slide"
    }
   },
   "source": [
    "<img src = 'https://github.com/marco-canas/methods/blob/main/figura_9_12.png?raw=true'> "
   ]
  },
  {
   "cell_type": "markdown",
   "id": "a25a4e33",
   "metadata": {
    "slideshow": {
     "slide_type": "slide"
    }
   },
   "source": [
    "Es más, en la figura 9.12 se puede ver que $P_{2}$ es una mejor aproximación que $P_{1}$. Si se continúa con este patrón, requiriendo que los valores de $P_{n}(x)$ y de sus primeras $n$ derivadas coincidan con las de $f(x) = e^{x}$ en $x = 0$ se obtiene lo siguiente:\n",
    "\n",
    "\n",
    "$$ P_{n}(x) = 1 + x + \\frac{1}{2}x^{2} + \\frac{1}{3!}x^{3} + \\cdots + \\frac{1}{n!}x^{n} \\approx e^{x} $$\n"
   ]
  },
  {
   "cell_type": "markdown",
   "id": "b6b8372a",
   "metadata": {
    "slideshow": {
     "slide_type": "slide"
    }
   },
   "source": [
    "Continua en la página 670. "
   ]
  },
  {
   "cell_type": "markdown",
   "id": "0a9901c5",
   "metadata": {
    "slideshow": {
     "slide_type": "slide"
    }
   },
   "source": [
    "## Ejemplo 2 a $f(x) = e^{x}$ mediante un polinomio de tercer grado. "
   ]
  },
  {
   "cell_type": "markdown",
   "id": "4f0e2264",
   "metadata": {
    "slideshow": {
     "slide_type": "slide"
    }
   },
   "source": [
    "Construir una tabla que compare los valores del polinomio \n",
    "\n",
    "$$ P_{3}(x) = 1 + x + \\frac{1}{2}x^{2} + \\frac{1}{3!}x^{3} \\ \\ \\ \\ \\text{aproximación de tercer grado} $$\n",
    "\n",
    "con $f(x) = e^{x}$ para varios valores de $x$ cercanos a cero. \n"
   ]
  },
  {
   "cell_type": "markdown",
   "id": "9ed30598",
   "metadata": {
    "slideshow": {
     "slide_type": "slide"
    }
   },
   "source": [
    "### Solución: "
   ]
  },
  {
   "cell_type": "code",
   "execution_count": null,
   "id": "94f95cf8",
   "metadata": {
    "slideshow": {
     "slide_type": "slide"
    }
   },
   "outputs": [],
   "source": []
  },
  {
   "cell_type": "markdown",
   "id": "e6b5d3d9",
   "metadata": {
    "slideshow": {
     "slide_type": "slide"
    }
   },
   "source": [
    "## Deduzcamos la fórmula recursiva del método de Taylor de tres términos"
   ]
  },
  {
   "cell_type": "markdown",
   "id": "b4a14d13",
   "metadata": {
    "slideshow": {
     "slide_type": "slide"
    }
   },
   "source": [
    "$x_{0} = 1$  \n",
    "\n",
    "$$ y(x) \\approx P_{2}(x) = y(x_{0}) + y'(x_{0})(x-x_{0}) + \\frac{1}{2}y''(x_{0})(x - x_{0})^{2}  $$\n",
    "\n",
    "de la página 671 de Larson. Defini]ción de polinomio de Taylor de una función $y(x)$ centrado en $x_{0}$. "
   ]
  },
  {
   "cell_type": "markdown",
   "id": "a342c1ce",
   "metadata": {
    "slideshow": {
     "slide_type": "slide"
    }
   },
   "source": [
    "Si $x = x_{1}$\n",
    "\n",
    "$$ y_{1} = y(x_{1}) \\approx P_{2}(x_{1}) = y(x_{0}) + y'(x_{0})(x_{1}-x_{0}) + \\frac{1}{2}y''(x_{0})(x_{1} - x_{0})^{2}  $$\n",
    "\n",
    "$$ y_{1} = y(x_{1}) \\approx P_{2}(x_{1}) = y(x_{0}) + y'(x_{0})h + \\frac{1}{2}y''(x_{0})h^{2}  $$\n",
    "\n"
   ]
  },
  {
   "cell_type": "markdown",
   "id": "6e5d1088",
   "metadata": {
    "slideshow": {
     "slide_type": "slide"
    }
   },
   "source": [
    "Si $x = x_{2}$\n",
    "\n",
    "$$ y_{2} = y(x_{2}) \\approx P_{2}(x_{2}) = y(x_{1}) + y'(x_{1})(x_{2}-x_{1}) + \\frac{1}{2}y''(x_{1})(x_{2} - x_{1})^{2}  $$\n",
    "\n",
    "$$ y_{2} = y(x_{2}) \\approx P_{2}(x_{2}) = y(x_{1}) + y'(x_{1})h + \\frac{1}{2}y''(x_{1})h^{2}  $$\n"
   ]
  },
  {
   "cell_type": "code",
   "execution_count": null,
   "id": "bf3a3ac6",
   "metadata": {
    "slideshow": {
     "slide_type": "slide"
    }
   },
   "outputs": [],
   "source": []
  },
  {
   "cell_type": "code",
   "execution_count": null,
   "id": "fa4c63da",
   "metadata": {
    "slideshow": {
     "slide_type": "slide"
    }
   },
   "outputs": [],
   "source": []
  },
  {
   "cell_type": "markdown",
   "id": "8ebe3b91",
   "metadata": {
    "slideshow": {
     "slide_type": "slide"
    }
   },
   "source": [
    "## Ejemplo  de aplicación de la fórmula de Taylor de los tres términos\n",
    "\n",
    "Usar la fórmula de Taylor de tres términos para obtener una aproximación al valor de $y(1.5)$ de la solución de $y'= 2xy$ ; $y(1) = 1$ utilizando $h = 0.1$."
   ]
  },
  {
   "cell_type": "markdown",
   "id": "b613376f",
   "metadata": {
    "slideshow": {
     "slide_type": "slide"
    }
   },
   "source": [
    "$$ y_{n+1} = y_{n} + y_{n}'h + \\frac{1}{2}y_{n}''h^{2}, \\ \\ \\ y_{0} = y(1) = 1 $$"
   ]
  },
  {
   "cell_type": "markdown",
   "id": "5a2221fb",
   "metadata": {
    "slideshow": {
     "slide_type": "slide"
    }
   },
   "source": [
    "$$y(x) \\approx P_{2}(x) = a_{0} + a_{1}x + a_{2}x^{2} = y(x_{0}) + y'(x_{0})x + \\frac{1}{2}y''(x_{0})x^{2} $$"
   ]
  },
  {
   "cell_type": "markdown",
   "id": "da171c98",
   "metadata": {
    "slideshow": {
     "slide_type": "slide"
    }
   },
   "source": [
    "## Solución:"
   ]
  },
  {
   "cell_type": "markdown",
   "id": "bfceec44",
   "metadata": {
    "slideshow": {
     "slide_type": "slide"
    }
   },
   "source": [
    "### Construcción de función intagrate() "
   ]
  },
  {
   "cell_type": "markdown",
   "id": "66bec213",
   "metadata": {
    "slideshow": {
     "slide_type": "slide"
    }
   },
   "source": [
    "Para la determinación de la solución numérica utilizaré las variables $x_$ y $y_$, mientras que para el cálculo de la solución analítica utilizaré las variables x e y. "
   ]
  },
  {
   "cell_type": "code",
   "execution_count": 1,
   "id": "3d3d0e0c",
   "metadata": {},
   "outputs": [],
   "source": [
    "from sympy import * "
   ]
  },
  {
   "cell_type": "code",
   "execution_count": 2,
   "id": "525e4a5c",
   "metadata": {
    "slideshow": {
     "slide_type": "slide"
    }
   },
   "outputs": [],
   "source": [
    "def conver_en_exp_sympy(yp):\n",
    "    \"\"\"\n",
    "    input:\n",
    "    yp es una cadena de caracteres que define a y' = F(x,y)\n",
    "    \"\"\"\n",
    "    x,y = symbols('x,y')\n",
    "    y = Function('y')(x)\n",
    "    yp_sympy = sympify(yp).subs({'y':y})    # línea importante para establecer a y como función de x en la expresión convertida\n",
    "    return yp_sympy "
   ]
  },
  {
   "cell_type": "markdown",
   "id": "b6bd9601",
   "metadata": {
    "slideshow": {
     "slide_type": "slide"
    }
   },
   "source": [
    "Observación: La función `lambdify()` de sympy, en principio vonvierte expresiones de la variable x en expresiones de sympy de la variable x. Para que reconozca a una variable adicional tiene que utilizar la función `subs()` de sympy. "
   ]
  },
  {
   "cell_type": "code",
   "execution_count": 3,
   "id": "cbe49c6b",
   "metadata": {
    "slideshow": {
     "slide_type": "slide"
    }
   },
   "outputs": [
    {
     "data": {
      "text/latex": [
       "$\\displaystyle 2 x e^{2 x} + y{\\left(x \\right)}$"
      ],
      "text/plain": [
       "2*x*exp(2*x) + y(x)"
      ]
     },
     "execution_count": 3,
     "metadata": {},
     "output_type": "execute_result"
    }
   ],
   "source": [
    "conver_en_exp_sympy('2*x*exp(2*x)+y') "
   ]
  },
  {
   "cell_type": "code",
   "execution_count": 4,
   "id": "e68b90af",
   "metadata": {
    "slideshow": {
     "slide_type": "slide"
    }
   },
   "outputs": [],
   "source": [
    "def sol_exact(yp_sympy,x0,y0):\n",
    "    x,y = symbols('x,y')\n",
    "    y = Function('y')(x)\n",
    "    eq = Eq(diff(y), yp_sympy)\n",
    "    solgen = dsolve(eq,y)\n",
    "    eqc = solgen.subs({x:x0,y:y0})\n",
    "    C1 = symbols('C1')\n",
    "    Const = solve(eqc,C1)\n",
    "    solpvi = solgen.subs({C1:Const}) \n",
    "    return solpvi.rhs"
   ]
  },
  {
   "cell_type": "markdown",
   "id": "4ba478e6",
   "metadata": {
    "slideshow": {
     "slide_type": "slide"
    }
   },
   "source": [
    "### Construir una función para la solución analítica solución exacta"
   ]
  },
  {
   "cell_type": "code",
   "execution_count": 9,
   "id": "935a72cc",
   "metadata": {
    "slideshow": {
     "slide_type": "slide"
    }
   },
   "outputs": [],
   "source": [
    "def integrate(yp, x0, y0, paso, a):\n",
    "    x,y = symbols('x,y') # para cálculo simbólico\n",
    "    x_,y_ = symbols('x_,y_')  # para cálculo numérico\n",
    "    y = Function('y')\n",
    "    yp_sympy = conver_en_exp_sympy(yp)\n",
    "    ypp_sympy = diff(yp_sympy,x)\n",
    "    ypp_sympy = ypp_sympy.subs({diff(y,x):yp_sympy}) \n",
    "    y_sympy = sol_exact(yp_sympy,x0,y0)\n",
    "    yp_numpy = lambdify([x_,y_],yp_sympy.subs({x:x_,y(x):y_}))     # función 1 para cálculo numérico \n",
    "                                               #(Ojo: es necesario especificar que nos referimos a y(x))\n",
    "    d = 0.001\n",
    "    ypp_numpy=lambdify([x_,y_],((yp_numpy(x_+d,y_)-yp_numpy(x_,y_))/d+((yp_numpy(x_,y_+d)-yp_numpy(x_,y_))/d)*yp_numpy(x_,y_))) \n",
    "    # función 2 para cálculo numérico\n",
    "    def y_exac(xn):\n",
    "        return y_sympy.subs({x:xn})\n",
    "    def y_approx(x,y):\n",
    "        y = y + yp_numpy(x, y)*paso + 0.5*ypp_numpy(x, y)*paso**2\n",
    "        return y\n",
    "    X = []                                   # Lista de python para los puntos del dominio \n",
    "    Y_approx = []                            # Lista de Python que definen la solución aproximada \n",
    "    Y_exact = []                             # Lista de Python que define a la solución exacta \n",
    "    X.append(x0)\n",
    "    Y_approx.append(y0)\n",
    "    Y_exact.append(y0)                       # y' = 2xy, donde y = exp(x^2 - 1)\n",
    "        \n",
    "    while x0 < a:\n",
    "        paso = min(paso, a - x0)\n",
    "        y0_approx = y_approx(x0,y0)\n",
    "        Y_approx.append(y0_approx)\n",
    "        x0 += paso \n",
    "        y0_exac = round( float( y_exac(x0) ), 4)  \n",
    "        Y_exact.append(y0_exac)\n",
    "        X.append(x0)\n",
    "        \n",
    "    Error = np.abs(np.array(Y_approx) - np.array(Y_exact))/np.array(Y_exact)*100   \n",
    "    \n",
    "    table = pd.DataFrame({'X':X, 'Solución aproximada Y':Y_approx, 'Solución exacta Y':Y_exact, 'error en porcentaje':Error})\n",
    "    return table "
   ]
  },
  {
   "cell_type": "code",
   "execution_count": 10,
   "id": "c881f356",
   "metadata": {
    "slideshow": {
     "slide_type": "slide"
    }
   },
   "outputs": [
    {
     "ename": "TypeError",
     "evalue": "loop of ufunc does not support argument 0 of type Add which has no callable exp method",
     "output_type": "error",
     "traceback": [
      "\u001b[1;31m---------------------------------------------------------------------------\u001b[0m",
      "\u001b[1;31mAttributeError\u001b[0m                            Traceback (most recent call last)",
      "\u001b[1;31mAttributeError\u001b[0m: 'Add' object has no attribute 'exp'",
      "\nThe above exception was the direct cause of the following exception:\n",
      "\u001b[1;31mTypeError\u001b[0m                                 Traceback (most recent call last)",
      "\u001b[1;32m<ipython-input-10-29686045cb19>\u001b[0m in \u001b[0;36m<module>\u001b[1;34m\u001b[0m\n\u001b[1;32m----> 1\u001b[1;33m \u001b[0mintegrate\u001b[0m\u001b[1;33m(\u001b[0m\u001b[1;34m'2*x*exp(2*x) + y'\u001b[0m\u001b[1;33m,\u001b[0m \u001b[0mx0\u001b[0m \u001b[1;33m=\u001b[0m \u001b[1;36m0\u001b[0m\u001b[1;33m,\u001b[0m \u001b[0my0\u001b[0m \u001b[1;33m=\u001b[0m \u001b[1;36m1\u001b[0m\u001b[1;33m,\u001b[0m \u001b[0mpaso\u001b[0m \u001b[1;33m=\u001b[0m \u001b[1;36m0.1\u001b[0m\u001b[1;33m,\u001b[0m \u001b[0ma\u001b[0m \u001b[1;33m=\u001b[0m \u001b[1;36m1.5\u001b[0m\u001b[1;33m)\u001b[0m\u001b[1;33m\u001b[0m\u001b[1;33m\u001b[0m\u001b[0m\n\u001b[0m",
      "\u001b[1;32m<ipython-input-9-9a5cc13de01c>\u001b[0m in \u001b[0;36mintegrate\u001b[1;34m(yp, x0, y0, paso, a)\u001b[0m\n\u001b[0;32m     10\u001b[0m                                                \u001b[1;31m#(Ojo: es necesario especificar que nos referimos a y(x))\u001b[0m\u001b[1;33m\u001b[0m\u001b[1;33m\u001b[0m\u001b[1;33m\u001b[0m\u001b[0m\n\u001b[0;32m     11\u001b[0m     \u001b[0md\u001b[0m \u001b[1;33m=\u001b[0m \u001b[1;36m0.001\u001b[0m\u001b[1;33m\u001b[0m\u001b[1;33m\u001b[0m\u001b[0m\n\u001b[1;32m---> 12\u001b[1;33m     \u001b[0mypp_numpy\u001b[0m\u001b[1;33m=\u001b[0m\u001b[0mlambdify\u001b[0m\u001b[1;33m(\u001b[0m\u001b[1;33m[\u001b[0m\u001b[0mx_\u001b[0m\u001b[1;33m,\u001b[0m\u001b[0my_\u001b[0m\u001b[1;33m]\u001b[0m\u001b[1;33m,\u001b[0m\u001b[1;33m(\u001b[0m\u001b[1;33m(\u001b[0m\u001b[0myp_numpy\u001b[0m\u001b[1;33m(\u001b[0m\u001b[0mx_\u001b[0m\u001b[1;33m+\u001b[0m\u001b[0md\u001b[0m\u001b[1;33m,\u001b[0m\u001b[0my_\u001b[0m\u001b[1;33m)\u001b[0m\u001b[1;33m-\u001b[0m\u001b[0myp_numpy\u001b[0m\u001b[1;33m(\u001b[0m\u001b[0mx_\u001b[0m\u001b[1;33m,\u001b[0m\u001b[0my_\u001b[0m\u001b[1;33m)\u001b[0m\u001b[1;33m)\u001b[0m\u001b[1;33m/\u001b[0m\u001b[0md\u001b[0m\u001b[1;33m+\u001b[0m\u001b[1;33m(\u001b[0m\u001b[1;33m(\u001b[0m\u001b[0myp_numpy\u001b[0m\u001b[1;33m(\u001b[0m\u001b[0mx_\u001b[0m\u001b[1;33m,\u001b[0m\u001b[0my_\u001b[0m\u001b[1;33m+\u001b[0m\u001b[0md\u001b[0m\u001b[1;33m)\u001b[0m\u001b[1;33m-\u001b[0m\u001b[0myp_numpy\u001b[0m\u001b[1;33m(\u001b[0m\u001b[0mx_\u001b[0m\u001b[1;33m,\u001b[0m\u001b[0my_\u001b[0m\u001b[1;33m)\u001b[0m\u001b[1;33m)\u001b[0m\u001b[1;33m/\u001b[0m\u001b[0md\u001b[0m\u001b[1;33m)\u001b[0m\u001b[1;33m*\u001b[0m\u001b[0myp_numpy\u001b[0m\u001b[1;33m(\u001b[0m\u001b[0mx_\u001b[0m\u001b[1;33m,\u001b[0m\u001b[0my_\u001b[0m\u001b[1;33m)\u001b[0m\u001b[1;33m)\u001b[0m\u001b[1;33m)\u001b[0m\u001b[1;33m\u001b[0m\u001b[1;33m\u001b[0m\u001b[0m\n\u001b[0m\u001b[0;32m     13\u001b[0m     \u001b[1;31m# función 2 para cálculo numérico\u001b[0m\u001b[1;33m\u001b[0m\u001b[1;33m\u001b[0m\u001b[1;33m\u001b[0m\u001b[0m\n\u001b[0;32m     14\u001b[0m     \u001b[1;32mdef\u001b[0m \u001b[0my_exac\u001b[0m\u001b[1;33m(\u001b[0m\u001b[0mxn\u001b[0m\u001b[1;33m)\u001b[0m\u001b[1;33m:\u001b[0m\u001b[1;33m\u001b[0m\u001b[1;33m\u001b[0m\u001b[0m\n",
      "\u001b[1;32m<lambdifygenerated-2>\u001b[0m in \u001b[0;36m_lambdifygenerated\u001b[1;34m(x_, y_)\u001b[0m\n\u001b[0;32m      1\u001b[0m \u001b[1;32mdef\u001b[0m \u001b[0m_lambdifygenerated\u001b[0m\u001b[1;33m(\u001b[0m\u001b[0mx_\u001b[0m\u001b[1;33m,\u001b[0m \u001b[0my_\u001b[0m\u001b[1;33m)\u001b[0m\u001b[1;33m:\u001b[0m\u001b[1;33m\u001b[0m\u001b[1;33m\u001b[0m\u001b[0m\n\u001b[1;32m----> 2\u001b[1;33m     \u001b[1;32mreturn\u001b[0m \u001b[1;33m(\u001b[0m\u001b[1;36m2\u001b[0m\u001b[1;33m*\u001b[0m\u001b[0mx_\u001b[0m\u001b[1;33m*\u001b[0m\u001b[0mexp\u001b[0m\u001b[1;33m(\u001b[0m\u001b[1;36m2\u001b[0m\u001b[1;33m*\u001b[0m\u001b[0mx_\u001b[0m\u001b[1;33m)\u001b[0m \u001b[1;33m+\u001b[0m \u001b[0my_\u001b[0m\u001b[1;33m)\u001b[0m\u001b[1;33m\u001b[0m\u001b[1;33m\u001b[0m\u001b[0m\n\u001b[0m",
      "\u001b[1;31mTypeError\u001b[0m: loop of ufunc does not support argument 0 of type Add which has no callable exp method"
     ]
    }
   ],
   "source": [
    "integrate('2*x*exp(2*x) + y', x0 = 0, y0 = 1, paso = 0.1, a = 1.5) "
   ]
  },
  {
   "cell_type": "code",
   "execution_count": null,
   "id": "ce0e2ab2",
   "metadata": {
    "slideshow": {
     "slide_type": "slide"
    }
   },
   "outputs": [],
   "source": []
  },
  {
   "cell_type": "code",
   "execution_count": null,
   "id": "706e6c79",
   "metadata": {},
   "outputs": [],
   "source": [
    "yp='2*x*exp(2*x) + y'\n",
    "x0,y0=0,1\n",
    "x,y = symbols('x,y')\n",
    "y = Function('y')\n",
    "yp_sympy = conver_en_exp_sympy(yp)\n",
    "ypp_sympy = diff(yp_sympy,x)\n",
    "ypp_sympy = ypp_sympy.subs({diff(y,x):yp_sympy}) \n",
    "y_sympy = solu_exacta(yp_sympy,x0,y0)\n",
    "yp_numpy = lambdify([x,y(x)],yp_sympy)     # función 1 para cálculo numérico\n",
    "ypp_numpy = lambdify([x,y(x)], ypp_sympy)  # función 2 para cálculo numérico"
   ]
  },
  {
   "cell_type": "code",
   "execution_count": null,
   "id": "6a21229d",
   "metadata": {},
   "outputs": [],
   "source": [
    "yp_numpy(1,2)"
   ]
  },
  {
   "cell_type": "code",
   "execution_count": null,
   "id": "da3453ef",
   "metadata": {},
   "outputs": [],
   "source": []
  },
  {
   "cell_type": "code",
   "execution_count": null,
   "id": "10d1ff3d",
   "metadata": {},
   "outputs": [],
   "source": []
  },
  {
   "cell_type": "code",
   "execution_count": null,
   "id": "7d6f8c66",
   "metadata": {},
   "outputs": [],
   "source": []
  },
  {
   "cell_type": "code",
   "execution_count": null,
   "id": "97e7ff6a",
   "metadata": {
    "slideshow": {
     "slide_type": "slide"
    }
   },
   "outputs": [],
   "source": [
    "import numpy as np \n",
    "from sympy import * \n",
    "import pandas as pd \n",
    "import matplotlib.pyplot as plt \n",
    "\n",
    "def integrate(yp, x0, y0, paso, a):   # y' = yp = F(x,y) = 2xy \n",
    "    \"\"\"\n",
    "    input:\n",
    "    yp: es una función de dos variables expresada en sintaxis de Python y es la derivada de la solución y(x) y \n",
    "    entra a la función como una cadena de caracteres.  \n",
    "    a: es el punto del dominio donde queremos el valor de la función y(x) solución de la ED dada. \n",
    "     \"\"\"\n",
    "    x,y,x_,y_,C1 = symbols('x,y,x_,y_,C1')   # Definir las variables simbólicas a utilizar\n",
    "    \n",
    "    y = Function('y')(x)                     # establecemos que y es función de x. Variables para solución analítica o exacta\n",
    "    \n",
    "    yp_sympy = sympify(yp, evaluate = False) # convierte la expresión del ususrio (un str) en una expresión de sympy\n",
    "    yp_sympy_2 = yp_sympy.subs({x:x_,y:y_})\n",
    "    \n",
    "    yp_numpy = lambdify([x_,y_], yp_sympy_2)     # convierte la función de sympy en función de numpy \n",
    "    d = 0.001                                # denominador del cocente incremental que define la derivada \n",
    "    ypp_numpy=lambdify([x_,y_],((yp_numpy(x_+d,y_)-yp_numpy(x_,y_))/d+(( yp_numpy(x_,y_+d)-yp_numpy(x_,y_))/d)*yp_numpy(x_,y_)))\n",
    "                                             # calcula la segunda derivada de $y$ con respecto a x. \n",
    "    eq = Eq(diff(y, x), yp_sympy) # construye la ecuación diferencial en términos de sympy y' = F(x,y) \n",
    "    \n",
    "    sol_gen = dsolve(eq, y) \n",
    "    \n",
    "    sol_gen = sol_gen.subs({O(x**6):0}) # halla la solución general de la Ecuación diferencial\n",
    "    \n",
    "    \n",
    "    eq_c = Eq(y0, sol_gen.rhs.subs({x:x0}) ) # sustituye la condición inicial \n",
    "                                             # el parámetro de la solución general lo vuelve una variable simbólica de sympy\n",
    "    Const = solve(eq_c,C1)\n",
    "    Const = Const[0] \n",
    "    sol_pvi_sympy = sol_gen.subs({C1:Const}) # solución exacta de la ecuación diferencial\n",
    "    \n",
    "    X = []                                   # Lista de python para los puntos del dominio \n",
    "    Y_approx = []                            # Lista de Python que definen la solución aproximada \n",
    "    Y_exact = []                             # Lista de Python que define a la solución exacta \n",
    "    X.append(x0)\n",
    "    Y_approx.append(y0)\n",
    "    Y_exact.append(y0)     # y' = 2xy, donde y = exp(x^2 - 1)\n",
    "                                     # F(x,y)\n",
    "    \n",
    "    while x0 < a:\n",
    "        paso = min(paso, a - x0)\n",
    "        y0 += yp_numpy(x0, y0)*paso + ypp_numpy(x0, y0)*paso**2/2  # Taylor\n",
    "        Y_approx.append(y0)\n",
    "        x0 += paso \n",
    "        y0_exac = round( float(sol_pvi_sympy.rhs.subs({x:x0}) ), 4)  \n",
    "        Y_exact.append(y0_exac)\n",
    "        X.append(x0)\n",
    "        \n",
    "    Error = np.abs(np.array(Y_approx) - np.array(Y_exact))/np.array(Y_exact)*100   \n",
    "    \n",
    "    tabla = pd.DataFrame({'X':X, 'Solución aproximada Y':Y_approx, 'Solución exacta Y':Y_exact, 'error en porcentaje':Error})\n",
    "    \n",
    "    fig = plt.figure(figsize = (12,8)) # crea la figura\n",
    "\n",
    "    ax = fig.add_subplot()             # crea los ejes \n",
    "\n",
    "    ax.plot(X,Y_approx, label = 'solución aproximada', color = 'blue' )\n",
    "\n",
    "    ax.plot(X,Y_exact, label = 'solución exacta', color = 'red')\n",
    "    ax.set(title = r\"Comparación entre la solución exacta y la solución aproximada de $y' = 2xy$\", \n",
    "       xlabel = 'x', ylabel = r'$y(x)$')\n",
    "\n",
    "    ax.legend() \n",
    "\n",
    "    ax.grid()\n",
    "\n",
    "    plt.savefig('comparacion_de_soluciones.jpg')  # esta función crea el archivo .jpg en la carpeta de trabajo. \n",
    "    return tabla "
   ]
  },
  {
   "cell_type": "code",
   "execution_count": null,
   "id": "efabd3c9",
   "metadata": {
    "scrolled": false,
    "slideshow": {
     "slide_type": "slide"
    }
   },
   "outputs": [],
   "source": [
    "integrate(\"y + x\", x0 = 0, y0 = 1, paso = 0.1, a = 1.5) "
   ]
  },
  {
   "cell_type": "markdown",
   "id": "2ed06fa4",
   "metadata": {},
   "source": [
    "## Revisión de la parte del programa que determina la solución analítica o exacta del PVI dado. "
   ]
  },
  {
   "cell_type": "code",
   "execution_count": null,
   "id": "1414ed3d",
   "metadata": {
    "slideshow": {
     "slide_type": "slide"
    }
   },
   "outputs": [],
   "source": [
    "import numpy as np \n",
    "from sympy import * \n",
    "import pandas as pd \n",
    "import matplotlib.pyplot as plt \n",
    "\n",
    "def integrate(yp, x0, y0, paso, a):   # y' = yp = F(x,y) = 2xy \n",
    "    \"\"\"\n",
    "    input:\n",
    "    yp: es una función de dos variables expresada en sintaxis de Python y es la derivada de la solución y(x) y \n",
    "    entra a la función como una cadena de caracteres.  \n",
    "    a: es el punto del dominio donde queremos el valor de la función y(x) solución de la ED dada. \n",
    "     \"\"\"\n",
    "    x,y,x_,y_,C1 = symbols('x,y,x_,y_,C1')   # Definir las variables simbólicas a utilizar\n",
    "    \n",
    "    y = Function('y')(x)                     # establecemos que y es función de x. Variables para solución analítica o exacta\n",
    "    \n",
    "    yp_sympy = sympify(yp, evaluate = False) # convierte la expresión del ususrio (un str) en una expresión de sympy\n",
    "    yp_sympy_2 = yp_sympy.subs({x:x_,y:y_})\n",
    "    \n",
    "    yp_numpy = lambdify([x_,y_], yp_sympy_2)     # convierte la función de sympy en función de numpy \n",
    "    d = 0.001                                # denominador del cocente incremental que define la derivada \n",
    "    ypp_numpy=lambdify([x_,y_],((yp_numpy(x_+d,y_)-yp_numpy(x_,y_))/d+(( yp_numpy(x_,y_+d)-yp_numpy(x_,y_))/d)*yp_numpy(x_,y_)))\n",
    "                                             # calcula la segunda derivada de $y$ con respecto a x. \n",
    "    eq = Eq(diff(y, x), yp_sympy) # construye la ecuación diferencial en términos de sympy y' = F(x,y) \n",
    "    \n",
    "    sol_gen = dsolve(eq, y) \n",
    "    \n",
    "    sol_gen = sol_gen.subs({O(x**6):0}) # halla la solución general de la Ecuación diferencial\n",
    "    \n",
    "    \n",
    "    eq_c = Eq(y0, sol_gen.rhs.subs({x:x0}) ) # sustituye la condición inicial \n",
    "                                             # el parámetro de la solución general lo vuelve una variable simbólica de sympy\n",
    "    Const = solve(eq_c,C1)\n",
    "    Const = Const[0] \n",
    "    sol_pvi_sympy = sol_gen.subs({C1:Const}) # solución exacta de la ecuación diferencial\n",
    "    return sol_pvi_sympy "
   ]
  },
  {
   "cell_type": "code",
   "execution_count": null,
   "id": "8220514e",
   "metadata": {
    "slideshow": {
     "slide_type": "slide"
    }
   },
   "outputs": [],
   "source": [
    "integrate('2*x',0,0,0.1,1)"
   ]
  },
  {
   "cell_type": "code",
   "execution_count": null,
   "id": "b5370ed6",
   "metadata": {},
   "outputs": [],
   "source": []
  },
  {
   "cell_type": "markdown",
   "id": "b5e68c81",
   "metadata": {
    "slideshow": {
     "slide_type": "slide"
    }
   },
   "source": [
    "## Banco de PVI de primer orden para probar a la función integrate() "
   ]
  },
  {
   "cell_type": "markdown",
   "id": "c094042a",
   "metadata": {
    "slideshow": {
     "slide_type": "slide"
    }
   },
   "source": [
    "1. $$ y' = y + 2xe^{2x}, \\ \\ \\ y(0) = 1 $$"
   ]
  },
  {
   "cell_type": "code",
   "execution_count": null,
   "id": "6a64945d",
   "metadata": {
    "slideshow": {
     "slide_type": "slide"
    }
   },
   "outputs": [],
   "source": [
    "from sympy import *\n",
    "from sympy import symbols, Function \n",
    "x = symbols('x')\n",
    "y = symbols('y')\n",
    "y = Function('y')(x)\n",
    "eq = Eq(diff(y,x),y+2*x*exp(2*x)) \n",
    "classify_ode(eq, y) "
   ]
  },
  {
   "cell_type": "code",
   "execution_count": null,
   "id": "cd3958e0",
   "metadata": {
    "scrolled": true,
    "slideshow": {
     "slide_type": "slide"
    }
   },
   "outputs": [],
   "source": [
    "       # construye la ecuación diferencial en términos de sympy y' = F(x,y) \n",
    "sol_gen = dsolve(eq, y_)\n",
    "sol_gen "
   ]
  },
  {
   "cell_type": "code",
   "execution_count": null,
   "id": "9a8f7127",
   "metadata": {
    "slideshow": {
     "slide_type": "slide"
    }
   },
   "outputs": [],
   "source": [
    "sol_gen.subs({O(x_**6):0})"
   ]
  },
  {
   "cell_type": "code",
   "execution_count": null,
   "id": "aa7531bf",
   "metadata": {
    "slideshow": {
     "slide_type": "slide"
    }
   },
   "outputs": [],
   "source": [
    "sol_gen.rhs.subs({O:0}).subs({x_:0})"
   ]
  },
  {
   "cell_type": "code",
   "execution_count": null,
   "id": "74fbd947",
   "metadata": {
    "slideshow": {
     "slide_type": "slide"
    }
   },
   "outputs": [],
   "source": [
    "                 # halla la solución general de la Ecuación diferencial\n",
    "eq_c = Eq(y0, sol_gen.rhs.subs({x_:x0}) ) # sustituye la condición inicial \n",
    "                                           # el parámetro de la solución general lo vuelve una variable simbólica de sympy\n",
    "Const = solve(eq_c,C1)\n",
    "Const \n",
    "Const = Const[0] "
   ]
  },
  {
   "cell_type": "code",
   "execution_count": null,
   "id": "9ccf510e",
   "metadata": {
    "slideshow": {
     "slide_type": "slide"
    }
   },
   "outputs": [],
   "source": [
    "sol_pvi_sympy = sol_gen.subs({C1:Const}) "
   ]
  },
  {
   "cell_type": "code",
   "execution_count": null,
   "id": "7926098a",
   "metadata": {
    "slideshow": {
     "slide_type": "slide"
    }
   },
   "outputs": [],
   "source": [
    "sol_pvi_sympy.rhs.subs({x_:x0}).simplify() "
   ]
  },
  {
   "cell_type": "code",
   "execution_count": null,
   "id": "b2eb65cf",
   "metadata": {
    "slideshow": {
     "slide_type": "slide"
    }
   },
   "outputs": [],
   "source": [
    "O(x**6)"
   ]
  },
  {
   "cell_type": "code",
   "execution_count": null,
   "id": "ab106757",
   "metadata": {},
   "outputs": [],
   "source": [
    "conda install -c anaconda sympy"
   ]
  },
  {
   "cell_type": "code",
   "execution_count": null,
   "id": "efc1f960",
   "metadata": {
    "scrolled": true
   },
   "outputs": [],
   "source": [
    "sol_pvi_sympy.rhs.subs({x_:0}) "
   ]
  },
  {
   "cell_type": "code",
   "execution_count": null,
   "id": "85531909",
   "metadata": {},
   "outputs": [],
   "source": []
  },
  {
   "cell_type": "code",
   "execution_count": null,
   "id": "e970c314",
   "metadata": {
    "slideshow": {
     "slide_type": "slide"
    }
   },
   "outputs": [],
   "source": [
    "df = pd.DataFrame({'X':X, 'Solución aproximada Y':Y, 'Solución exacta Y':Y_exact, 'error':Error})\n",
    "df "
   ]
  },
  {
   "cell_type": "code",
   "execution_count": null,
   "id": "54eaf28b",
   "metadata": {
    "slideshow": {
     "slide_type": "slide"
    }
   },
   "outputs": [],
   "source": [
    "import matplotlib.pyplot as plt\n",
    "\n",
    "fig = plt.figure(figsize = (12,8)) \n",
    "\n",
    "ax = fig.add_subplot()\n",
    "\n",
    "ax.plot(X,Y_aprox, label = 'solución aproximada', color = 'blue' )\n",
    "\n",
    "ax.plot(X,Y_exact, label = 'solución exacta', color = 'red')\n",
    "ax.set(title = r\"Comparación entre la solución exacta y la solución aproximada de $y' = 2xy$\", \n",
    "       xlabel = 'x', ylabel = r'$y(x)$')\n",
    "\n",
    "ax.legend() \n",
    "\n",
    "ax.grid()\n",
    "\n",
    "plt.savefig('comparacion_de_soluciones.jpg')\n",
    "\n",
    "plt.show()"
   ]
  },
  {
   "cell_type": "markdown",
   "id": "c5f62e54",
   "metadata": {
    "slideshow": {
     "slide_type": "slide"
    }
   },
   "source": [
    "# Programa para el usuario"
   ]
  },
  {
   "cell_type": "markdown",
   "id": "a53c100b",
   "metadata": {
    "slideshow": {
     "slide_type": "slide"
    }
   },
   "source": [
    "### Input"
   ]
  },
  {
   "cell_type": "markdown",
   "id": "a2f5deff",
   "metadata": {
    "slideshow": {
     "slide_type": "slide"
    }
   },
   "source": [
    "1. Preguntar al usuario cual es la función $F(x,y)$ que define a la ecuación diferencial de   \n",
    "   primer orden a resolver ($y' = F(x,y)$)\n",
    "2. Escriba $x_{0}$ y $y_{0}$. (Es decir, diga la condición inicial)\n",
    "3. diga el punto $a$ del dominio de la solución $y$ para el que quiere su valor $y(a)$.\n",
    "4. diga el valor $h$ del paso. "
   ]
  },
  {
   "cell_type": "markdown",
   "id": "fde48db0",
   "metadata": {
    "slideshow": {
     "slide_type": "slide"
    }
   },
   "source": [
    "### Output"
   ]
  },
  {
   "cell_type": "markdown",
   "id": "daacf283",
   "metadata": {
    "slideshow": {
     "slide_type": "slide"
    }
   },
   "source": [
    "1. Un DataFrame cuyas columnas sean X, Y_exact, Y_aprox y el error dado en porcentaje. \n",
    "2. El gráfico realizado en Matplotlib de la solución exacta y la solución aproximada.  "
   ]
  },
  {
   "cell_type": "markdown",
   "id": "59c79938",
   "metadata": {
    "slideshow": {
     "slide_type": "slide"
    }
   },
   "source": [
    "## Apéndice"
   ]
  },
  {
   "cell_type": "markdown",
   "id": "be26388c",
   "metadata": {},
   "source": [
    "$$ y' = F(x,y) $$"
   ]
  },
  {
   "cell_type": "markdown",
   "id": "5ca3071b",
   "metadata": {
    "slideshow": {
     "slide_type": "slide"
    }
   },
   "source": [
    "$$ y'' = \\frac{d}{dx} F(x,y)  = \\frac{\\partial}{\\partial x}F(x,y) + \\frac{\\partial }{\\partial y}F(x,y) \\cdot \\frac{dy}{dx}$$"
   ]
  },
  {
   "cell_type": "markdown",
   "id": "22d19dff",
   "metadata": {
    "slideshow": {
     "slide_type": "slide"
    }
   },
   "source": [
    "## Referentes:\n",
    "\n",
    "* Larson. Cálculo. \n",
    "* Lambdify:  https://docs.sympy.org/latest/modules/utilities/lambdify.html  \n",
    "* sympify:  https://docs.sympy.org/latest/modules/core.html?highlight=sympify#sympy.core.sympify  \n",
    "* The dsolve() function of sympy: https://docs.sympy.org/latest/modules/solvers/ode.html"
   ]
  },
  {
   "cell_type": "code",
   "execution_count": null,
   "id": "0a7751c7",
   "metadata": {},
   "outputs": [],
   "source": []
  },
  {
   "cell_type": "markdown",
   "id": "7cf66d93",
   "metadata": {
    "slideshow": {
     "slide_type": "slide"
    }
   },
   "source": [
    "## Ensayo de funcionamiento del código "
   ]
  },
  {
   "cell_type": "code",
   "execution_count": null,
   "id": "f1ef162c",
   "metadata": {},
   "outputs": [],
   "source": [
    "from sympy import * \n",
    "import numpy as np \n",
    "\n",
    "yp = '2*x*y'\n",
    "\n",
    "x,y,x_,y_,C1 = symbols('x,y,x_,y_,C1')\n",
    "y_ = Function('y_')(x_)                  # establecemos que y_ es función de x_\n",
    "yp_sympy = sympify(yp, evaluate = False) # convierte la expresión del ususrio (un str) en una expresión de sympy\n",
    "yp_sympy_ = yp_sympy.subs({x:x_, y:y_})  # cambia x por x_  y y por y_ \n",
    "yp_numpy = lambdify([x,y], yp_sympy) \n",
    "ypp_numpy = lambdify( [x,y], (yp_numpy(x+0.0001,y) - yp_numpy(x,y))/0.0001 )\n",
    "    \n",
    "eq = Eq(diff(y_, x_), yp_sympy_)  # construye la ecuación diferencial en términos de sympy \n",
    "sol_gen = dsolve(eq, y_)          # halla la solución general \n",
    "eq_c = Eq( 1, sol_gen.rhs.subs({x_:1}) )  # sustituye la condición inicial \n",
    "      # el parámetro de la solución general lo vuelve una variable simbólica de sympy\n",
    "Const = solve(eq_c,C1)\n",
    "Const = Const[0] \n",
    "sol_pvi_sympy = sol_gen.subs({C1:Const})   # solución exacta \n",
    "round(float(sol_pvi_sympy.rhs.subs({x_:1.1})),2)      "
   ]
  },
  {
   "cell_type": "code",
   "execution_count": null,
   "id": "ad4fa314",
   "metadata": {},
   "outputs": [],
   "source": [
    "def sol_exact(t):\n",
    "    return np.exp(t**2-1) "
   ]
  },
  {
   "cell_type": "code",
   "execution_count": null,
   "id": "673ae3e8",
   "metadata": {},
   "outputs": [],
   "source": [
    "t = np.arange(1,1.6,0.1)\n",
    "sol_exact(t)"
   ]
  },
  {
   "cell_type": "markdown",
   "id": "45cf3009",
   "metadata": {
    "slideshow": {
     "slide_type": "slide"
    }
   },
   "source": [
    "## Referentes \n",
    "\n",
    "* denriquebarros@unicesar.edu.co \n",
    "* baflorezs@ufpso.edu.co  \n",
    "* 3224769126  \n"
   ]
  },
  {
   "cell_type": "code",
   "execution_count": null,
   "id": "943725d6",
   "metadata": {},
   "outputs": [],
   "source": []
  }
 ],
 "metadata": {
  "celltoolbar": "Slideshow",
  "kernelspec": {
   "display_name": "Python 3",
   "language": "python",
   "name": "python3"
  },
  "language_info": {
   "codemirror_mode": {
    "name": "ipython",
    "version": 3
   },
   "file_extension": ".py",
   "mimetype": "text/x-python",
   "name": "python",
   "nbconvert_exporter": "python",
   "pygments_lexer": "ipython3",
   "version": "3.8.8"
  },
  "latex_envs": {
   "LaTeX_envs_menu_present": true,
   "autoclose": false,
   "autocomplete": false,
   "bibliofile": "biblio.bib",
   "cite_by": "apalike",
   "current_citInitial": 1,
   "eqLabelWithNumbers": true,
   "eqNumInitial": 1,
   "hotkeys": {
    "equation": "Ctrl-E",
    "itemize": "Ctrl-I"
   },
   "labels_anchors": false,
   "latex_user_defs": false,
   "report_style_numbering": false,
   "user_envs_cfg": false
  },
  "rise": {
   "enable_chalkboard": true,
   "theme": "sky",
   "transition": "zoom"
  }
 },
 "nbformat": 4,
 "nbformat_minor": 5
}
